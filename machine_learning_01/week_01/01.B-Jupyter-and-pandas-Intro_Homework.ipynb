{
 "cells": [
  {
   "cell_type": "markdown",
   "metadata": {
    "pycharm": {
     "name": "#%% md\n"
    }
   },
   "source": [
    "<a id=\"U1A-Top\"></a>\n",
    "\n",
    "# Unit 1, Lesson A: Introduction to Jupyter and pandas\n",
    "Not the planet and the animal; the Python tools for data analytics!\n",
    "\n",
    "## Table of Contents\n",
    "\n",
    "* [Getting Started](#U1A-Getting-Started)\n",
    "* [Introduction to pandas](#Introduction-to-pandas)\n",
    "* Exercises\n",
    "  * [1](#U1A-Exercise-1), [2](#U1A-Exercise-2), [3](#U1A-Exercise-3), [4](#U1A-Exercise-4)\n",
    "* [Exercise Answers](#U1A-Exercise-Answers)\n",
    "* [Next Steps](#U1A-Next-Steps)\n",
    "* [Additional Resources](#U1A-Additional-Resources)\n",
    "* [Glossary](#U1A-Glossary)\n",
    "\n",
    "<hr>"
   ]
  },
  {
   "cell_type": "markdown",
   "metadata": {},
   "source": [
    "<a id=\"U1A-Getting-Started\"></a>\n",
    "\n",
    "## Getting Started\n",
    "\n",
    "We are using Jupyter Notebooks for the majority of our work. We will connect to databases, visualize data, perform advanced statistics, and more in this course! But first, let's learn the basics of Jupyter Notebooks.\n"
   ]
  },
  {
   "cell_type": "markdown",
   "metadata": {
    "pycharm": {
     "name": "#%% md\n"
    }
   },
   "source": [
    "### Using Jupyter Notebooks\n",
    "To execute a cell, click in it and press `SHIFT`-`ENTER` on the keyboard, click the \"Run selected cells and advance\" button (it looks like the \"Play\" button at the top of your notebook window), or select \"Cell\" and \"Run Cells\" from the Jupyter Lab menu.\n",
    "\n",
    "<br>\n",
    "\n",
    "![Running cells in Jupyter screenshot](run_cells.jpg)\n",
    "\n",
    "Frequently used keyboard shortcuts:\n",
    "\n",
    "`ENTER` - Begin data entry mode in the selected cell\n",
    "\n",
    "`m` - While not in data entry mode, change selected cell to Markdown\n",
    "\n",
    "`y` - While not in data entry mode, change selected cell to Code\n",
    "\n",
    "`a` - Add a new cell **A**bove the selected cell\n",
    "\n",
    "`b` - Add a new cell **B**elow the selected cell\n",
    "\n",
    "`x` - Delete the selected cell (when not in data entry mode)\n",
    "\n",
    "`z` - Undo cell operation\n",
    "\n",
    "`ESC` - Exit data entry mode on the selected cell"
   ]
  },
  {
   "cell_type": "markdown",
   "metadata": {
    "pycharm": {
     "name": "#%% md\n"
    }
   },
   "source": [
    "### Installing Python Packages\n",
    "This notebook makes use of an important third-party library called [pandas](https://pandas.pydata.org/). Let's make sure it's installed in our VMWare instance before continuing the lesson.\n",
    "\n",
    "The VMWare **CSCC Windows 12HR Logoff** virtual machine instance has a pre-installed Python package manager, [Anaconda](https://www.anaconda.com/download). We use Anaconda in this course to provide the tools needed to use Jupyter Notebooks and to manage Python packages; therefore, it is a best practice to use the `conda` package manager command line tool to install new packages. If the \"Getting Started\" guide has been followed, all of the add-on packages should already be installed, and we can verify that the `pandas` package installed correctly by running the following command in a code cell, like so:\n",
    "\n",
    "``` bash\n",
    "    # run commands as if using the Terminal by prefacing the command with the exclamation character (!)\n",
    "    !conda list -n cscc_env pandas\n",
    "```\n",
    "\n",
    "Here, we are specifying the command, `conda` be used to `list` the package, `pandas`, available in the environment, `cscc_env` (the `-n` tells the `conda list` command to look for the environment named (`-n`) some name, in this case, `cscc_env`). If the package is installed, the notebook will output the following result:\n",
    "\n",
    "``` python\n",
    "    # packages in environment at C:\\Users\\<your username>\\.conda\\envs\\cscc_env:\n",
    "    #\n",
    "    # Name                    Version          Build  Channel\n",
    "    geopandas                 0.9.0                      py_1  \n",
    "    geopandas-base            0.9.0                      py_1  \n",
    "    pandas                    1.4.4            py38hd77b12b_0  \n",
    "    pandas-datareader         0.10.0             pyhd3eb1b0_0  \n",
    "```\n",
    "\n",
    "The reason we see packages listed other than the `pandas` package is that these other packages have `pandas` listed in their name.\n",
    "\n",
    "**NOTE:** *Within VMWare, this should be all that is necessary to validate that any given notebook in this course can be completed. If using a personal computer or working outside of VMWare, or in a virtual environment other than **cscc_env**, the following commands can be used to install packages.*\n",
    "\n",
    "<hr>\n",
    "\n",
    "If the package is not installed, no package name will be listed, and no version or build channel information will be displayed. If the package is not yet installed, installing it is as simple as running the following command in an Anaconda Prompt shell running as Administrator to install it, like so:\n",
    "\n",
    "``` python\n",
    "    conda install pandas\n",
    "```\n",
    "\n",
    "Because this command requires interaction in a separate console window, and requires interaction to accept or decline any installation of package(s), we can also add a few parameters to automate the installation and search all official repositories for the packages we want to install:\n",
    "\n",
    "``` python\n",
    "    !conda install -c conda-forge --yes pandas\n",
    "```\n",
    "\n",
    "For a variety of reasons, the Conda package manager does not always have access to every package available for Python. We can use the the [pip](https://pip.pypa.io/en/stable/) tool to install these libraries. Typically this tool is executed from the command line but we can call it from within the notebook using `!` to execute shell commands. Though it's possible to use `!pip` to execute pip, this can cause problems in some environments. Instead, we get the path to the current python interpreter and run it with the pip module.\n",
    "\n",
    "**NOTE:** If you are using an older version of Mac OS X, use `!pip3` instead of `!pip`. We are using the Python 3.x interpreter via Jupyter Notebooks. Python 3.x is different from the Python 2.x interpreter that is part of the core Mac OS X systems through Mac OS 10.14 (Mojave). Mojave was the latest Mac OS until October 6, 2019. As of Mac OS 10.15 (Catalina), which was released October 7, 2019, Python 3.x is the default version of Python."
   ]
  },
  {
   "cell_type": "code",
   "execution_count": null,
   "metadata": {
    "pycharm": {
     "name": "#%%\n"
    }
   },
   "outputs": [],
   "source": [
    "!conda list -n cscc_env pandas"
   ]
  },
  {
   "cell_type": "markdown",
   "metadata": {},
   "source": [
    "Now that the `pandas` package is installed, we can continue learning how to use the `pandas` package to manipulate data!"
   ]
  },
  {
   "cell_type": "markdown",
   "metadata": {
    "pycharm": {
     "name": "#%% md\n"
    }
   },
   "source": [
    "## Introduction to pandas "
   ]
  },
  {
   "cell_type": "markdown",
   "metadata": {
    "pycharm": {
     "name": "#%% md\n"
    }
   },
   "source": [
    "Before loading data with `pandas`, let's explore two of the common data structures `pandas` provides: the [**Series**](https://pandas.pydata.org/pandas-docs/stable/generated/pandas.Series.html) and the [**DataFrame**](https://pandas.pydata.org/pandas-docs/stable/generated/pandas.DataFrame.html). A Series is used to store one-dimensional data while a DataFrame can be used for two-dimensional, or tabular, data. In statistics, we typically refer to a pandas *Series* as a **variable**, and a pandas *DataFrame* can be considered a statistical **table** or in more popular terms, a spreadsheet.\n",
    "\n",
    "To begin, we import the `pandas` module and follow the convention of giving it an alias name of `pd` to save ourselves some typing when referring to methods and functions contained within `pandas`."
   ]
  },
  {
   "cell_type": "code",
   "execution_count": 1,
   "metadata": {
    "pycharm": {
     "name": "#%%\n"
    }
   },
   "outputs": [],
   "source": [
    "import pandas as pd"
   ]
  },
  {
   "cell_type": "markdown",
   "metadata": {
    "pycharm": {
     "name": "#%% md\n"
    }
   },
   "source": [
    "With `pandas` imported, we can create a *Series*. While there are a variety of ways to do this, we'll use a list here."
   ]
  },
  {
   "cell_type": "code",
   "execution_count": null,
   "metadata": {
    "pycharm": {
     "name": "#%%\n"
    }
   },
   "outputs": [],
   "source": [
    "data_list = [1, 2, 3, 4, 5]\n",
    "data_series = pd.Series(data_list)"
   ]
  },
  {
   "cell_type": "markdown",
   "metadata": {
    "pycharm": {
     "name": "#%% md\n"
    }
   },
   "source": [
    "To view the contents of the *Series*, we can use the [`print()` function](https://jupyter-notebook.readthedocs.io/en/stable/examples/Notebook/Running%20Code.html#sys.stdout-and-sys.stderr) from Jupyter or the [`display()` function](https://ipython.readthedocs.io/en/stable/api/generated/IPython.display.html) function from the predecessor to Jupyter, IPython."
   ]
  },
  {
   "cell_type": "code",
   "execution_count": null,
   "metadata": {
    "pycharm": {
     "name": "#%%\n"
    }
   },
   "outputs": [],
   "source": [
    "#Jupyter\n",
    "print(data_series)"
   ]
  },
  {
   "cell_type": "code",
   "execution_count": null,
   "metadata": {
    "pycharm": {
     "name": "#%%\n"
    }
   },
   "outputs": [],
   "source": [
    "#iPython\n",
    "display(data_series)"
   ]
  },
  {
   "cell_type": "markdown",
   "metadata": {
    "pycharm": {
     "name": "#%% md\n"
    }
   },
   "source": [
    "When using a notebook, we can also display its contents by referencing the *Series* on the last line of a cell.\n",
    "\n",
    "<hr>\n",
    "\n",
    "<a id=\"U1A-Exercise-1\"></a>\n",
    "\n",
    "<mark> **Excercise 1** In the cell below, display the contents of the Series stored in the `data_series` variable by referencing the *Series* on the last line of the cell - here, this is also the only line in the cell.</mark>"
   ]
  },
  {
   "cell_type": "code",
   "execution_count": 5,
   "metadata": {
    "nbgrader": {
     "grade": false,
     "grade_id": "unit1exercise1",
     "locked": false,
     "schema_version": 3,
     "solution": true,
     "task": false
    },
    "pycharm": {
     "name": "#%%\n"
    }
   },
   "outputs": [
    {
     "data": {
      "text/plain": [
       "0    1\n",
       "1    2\n",
       "2    3\n",
       "3    4\n",
       "4    5\n",
       "dtype: int64"
      ]
     },
     "execution_count": 5,
     "metadata": {},
     "output_type": "execute_result"
    }
   ],
   "source": [
    "data_series"
   ]
  },
  {
   "cell_type": "markdown",
   "metadata": {
    "pycharm": {
     "name": "#%% md\n"
    }
   },
   "source": [
    "[Top](#U1A-Top)\n",
    "\n",
    "<hr>\n",
    "\n",
    "To access the values stored in the *Series* themselves, we can use the `values` attribute. Here, the values are stored using a [NumPy](http://www.numpy.org/) array. NumPy is a scientific computing package, and it is useful for working with numerical or high-volume data; the pandas package relies heavily on NumPy functionality to provide the ease of use available in pandas. NumPy arrays have methods that allow us to transform an array to a traditional Python data structure, such as a list; a pandas *Series* exposes this functionality as well."
   ]
  },
  {
   "cell_type": "code",
   "execution_count": 9,
   "metadata": {
    "pycharm": {
     "name": "#%%\n"
    }
   },
   "outputs": [
    {
     "data": {
      "text/plain": [
       "array([1, 2, 3, 4, 5])"
      ]
     },
     "execution_count": 9,
     "metadata": {},
     "output_type": "execute_result"
    }
   ],
   "source": [
    "# access the values of a Series\n",
    "data_series.values"
   ]
  },
  {
   "cell_type": "code",
   "execution_count": null,
   "metadata": {
    "pycharm": {
     "name": "#%%\n"
    }
   },
   "outputs": [],
   "source": [
    "# convert the array of values to a list\n",
    "data_series.values.tolist()"
   ]
  },
  {
   "cell_type": "code",
   "execution_count": null,
   "metadata": {
    "pycharm": {
     "name": "#%%\n"
    }
   },
   "outputs": [],
   "source": [
    "# convert the Series to a list using the underlying array's tolist() method,\n",
    "# which is the same as the previous statement\n",
    "data_series.tolist()"
   ]
  },
  {
   "cell_type": "markdown",
   "metadata": {
    "pycharm": {
     "name": "#%% md\n"
    }
   },
   "source": [
    "Notice that we didn't have to use the `print()` or `display()` functions to display content. If the last statement of a cell is an object by itself or an operation that doesn't assign the value to a variable, then Jupyter will display the string representation of that object or result as though the `print()` function was called. For example, because `data.values` was the last statement of the cell, the content of `data.values` was displayed.\n",
    "\n",
    "As noted earlier, values in a *Series* are also associated with an index. We can manually specify an index or allow pandas to generate one as was done for our *Series*, `data_series`. To access the index, we can use the *Series* `index` attribute."
   ]
  },
  {
   "cell_type": "code",
   "execution_count": 6,
   "metadata": {
    "pycharm": {
     "name": "#%%\n"
    }
   },
   "outputs": [
    {
     "data": {
      "text/plain": [
       "RangeIndex(start=0, stop=5, step=1)"
      ]
     },
     "execution_count": 6,
     "metadata": {},
     "output_type": "execute_result"
    }
   ],
   "source": [
    "# show Series index\n",
    "data_series.index"
   ]
  },
  {
   "cell_type": "markdown",
   "metadata": {
    "pycharm": {
     "name": "#%% md\n"
    }
   },
   "source": [
    "The automatically-generated index is represented by the `RangeIndex` class that describes what an index of a *Series* is. This approach is a more memory-efficient way of storing the index data than creating an array containing each value. If necessary, we can generate the corresponding array using the `values` attribute on the index itself.\n",
    "\n",
    "<hr>\n",
    "\n",
    "<a name=\"U1A-Exercise-2\"></a><mark> **Exercise 2** In the cell below, use the `values` attribute of `data.index` to display the underlying array positions where each data element is stored.\n",
    "</mark>"
   ]
  },
  {
   "cell_type": "code",
   "execution_count": 11,
   "metadata": {
    "nbgrader": {
     "grade": false,
     "grade_id": "unit1exercise2",
     "locked": false,
     "schema_version": 3,
     "solution": true,
     "task": false
    },
    "pycharm": {
     "name": "#%%\n"
    }
   },
   "outputs": [
    {
     "data": {
      "text/plain": [
       "array([0, 1, 2, 3, 4])"
      ]
     },
     "execution_count": 11,
     "metadata": {},
     "output_type": "execute_result"
    }
   ],
   "source": [
    "data_series.index.values"
   ]
  },
  {
   "cell_type": "markdown",
   "metadata": {
    "pycharm": {
     "name": "#%% md\n"
    }
   },
   "source": [
    "[Top](#U1A-Top)\n",
    "\n",
    "<hr>\n",
    "\n",
    "To access elements within a *Series*, we can use the same bracket notation used with other data structures in Python, such as lists. For example, to access the second element we can execute `data[1]`. As with most other data structures in Python, *Series* are zero-indexed and begin numbering at zero."
   ]
  },
  {
   "cell_type": "code",
   "execution_count": null,
   "metadata": {
    "pycharm": {
     "name": "#%%\n"
    }
   },
   "outputs": [],
   "source": [
    "# access the second element in the Series, which has a value of 2\n",
    "data_series[1]"
   ]
  },
  {
   "cell_type": "markdown",
   "metadata": {
    "pycharm": {
     "name": "#%% md\n"
    }
   },
   "source": [
    "*Series*, like *Lists*, also support slicing. Just as with *List* slicing, we specify the index range to extract the portions of the *Series* that we are interested in obtaining. In the following code, remember that element **1** is actually the second element in our *Series* because element **0** would be the first element, while element **4** corresponds to the fourth element in our *Series*, in this case, where the index number is **3**."
   ]
  },
  {
   "cell_type": "code",
   "execution_count": 12,
   "metadata": {
    "pycharm": {
     "name": "#%%\n"
    }
   },
   "outputs": [
    {
     "data": {
      "text/plain": [
       "1    2\n",
       "2    3\n",
       "3    4\n",
       "dtype: int64"
      ]
     },
     "execution_count": 12,
     "metadata": {},
     "output_type": "execute_result"
    }
   ],
   "source": [
    "# slice of elements from index 1 to index 4\n",
    "data_series[1:4]"
   ]
  },
  {
   "cell_type": "markdown",
   "metadata": {
    "pycharm": {
     "name": "#%% md\n"
    }
   },
   "source": [
    "<hr>\n",
    "\n",
    "When creating a *Series*, we can specify the index using the `index` keyword argument. As shown in the example below, an index does not need to be numeric."
   ]
  },
  {
   "cell_type": "code",
   "execution_count": 17,
   "metadata": {
    "pycharm": {
     "name": "#%%\n"
    }
   },
   "outputs": [
    {
     "data": {
      "text/plain": [
       "Mon    60\n",
       "Tue    65\n",
       "Wed    68\n",
       "Thu    63\n",
       "Fri    61\n",
       "dtype: int64"
      ]
     },
     "execution_count": 17,
     "metadata": {},
     "output_type": "execute_result"
    }
   ],
   "source": [
    "# series with index specified\n",
    "temperature_data = pd.Series([60, 65, 68, 63, 61], index=[\"Mon\", \"Tue\", \"Wed\", \"Thu\", \"Fri\"])\n",
    "temperature_data"
   ]
  },
  {
   "cell_type": "markdown",
   "metadata": {
    "pycharm": {
     "name": "#%% md\n"
    }
   },
   "source": [
    "When working with a non-numeric index, we can still access elements in a *Series* using bracket or slice notation. Note that slices include the last element in the slice when working with non-numeric indexes."
   ]
  },
  {
   "cell_type": "code",
   "execution_count": 22,
   "metadata": {
    "pycharm": {
     "name": "#%%\n"
    }
   },
   "outputs": [
    {
     "data": {
      "text/plain": [
       "np.int64(60)"
      ]
     },
     "execution_count": 22,
     "metadata": {},
     "output_type": "execute_result"
    }
   ],
   "source": [
    "# access an element using bracket notation and a single index label\n",
    "temperature_data[\"Mon\"]"
   ]
  },
  {
   "cell_type": "code",
   "execution_count": 20,
   "metadata": {},
   "outputs": [
    {
     "data": {
      "text/plain": [
       "Mon    60\n",
       "Tue    65\n",
       "Wed    68\n",
       "Thu    63\n",
       "dtype: int64"
      ]
     },
     "execution_count": 20,
     "metadata": {},
     "output_type": "execute_result"
    }
   ],
   "source": [
    "temperature_data[\"Mon\":\"Thu\"]"
   ]
  },
  {
   "cell_type": "markdown",
   "metadata": {
    "pycharm": {
     "name": "#%% md\n"
    }
   },
   "source": [
    "[Top](#U1A-Top)\n",
    "\n",
    "<hr>\n",
    "\n",
    "<a name=\"U1A-Exercise-3\"></a>\n",
    "\n",
    "<mark> **Exercise 3** In the cell below, use bracket notation and slicing to access values with index labels between \"Mon\" and \"Thu\".\n",
    "</mark>"
   ]
  },
  {
   "cell_type": "code",
   "execution_count": null,
   "metadata": {
    "nbgrader": {
     "grade": false,
     "grade_id": "unit1exercise3",
     "locked": false,
     "schema_version": 3,
     "solution": true,
     "task": false
    },
    "pycharm": {
     "name": "#%%\n"
    }
   },
   "outputs": [
    {
     "data": {
      "text/plain": [
       "Tue    65\n",
       "Wed    68\n",
       "dtype: int64"
      ]
     },
     "execution_count": 23,
     "metadata": {},
     "output_type": "execute_result"
    }
   ],
   "source": [
    "# Assuming \"between\" is inclusive\n",
    "temperature_data[\"Mon\":\"Thu\"]\n",
    "\n",
    "# Assuming \"between\" is exclusive\n",
    "# temperature_data[\"Tue\":\"Wed\"]"
   ]
  },
  {
   "cell_type": "markdown",
   "metadata": {
    "pycharm": {
     "name": "#%% md\n"
    }
   },
   "source": [
    "[Top](#U1A-Top)\n",
    "\n",
    "<hr>\n",
    "\n",
    "The pandas library supports working with data from a variety of sources and data structures. In previous examples, we created *Series* objects using lists. Below is an example in which a *Series* is created from a dictionary. Note that prior to Python 3.7, the order of dictionary keys is not guaranteed; this affects the order in which values appear in the *Series*. Since we are using Python version 3.8+ you won't notice this unordered storage, but you should be aware of this nuance of prior versions of Python."
   ]
  },
  {
   "cell_type": "code",
   "execution_count": 24,
   "metadata": {
    "pycharm": {
     "name": "#%%\n"
    }
   },
   "outputs": [
    {
     "data": {
      "text/plain": [
       "{'Mon': 60, 'Tue': 65, 'Wed': 68, 'Thu': 63, 'Fri': 61}"
      ]
     },
     "execution_count": 24,
     "metadata": {},
     "output_type": "execute_result"
    }
   ],
   "source": [
    "# dictionary of temperatures\n",
    "temperatures = {\"Mon\": 60, \"Tue\": 65, \"Wed\": 68, \"Thu\": 63, \"Fri\": 61}\n",
    "temperatures"
   ]
  },
  {
   "cell_type": "code",
   "execution_count": 25,
   "metadata": {
    "pycharm": {
     "name": "#%%\n"
    }
   },
   "outputs": [
    {
     "data": {
      "text/plain": [
       "Mon    60\n",
       "Tue    65\n",
       "Wed    68\n",
       "Thu    63\n",
       "Fri    61\n",
       "dtype: int64"
      ]
     },
     "execution_count": 25,
     "metadata": {},
     "output_type": "execute_result"
    }
   ],
   "source": [
    "# create a Series from a dictionary\n",
    "temps = pd.Series(temperatures)\n",
    "temps"
   ]
  },
  {
   "cell_type": "code",
   "execution_count": 26,
   "metadata": {
    "pycharm": {
     "name": "#%%\n"
    }
   },
   "outputs": [
    {
     "data": {
      "text/plain": [
       "Mon    60\n",
       "Tue    65\n",
       "Wed    68\n",
       "Thu    63\n",
       "dtype: int64"
      ]
     },
     "execution_count": 26,
     "metadata": {},
     "output_type": "execute_result"
    }
   ],
   "source": [
    "# slicing\n",
    "temps[\"Mon\":\"Thu\"]"
   ]
  },
  {
   "cell_type": "markdown",
   "metadata": {
    "pycharm": {
     "name": "#%% md\n"
    }
   },
   "source": [
    "The pandas library provides the *DataFrame* data structure for use with two-dimensional data. One can think of the *DataFrame* as an extension of a *Series* in the sense that a *DataFrame* consists of multiple *Series*. For example, suppose we have two *Series* representing high and low daily temperatures."
   ]
  },
  {
   "cell_type": "code",
   "execution_count": 27,
   "metadata": {
    "pycharm": {
     "name": "#%%\n"
    }
   },
   "outputs": [
    {
     "data": {
      "text/plain": [
       "Mon    52\n",
       "Tue    49\n",
       "Wed    55\n",
       "Thu    53\n",
       "Fri    51\n",
       "dtype: int64"
      ]
     },
     "metadata": {},
     "output_type": "display_data"
    },
    {
     "data": {
      "text/plain": [
       "Mon    60\n",
       "Tue    65\n",
       "Wed    68\n",
       "Fri    61\n",
       "Thu    63\n",
       "dtype: int64"
      ]
     },
     "metadata": {},
     "output_type": "display_data"
    }
   ],
   "source": [
    "# two Series\n",
    "low_temps = pd.Series({\"Mon\": 52, \"Tue\": 49, \"Wed\": 55, \"Thu\": 53, \"Fri\": 51})\n",
    "high_temps = pd.Series({\"Mon\": 60, \"Tue\": 65, \"Wed\": 68, \"Fri\": 61, \"Thu\": 63})\n",
    "display(low_temps, high_temps)"
   ]
  },
  {
   "cell_type": "markdown",
   "metadata": {
    "pycharm": {
     "name": "#%% md\n"
    }
   },
   "source": [
    "When creating a *DataFrame*, we can specify a dictionary where keys represent column names and the corresponding values are the *Series* containing data. Below, the `forecast` *DataFrame* is created with the two *Series* created earlier. Note that the keys of our original *Series* of dictionary items become the row heading, or `index`, of our *DataFrame*."
   ]
  },
  {
   "cell_type": "code",
   "execution_count": 28,
   "metadata": {
    "pycharm": {
     "name": "#%%\n"
    }
   },
   "outputs": [
    {
     "data": {
      "text/html": [
       "<div>\n",
       "<style scoped>\n",
       "    .dataframe tbody tr th:only-of-type {\n",
       "        vertical-align: middle;\n",
       "    }\n",
       "\n",
       "    .dataframe tbody tr th {\n",
       "        vertical-align: top;\n",
       "    }\n",
       "\n",
       "    .dataframe thead th {\n",
       "        text-align: right;\n",
       "    }\n",
       "</style>\n",
       "<table border=\"1\" class=\"dataframe\">\n",
       "  <thead>\n",
       "    <tr style=\"text-align: right;\">\n",
       "      <th></th>\n",
       "      <th>high</th>\n",
       "      <th>low</th>\n",
       "    </tr>\n",
       "  </thead>\n",
       "  <tbody>\n",
       "    <tr>\n",
       "      <th>Fri</th>\n",
       "      <td>61</td>\n",
       "      <td>51</td>\n",
       "    </tr>\n",
       "    <tr>\n",
       "      <th>Mon</th>\n",
       "      <td>60</td>\n",
       "      <td>52</td>\n",
       "    </tr>\n",
       "    <tr>\n",
       "      <th>Thu</th>\n",
       "      <td>63</td>\n",
       "      <td>53</td>\n",
       "    </tr>\n",
       "    <tr>\n",
       "      <th>Tue</th>\n",
       "      <td>65</td>\n",
       "      <td>49</td>\n",
       "    </tr>\n",
       "    <tr>\n",
       "      <th>Wed</th>\n",
       "      <td>68</td>\n",
       "      <td>55</td>\n",
       "    </tr>\n",
       "  </tbody>\n",
       "</table>\n",
       "</div>"
      ],
      "text/plain": [
       "     high  low\n",
       "Fri    61   51\n",
       "Mon    60   52\n",
       "Thu    63   53\n",
       "Tue    65   49\n",
       "Wed    68   55"
      ]
     },
     "execution_count": 28,
     "metadata": {},
     "output_type": "execute_result"
    }
   ],
   "source": [
    "# create a dataframe from two series\n",
    "forecast = pd.DataFrame({\"high\": high_temps, \"low\": low_temps})\n",
    "forecast "
   ]
  },
  {
   "cell_type": "markdown",
   "metadata": {
    "pycharm": {
     "name": "#%% md\n"
    }
   },
   "source": [
    "Notice that pandas automatically aligns *Series*' data based on index values. The combined indexes of the *Series* serve as the index for the *DataFrame*. If you review the last two code steps you will notice that we assigned the high temperature for Friday before the high temperature for Thursday. While the indexes matched, and therefore joined the correct high and low temperatures for each day, the `forecast` *DataFrame* then ordered our two *Series* by picking the alphabetical ordering of the dictionary key of day names (Fri, Mon, Thu, Tue, and Wed). We can specify the order of the index when we create the *DataFrame* to make the ordering more logical."
   ]
  },
  {
   "cell_type": "code",
   "execution_count": 29,
   "metadata": {
    "pycharm": {
     "name": "#%%\n"
    }
   },
   "outputs": [
    {
     "data": {
      "text/html": [
       "<div>\n",
       "<style scoped>\n",
       "    .dataframe tbody tr th:only-of-type {\n",
       "        vertical-align: middle;\n",
       "    }\n",
       "\n",
       "    .dataframe tbody tr th {\n",
       "        vertical-align: top;\n",
       "    }\n",
       "\n",
       "    .dataframe thead th {\n",
       "        text-align: right;\n",
       "    }\n",
       "</style>\n",
       "<table border=\"1\" class=\"dataframe\">\n",
       "  <thead>\n",
       "    <tr style=\"text-align: right;\">\n",
       "      <th></th>\n",
       "      <th>high</th>\n",
       "      <th>low</th>\n",
       "    </tr>\n",
       "  </thead>\n",
       "  <tbody>\n",
       "    <tr>\n",
       "      <th>Mon</th>\n",
       "      <td>60</td>\n",
       "      <td>52</td>\n",
       "    </tr>\n",
       "    <tr>\n",
       "      <th>Tue</th>\n",
       "      <td>65</td>\n",
       "      <td>49</td>\n",
       "    </tr>\n",
       "    <tr>\n",
       "      <th>Wed</th>\n",
       "      <td>68</td>\n",
       "      <td>55</td>\n",
       "    </tr>\n",
       "    <tr>\n",
       "      <th>Thu</th>\n",
       "      <td>63</td>\n",
       "      <td>53</td>\n",
       "    </tr>\n",
       "    <tr>\n",
       "      <th>Fri</th>\n",
       "      <td>61</td>\n",
       "      <td>51</td>\n",
       "    </tr>\n",
       "  </tbody>\n",
       "</table>\n",
       "</div>"
      ],
      "text/plain": [
       "     high  low\n",
       "Mon    60   52\n",
       "Tue    65   49\n",
       "Wed    68   55\n",
       "Thu    63   53\n",
       "Fri    61   51"
      ]
     },
     "execution_count": 29,
     "metadata": {},
     "output_type": "execute_result"
    }
   ],
   "source": [
    "# specify index order\n",
    "forecast = pd.DataFrame({\"high\": high_temps, \"low\": low_temps}, index=[\"Mon\", \"Tue\", \"Wed\", \"Thu\", \"Fri\"])\n",
    "forecast"
   ]
  },
  {
   "cell_type": "markdown",
   "metadata": {
    "pycharm": {
     "name": "#%% md\n"
    }
   },
   "source": [
    "Just as we could with Series, we can access the index of a *DataFrame* using the `index` attribute."
   ]
  },
  {
   "cell_type": "code",
   "execution_count": 30,
   "metadata": {
    "pycharm": {
     "name": "#%%\n"
    }
   },
   "outputs": [
    {
     "data": {
      "text/plain": [
       "Index(['Mon', 'Tue', 'Wed', 'Thu', 'Fri'], dtype='object')"
      ]
     },
     "execution_count": 30,
     "metadata": {},
     "output_type": "execute_result"
    }
   ],
   "source": [
    "# display index\n",
    "forecast.index"
   ]
  },
  {
   "cell_type": "markdown",
   "metadata": {
    "pycharm": {
     "name": "#%% md\n"
    }
   },
   "source": [
    "A *DataFrame*'s index serves to identify values in one dimension. For one-dimensional *Series* objects, a value for the index is sufficient to identify a specific value. Because *DataFrames* represent two-dimension data, an index is not enough to identify a specific value. In a *DataFrame*, column labels are used to identify the second dimension. To view a *DataFrame*'s columns, we can use the `columns` attribute."
   ]
  },
  {
   "cell_type": "code",
   "execution_count": 31,
   "metadata": {
    "pycharm": {
     "name": "#%%\n"
    }
   },
   "outputs": [
    {
     "data": {
      "text/plain": [
       "Index(['high', 'low'], dtype='object')"
      ]
     },
     "execution_count": 31,
     "metadata": {},
     "output_type": "execute_result"
    }
   ],
   "source": [
    "# display columns\n",
    "forecast.columns"
   ]
  },
  {
   "cell_type": "markdown",
   "metadata": {
    "pycharm": {
     "name": "#%% md\n"
    }
   },
   "source": [
    "To access values associated with a column, we can use bracket notation with the column name."
   ]
  },
  {
   "cell_type": "code",
   "execution_count": null,
   "metadata": {
    "pycharm": {
     "name": "#%%\n"
    }
   },
   "outputs": [],
   "source": [
    "# access a column using bracket notation\n",
    "forecast['high']"
   ]
  },
  {
   "cell_type": "markdown",
   "metadata": {
    "pycharm": {
     "name": "#%% md\n"
    }
   },
   "source": [
    "A *DataFrame* also has attributes corresponding to its columns allowing us to access column data using the dot operator."
   ]
  },
  {
   "cell_type": "code",
   "execution_count": null,
   "metadata": {
    "pycharm": {
     "name": "#%%\n"
    }
   },
   "outputs": [],
   "source": [
    "# accessing a column using an attribute\n",
    "forecast.high"
   ]
  },
  {
   "cell_type": "markdown",
   "metadata": {
    "pycharm": {
     "name": "#%% md\n"
    }
   },
   "source": [
    "Each *DataFrame* column is a *Series*, and we can verify this using the `type()` or `isinstance()` function."
   ]
  },
  {
   "cell_type": "code",
   "execution_count": 32,
   "metadata": {
    "pycharm": {
     "name": "#%%\n"
    }
   },
   "outputs": [
    {
     "data": {
      "text/plain": [
       "pandas.core.series.Series"
      ]
     },
     "execution_count": 32,
     "metadata": {},
     "output_type": "execute_result"
    }
   ],
   "source": [
    "# columns are Series\n",
    "type(forecast.high)"
   ]
  },
  {
   "cell_type": "code",
   "execution_count": null,
   "metadata": {
    "pycharm": {
     "name": "#%%\n"
    }
   },
   "outputs": [],
   "source": [
    "# columns are Series\n",
    "isinstance(forecast.high, pd.Series)"
   ]
  },
  {
   "cell_type": "markdown",
   "metadata": {
    "pycharm": {
     "name": "#%% md\n"
    }
   },
   "source": [
    "As with a *Series*, we can access data stored in a *DataFrame* using the `values` attribute."
   ]
  },
  {
   "cell_type": "code",
   "execution_count": 33,
   "metadata": {
    "pycharm": {
     "name": "#%%\n"
    }
   },
   "outputs": [
    {
     "data": {
      "text/plain": [
       "array([[60, 52],\n",
       "       [65, 49],\n",
       "       [68, 55],\n",
       "       [63, 53],\n",
       "       [61, 51]])"
      ]
     },
     "execution_count": 33,
     "metadata": {},
     "output_type": "execute_result"
    }
   ],
   "source": [
    "# underlying values\n",
    "forecast.values"
   ]
  },
  {
   "cell_type": "markdown",
   "metadata": {
    "pycharm": {
     "name": "#%% md\n"
    }
   },
   "source": [
    "Because the *DataFrame* represents two-dimensional data, its values are stored as a NumPy array of nested NumPy arrays where each inner array corresponds to a row. Like most objects that represent a collection, arrays support bracket notation. "
   ]
  },
  {
   "cell_type": "code",
   "execution_count": 34,
   "metadata": {
    "pycharm": {
     "name": "#%%\n"
    }
   },
   "outputs": [
    {
     "data": {
      "text/plain": [
       "array([60, 52])"
      ]
     },
     "execution_count": 34,
     "metadata": {},
     "output_type": "execute_result"
    }
   ],
   "source": [
    "# first row\n",
    "forecast.values[0]"
   ]
  },
  {
   "cell_type": "code",
   "execution_count": null,
   "metadata": {
    "pycharm": {
     "name": "#%%\n"
    }
   },
   "outputs": [],
   "source": [
    "# first row, second value\n",
    "forecast.values[0][1]"
   ]
  },
  {
   "cell_type": "markdown",
   "metadata": {
    "pycharm": {
     "name": "#%% md\n"
    }
   },
   "source": [
    "While this method of accessing data based on the *DataFrames* underlying array works, it is cumbersome. We can instead use the *DataFrame*'s index and columns. As we saw earlier, we can use a column's name to access its values."
   ]
  },
  {
   "cell_type": "code",
   "execution_count": 35,
   "metadata": {
    "pycharm": {
     "name": "#%%\n"
    }
   },
   "outputs": [
    {
     "data": {
      "text/plain": [
       "Mon    52\n",
       "Tue    49\n",
       "Wed    55\n",
       "Thu    53\n",
       "Fri    51\n",
       "Name: low, dtype: int64"
      ]
     },
     "execution_count": 35,
     "metadata": {},
     "output_type": "execute_result"
    }
   ],
   "source": [
    "# access column by name\n",
    "forecast['low']"
   ]
  },
  {
   "cell_type": "markdown",
   "metadata": {
    "pycharm": {
     "name": "#%% md\n"
    }
   },
   "source": [
    "To access a row, we rely on the index corresponding to the row and the *DataFrame*'s [`loc`](https://pandas.pydata.org/pandas-docs/stable/reference/api/pandas.DataFrame.loc.html) attribute."
   ]
  },
  {
   "cell_type": "code",
   "execution_count": 36,
   "metadata": {
    "pycharm": {
     "name": "#%%\n"
    }
   },
   "outputs": [
    {
     "data": {
      "text/plain": [
       "high    68\n",
       "low     55\n",
       "Name: Wed, dtype: int64"
      ]
     },
     "execution_count": 36,
     "metadata": {},
     "output_type": "execute_result"
    }
   ],
   "source": [
    "# access a row by index label\n",
    "forecast.loc['Wed']"
   ]
  },
  {
   "cell_type": "markdown",
   "metadata": {
    "pycharm": {
     "name": "#%% md\n"
    }
   },
   "source": [
    "The `forecast` *DataFrame* has string index values, but we can still use integers to specify a specific row through the use of the [`iloc`](https://pandas.pydata.org/pandas-docs/stable/reference/api/pandas.DataFrame.iloc.html) attribute."
   ]
  },
  {
   "cell_type": "code",
   "execution_count": null,
   "metadata": {
    "pycharm": {
     "name": "#%%\n"
    }
   },
   "outputs": [],
   "source": [
    "# access a row by position\n",
    "forecast.iloc[2]"
   ]
  },
  {
   "cell_type": "markdown",
   "metadata": {
    "pycharm": {
     "name": "#%% md\n"
    }
   },
   "source": [
    "We can combine these methods of accessing specific rows and columns to access a specific value within the DataFrame. "
   ]
  },
  {
   "cell_type": "code",
   "execution_count": 37,
   "metadata": {
    "pycharm": {
     "name": "#%%\n"
    }
   },
   "outputs": [
    {
     "data": {
      "text/plain": [
       "np.int64(55)"
      ]
     },
     "execution_count": 37,
     "metadata": {},
     "output_type": "execute_result"
    }
   ],
   "source": [
    "forecast.loc['Wed']['low']"
   ]
  },
  {
   "cell_type": "code",
   "execution_count": null,
   "metadata": {
    "pycharm": {
     "name": "#%%\n"
    }
   },
   "outputs": [],
   "source": [
    "forecast['low'].loc['Wed']"
   ]
  },
  {
   "cell_type": "markdown",
   "metadata": {
    "pycharm": {
     "name": "#%% md\n"
    }
   },
   "source": [
    "Alternatively, we can specify both the index and column name simultaneously when using `loc`, or the index and column numbers when using the [`iloc` function](https://pandas.pydata.org/docs/reference/api/pandas.DataFrame.iloc.html). Notice also how we wrap both statements below with the `print()` function to print two outputs at once in a single Jupyter code cell."
   ]
  },
  {
   "cell_type": "code",
   "execution_count": null,
   "metadata": {
    "pycharm": {
     "name": "#%%\n"
    }
   },
   "outputs": [],
   "source": [
    "print(forecast.loc['Wed', 'low'])\n",
    "print(forecast.iloc[2, 1])"
   ]
  },
  {
   "cell_type": "markdown",
   "metadata": {
    "pycharm": {
     "name": "#%% md\n"
    }
   },
   "source": [
    "Using column names and index values/labels to access data gives more context to what the corresponding data represents than using the *DataFrame*'s underlying array.\n",
    "\n",
    "We can also use slicing with a *DataFrame*'s index or columns. To specify a column slice, we must use the `loc` or `iloc` properties.\n",
    "\n",
    "<hr>\n",
    "\n",
    "<a name=\"U1A-Exercise-4\"></a>\n",
    "\n",
    "<mark> **Exercise 4** In the cell below, slicing with the *DataFrame*'s `loc` attribute to display rows where the index is between \"Mon\" and \"Wed\".\n",
    "</mark>"
   ]
  },
  {
   "cell_type": "code",
   "execution_count": 38,
   "metadata": {
    "nbgrader": {
     "grade": false,
     "grade_id": "unit1exercise4",
     "locked": false,
     "schema_version": 3,
     "solution": true,
     "task": false
    },
    "pycharm": {
     "name": "#%%\n"
    }
   },
   "outputs": [
    {
     "data": {
      "text/html": [
       "<div>\n",
       "<style scoped>\n",
       "    .dataframe tbody tr th:only-of-type {\n",
       "        vertical-align: middle;\n",
       "    }\n",
       "\n",
       "    .dataframe tbody tr th {\n",
       "        vertical-align: top;\n",
       "    }\n",
       "\n",
       "    .dataframe thead th {\n",
       "        text-align: right;\n",
       "    }\n",
       "</style>\n",
       "<table border=\"1\" class=\"dataframe\">\n",
       "  <thead>\n",
       "    <tr style=\"text-align: right;\">\n",
       "      <th></th>\n",
       "      <th>high</th>\n",
       "      <th>low</th>\n",
       "    </tr>\n",
       "  </thead>\n",
       "  <tbody>\n",
       "    <tr>\n",
       "      <th>Mon</th>\n",
       "      <td>60</td>\n",
       "      <td>52</td>\n",
       "    </tr>\n",
       "    <tr>\n",
       "      <th>Tue</th>\n",
       "      <td>65</td>\n",
       "      <td>49</td>\n",
       "    </tr>\n",
       "    <tr>\n",
       "      <th>Wed</th>\n",
       "      <td>68</td>\n",
       "      <td>55</td>\n",
       "    </tr>\n",
       "  </tbody>\n",
       "</table>\n",
       "</div>"
      ],
      "text/plain": [
       "     high  low\n",
       "Mon    60   52\n",
       "Tue    65   49\n",
       "Wed    68   55"
      ]
     },
     "execution_count": 38,
     "metadata": {},
     "output_type": "execute_result"
    }
   ],
   "source": [
    "forecast.loc[\"Mon\":\"Wed\"]"
   ]
  },
  {
   "cell_type": "markdown",
   "metadata": {
    "pycharm": {
     "name": "#%% md\n"
    }
   },
   "source": [
    "[Top](#U1A-Top)\n",
    "\n",
    "<hr>\n",
    "\n",
    "We can use slicing with columns and rows simultaneously. We will be using the [`.loc` function](https://pandas.pydata.org/pandas-docs/stable/reference/api/pandas.DataFrame.loc.html) which are part of the pandas DataFrame class. Using the `.loc` function allows us to reference rows and columns by label. Another, related function is the [`.iloc` function](https://pandas.pydata.org/pandas-docs/stable/reference/api/pandas.DataFrame.iloc.html), which is used to reference rows and/or columns by integer-location based index."
   ]
  },
  {
   "cell_type": "code",
   "execution_count": 39,
   "metadata": {
    "pycharm": {
     "name": "#%%\n"
    }
   },
   "outputs": [
    {
     "data": {
      "text/html": [
       "<div>\n",
       "<style scoped>\n",
       "    .dataframe tbody tr th:only-of-type {\n",
       "        vertical-align: middle;\n",
       "    }\n",
       "\n",
       "    .dataframe tbody tr th {\n",
       "        vertical-align: top;\n",
       "    }\n",
       "\n",
       "    .dataframe thead th {\n",
       "        text-align: right;\n",
       "    }\n",
       "</style>\n",
       "<table border=\"1\" class=\"dataframe\">\n",
       "  <thead>\n",
       "    <tr style=\"text-align: right;\">\n",
       "      <th></th>\n",
       "      <th>high</th>\n",
       "      <th>low</th>\n",
       "    </tr>\n",
       "  </thead>\n",
       "  <tbody>\n",
       "    <tr>\n",
       "      <th>Mon</th>\n",
       "      <td>60</td>\n",
       "      <td>52</td>\n",
       "    </tr>\n",
       "    <tr>\n",
       "      <th>Tue</th>\n",
       "      <td>65</td>\n",
       "      <td>49</td>\n",
       "    </tr>\n",
       "    <tr>\n",
       "      <th>Wed</th>\n",
       "      <td>68</td>\n",
       "      <td>55</td>\n",
       "    </tr>\n",
       "  </tbody>\n",
       "</table>\n",
       "</div>"
      ],
      "text/plain": [
       "     high  low\n",
       "Mon    60   52\n",
       "Tue    65   49\n",
       "Wed    68   55"
      ]
     },
     "execution_count": 39,
     "metadata": {},
     "output_type": "execute_result"
    }
   ],
   "source": [
    "# row and column slicing\n",
    "forecast.loc['Mon':'Wed', 'high':'low']"
   ]
  },
  {
   "cell_type": "markdown",
   "metadata": {
    "pycharm": {
     "name": "#%% md\n"
    }
   },
   "source": [
    "We can also use bracket notation to apply a **data mask** to a *DataFrame*. For example, if we want to view rows in which the high temperature is 65 or greater we can create the following mask. "
   ]
  },
  {
   "cell_type": "code",
   "execution_count": null,
   "metadata": {
    "pycharm": {
     "name": "#%%\n"
    }
   },
   "outputs": [],
   "source": [
    "# create a mask\n",
    "mask = forecast.high >= 65\n",
    "mask"
   ]
  },
  {
   "cell_type": "markdown",
   "metadata": {
    "pycharm": {
     "name": "#%% md\n"
    }
   },
   "source": [
    "Applying the mask to the *DataFrame* effectively filters the data."
   ]
  },
  {
   "cell_type": "code",
   "execution_count": null,
   "metadata": {
    "pycharm": {
     "name": "#%%\n"
    }
   },
   "outputs": [],
   "source": [
    "# apply a mask\n",
    "forecast[mask]"
   ]
  },
  {
   "cell_type": "markdown",
   "metadata": {
    "pycharm": {
     "name": "#%% md\n"
    }
   },
   "source": [
    "Another method for returning the rows involved in a mask that is still the same shape (same number of rows and columns as the original dataframe) is to use the `.where()` method on a DataFrame."
   ]
  },
  {
   "cell_type": "code",
   "execution_count": null,
   "metadata": {
    "pycharm": {
     "name": "#%%\n"
    }
   },
   "outputs": [],
   "source": [
    "# where() method applied\n",
    "forecast.where(forecast.high < 65)"
   ]
  },
  {
   "cell_type": "markdown",
   "metadata": {
    "pycharm": {
     "name": "#%% md\n"
    }
   },
   "source": [
    "Another advantage to using *DataFrames* is the ease with which we can manipulate the data. For example, the following line calculates the mean temperature value for each row and stores the value in a new column. Had we used another data structure, we might have had to write a for-loop to do this calculation."
   ]
  },
  {
   "cell_type": "code",
   "execution_count": null,
   "metadata": {
    "pycharm": {
     "name": "#%%\n"
    }
   },
   "outputs": [],
   "source": [
    "# calculate new column's values\n",
    "forecast['mean'] = (forecast['high'] + forecast['low']) / 2\n",
    "forecast"
   ]
  },
  {
   "cell_type": "markdown",
   "metadata": {
    "pycharm": {
     "name": "#%% md\n"
    }
   },
   "source": [
    "In fact, for performance reasons, we should try to avoid the use of `for`-loops when manipulating data stored in a *DataFrame*. A `for`-loop will certainly work if needed though. We can iterate through a *DataFrame*'s rows using the `iterrows()` method which returns the index and row content separately as we move from row to row."
   ]
  },
  {
   "cell_type": "code",
   "execution_count": null,
   "metadata": {
    "pycharm": {
     "name": "#%%\n"
    }
   },
   "outputs": [],
   "source": [
    "# display index and row data for each row\n",
    "for index, row in forecast.iterrows():\n",
    "    print(f\"Index: {index}\")\n",
    "    print(f\"Row: {row}\")"
   ]
  },
  {
   "cell_type": "markdown",
   "metadata": {
    "pycharm": {
     "name": "#%% md\n"
    }
   },
   "source": [
    "Similarly, we can use a loop to manipulate row values."
   ]
  },
  {
   "cell_type": "code",
   "execution_count": null,
   "metadata": {
    "pycharm": {
     "name": "#%%\n"
    }
   },
   "outputs": [],
   "source": [
    "# calculate difference using a for loop\n",
    "forecast['difference'] = 0  # create new column with all zeros\n",
    "for index, row in forecast.iterrows():   # iterrows creates a copy of the DataFrame, forecast...\n",
    "    row['difference'] = row['high'] - row['low']\n",
    "    forecast.loc[index] = row  # ... so we need to explicitly update the dataframe\n",
    "\n",
    "forecast"
   ]
  },
  {
   "cell_type": "markdown",
   "metadata": {
    "pycharm": {
     "name": "#%% md\n"
    }
   },
   "source": [
    "As we continue working with pandas, additional features will be explored. For a more in-depth introduction to pandas, see the [Python Data Science Handbook](https://jakevdp.github.io/PythonDataScienceHandbook/)."
   ]
  },
  {
   "cell_type": "markdown",
   "metadata": {
    "pycharm": {
     "name": "#%% md\n"
    }
   },
   "source": [
    "## Next Steps"
   ]
  },
  {
   "cell_type": "markdown",
   "metadata": {
    "pycharm": {
     "name": "#%% md\n"
    }
   },
   "source": [
    "Having a catalog of the data will help us determine if what we have is sufficient to continue with the project or if we'll need to gather more data. For example, if we had been asked to determine if factors such as debt-to-income ratio or an internal-assigned grade was reliable in determining whether a loan would be paid off or not, it would appear that we have enough data to proceed based on our initial description of the data. If, however, we were asked to give different weights to different types of existing debt (credit card balances versus home mortgages, for example), we would have to request additional data.\n",
    "\n",
    "Assuming we have sufficient data, our next step might be to further explore our data to characterize it and determine if any relationships exist. Before exploring data, however, the data must be transformed or cleaned to facilitate analysis. Often, data cleansing and exploration are interwoven tasks."
   ]
  },
  {
   "cell_type": "markdown",
   "metadata": {
    "pycharm": {
     "name": "#%% md\n"
    }
   },
   "source": [
    "<a id=\"U1A-Exercise-Answers\"></a>\n",
    "\n",
    "## Exercise Answers"
   ]
  },
  {
   "cell_type": "markdown",
   "metadata": {
    "pycharm": {
     "name": "#%% md\n"
    }
   },
   "source": [
    "1.  [Exercise 1](#U1A-Exercise-1)\n",
    "    ```python\n",
    "    data_series\n",
    "    ```\n",
    "    \n",
    "    \n",
    "2.  [Exercise 2](#U1A-Exercise-2)\n",
    "    ```python\n",
    "    data_series.index.values\n",
    "    ```\n",
    "\n",
    "\n",
    "3.  [Exercise 3](#U1A-Exercise-3)\n",
    "    ```python\n",
    "    temperature_data[\"Mon\":\"Thu\"]\n",
    "    ```\n",
    "\n",
    "\n",
    "4.  [Exercise 4](#U1A-Exercise-4)\n",
    "    ```python\n",
    "    forecast.loc['Mon':'Wed']\n",
    "    ```"
   ]
  },
  {
   "cell_type": "markdown",
   "metadata": {
    "pycharm": {
     "name": "#%% md\n"
    }
   },
   "source": [
    "<a id=\"U1A-Additional-Resources\"></a>\n",
    "\n",
    "## Additional Resources"
   ]
  },
  {
   "cell_type": "markdown",
   "metadata": {
    "pycharm": {
     "name": "#%% md\n"
    }
   },
   "source": [
    "- [CRISP-DM](https://en.wikipedia.org/wiki/Cross-industry_standard_process_for_data_mining)\n",
    "- [Data Science Workflow With Python](https://www.business-science.io/python-cheatsheet.html)\n",
    "- [Pandas Documentation](https://pandas.pydata.org/)\n",
    "- [*Python Data Analysis* by Fandango, Chapter 5: Retrieving, Processing, and Storing Data (Safari Books)](http://proquest.safaribooksonline.com.cscc.ohionet.org/book/programming/python/9781787127487/python-data-analysis-second-edition/ch05_html)\n",
    "- [*Python Data Science Handbook* by VanderPlas](https://jakevdp.github.io/PythonDataScienceHandbook/)\n",
    "- [*Python for Data Analysis* by Wes McKinney, Chapter 6: Data Loading, Storage, and File Formats (Safari Books)](http://proquest.safaribooksonline.com.cscc.ohionet.org/book/programming/python/9781491957653/data-loading-storage-and-file-formats/io_html)"
   ]
  },
  {
   "cell_type": "markdown",
   "metadata": {
    "pycharm": {
     "name": "#%% md\n"
    }
   },
   "source": [
    "<a id=\"U1A-Glossary\"></a>\n",
    "\n",
    "## Glossary\n",
    "\n",
    "* pandas [Series](https://pandas.pydata.org/docs/reference/series.html): **class pandas.Series(data=None, index=None, dtype=None, name=None, copy=False, fastpath=False)** One-dimensional ndarray with axis labels (including time series).\n",
    "  * [.values](https://pandas.pydata.org/docs/reference/api/pandas.Series.values.html) property: Return Series as ndarray or ndarray-like depending on the dtype.\n",
    "  * [.to_list()](https://pandas.pydata.org/docs/reference/api/pandas.Series.to_list.html) function: Return a list of the values.\n",
    "  * [.index](https://pandas.pydata.org/docs/reference/api/pandas.Series.index.html) property: The index (axis labels) of the Series.\n",
    "* pandas [DataFrame](https://pandas.pydata.org/docs/reference/frame.html): **class pandas.DataFrame(data=None, index=None, columns=None, dtype=None, copy=None)** Two-dimensional, size-mutable, potentially heterogeneous tabular data.\n",
    "  * [.columns](https://pandas.pydata.org/docs/reference/api/pandas.DataFrame.columns.html) property: The column labels of the DataFrame.\n",
    "  * [.loc](https://pandas.pydata.org/docs/reference/api/pandas.DataFrame.loc.html) property: Access a group of rows and columns by label(s) or a boolean array.\n",
    "  * [.iloc](https://pandas.pydata.org/docs/reference/api/pandas.DataFrame.iloc.html) property: Purely integer-location based indexing for selection by position.\n",
    "* The `where()` method and data masking: https://pandas.pydata.org/docs/user_guide/indexing.html#the-where-method-and-masking\n",
    "* [Python Operators](https://docs.python.org/3/reference/lexical_analysis.html#operators): Operators can be used in building conditional statements for pandas data masks, or in `where` method logic. Operators such as `>` (greater than), `<` (less than), `==` (equal to), `!=` (not equal to), `<=` (less than or equal to), or `>=` (greater than or equal to) are the most commonly used operators."
   ]
  },
  {
   "cell_type": "markdown",
   "metadata": {
    "pycharm": {
     "name": "#%% md\n"
    }
   },
   "source": [
    "[Top](#U1A-Top)"
   ]
  }
 ],
 "metadata": {
  "celltoolbar": "Create Assignment",
  "kernelspec": {
   "display_name": ".venv",
   "language": "python",
   "name": "python3"
  },
  "language_info": {
   "codemirror_mode": {
    "name": "ipython",
    "version": 3
   },
   "file_extension": ".py",
   "mimetype": "text/x-python",
   "name": "python",
   "nbconvert_exporter": "python",
   "pygments_lexer": "ipython3",
   "version": "3.11.10"
  }
 },
 "nbformat": 4,
 "nbformat_minor": 4
}
