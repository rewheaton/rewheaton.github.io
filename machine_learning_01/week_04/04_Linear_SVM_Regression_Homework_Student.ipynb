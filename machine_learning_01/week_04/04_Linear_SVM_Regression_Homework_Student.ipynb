{
 "cells": [
  {
   "cell_type": "markdown",
   "metadata": {},
   "source": [
    "\n",
    "# Homework Assignment: Linear Regression vs SVM Regression\n",
    "\n",
    "## Instructions\n",
    "In this assignment, you will analyze a dataset containing information about medical insurance costs (`insurance.csv`). Your goal is to build models to predict medical costs using Linear Regression and Support Vector Machine (SVM) Regression, and compare their performances.\n",
    "\n",
    "### Objectives:\n",
    "1. Explore and preprocess the dataset.\n",
    "2. Build and evaluate Linear Regression and SVM Regression models.\n",
    "3. Compare the results and answer interpretive questions.\n",
    "\n",
    "\n",
    "\n",
    "## Part 1: Import Libraries and Load Dataset\n"
   ]
  },
  {
   "cell_type": "code",
   "execution_count": 1,
   "metadata": {},
   "outputs": [
    {
     "name": "stdout",
     "output_type": "stream",
     "text": [
      "   age     sex     bmi  children smoker     region      charges\n",
      "0   19  female  27.900         0    yes  southwest  16884.92400\n",
      "1   18    male  33.770         1     no  southeast   1725.55230\n",
      "2   28    male  33.000         3     no  southeast   4449.46200\n",
      "3   33    male  22.705         0     no  northwest  21984.47061\n",
      "4   32    male  28.880         0     no  northwest   3866.85520\n"
     ]
    }
   ],
   "source": [
    "\n",
    "# Import necessary libraries\n",
    "import pandas as pd\n",
    "import numpy as np\n",
    "from sklearn.model_selection import train_test_split\n",
    "from sklearn.preprocessing import StandardScaler, LabelEncoder\n",
    "from sklearn.linear_model import LinearRegression\n",
    "from sklearn.svm import SVR\n",
    "from sklearn.metrics import mean_squared_error, r2_score, mean_absolute_percentage_error\n",
    "\n",
    "# Load the dataset\n",
    "df = pd.read_csv(\"insurance.csv\")\n",
    "\n",
    "# Display the first few rows\n",
    "print(df.head())\n"
   ]
  },
  {
   "cell_type": "markdown",
   "metadata": {},
   "source": [
    "\n",
    "\n",
    "## Part 2: Data Exploration and Preprocessing\n"
   ]
  },
  {
   "cell_type": "code",
   "execution_count": 2,
   "metadata": {},
   "outputs": [
    {
     "name": "stdout",
     "output_type": "stream",
     "text": [
      "<class 'pandas.core.frame.DataFrame'>\n",
      "RangeIndex: 1338 entries, 0 to 1337\n",
      "Data columns (total 7 columns):\n",
      " #   Column    Non-Null Count  Dtype  \n",
      "---  ------    --------------  -----  \n",
      " 0   age       1338 non-null   int64  \n",
      " 1   sex       1338 non-null   object \n",
      " 2   bmi       1338 non-null   float64\n",
      " 3   children  1338 non-null   int64  \n",
      " 4   smoker    1338 non-null   object \n",
      " 5   region    1338 non-null   object \n",
      " 6   charges   1338 non-null   float64\n",
      "dtypes: float64(2), int64(2), object(3)\n",
      "memory usage: 73.3+ KB\n",
      "None\n",
      "age         0\n",
      "sex         0\n",
      "bmi         0\n",
      "children    0\n",
      "smoker      0\n",
      "region      0\n",
      "charges     0\n",
      "dtype: int64\n"
     ]
    }
   ],
   "source": [
    "\n",
    "# Basic dataset information\n",
    "print(df.info())\n",
    "\n",
    "# Check for missing values\n",
    "print(df.isnull().sum())\n",
    "\n",
    "# Encode categorical variables (e.g., 'sex', 'smoker', 'region')\n",
    "encoder = LabelEncoder()\n",
    "df['sex'] = encoder.fit_transform(df['sex'])\n",
    "df['smoker'] = encoder.fit_transform(df['smoker'])\n",
    "df['region'] = encoder.fit_transform(df['region'])\n",
    "\n",
    "# Define features (X) and target variable (y)\n",
    "X = df.drop(columns='charges')\n",
    "y = df['charges']\n",
    "\n",
    "# Split the data into training and testing sets\n",
    "X_train, X_test, y_train, y_test = train_test_split(X, y, test_size=0.2, random_state=42)\n",
    "\n",
    "# Standardize the numerical features\n",
    "scaler = StandardScaler()\n",
    "X_train = scaler.fit_transform(X_train)\n",
    "X_test = scaler.transform(X_test)\n"
   ]
  },
  {
   "cell_type": "markdown",
   "metadata": {},
   "source": [
    "\n",
    "\n",
    "## Part 3: Linear Regression\n"
   ]
  },
  {
   "cell_type": "code",
   "execution_count": 5,
   "metadata": {},
   "outputs": [
    {
     "name": "stdout",
     "output_type": "stream",
     "text": [
      "Linear Regression - MSE: 33635210.43, R²: 0.78, MAPE: 47.09%\n",
      "\n",
      "Linear Regression Coefficients:\n",
      "    Feature  Coefficient\n",
      "4    smoker  9557.143383\n",
      "0       age  3616.108652\n",
      "2       bmi  2028.308579\n",
      "3  children   516.662566\n",
      "1       sex    -9.392954\n",
      "5    region  -302.387980\n"
     ]
    }
   ],
   "source": [
    "\n",
    "# Build and train the Linear Regression model\n",
    "linear_model = LinearRegression()\n",
    "linear_model.fit(X_train, y_train)\n",
    "\n",
    "# Predict and evaluate\n",
    "y_pred_lr = linear_model.predict(X_test)\n",
    "mse_lr = mean_squared_error(y_test, y_pred_lr)\n",
    "r2_lr = r2_score(y_test, y_pred_lr)\n",
    "mape_lr = mean_absolute_percentage_error(y_test, y_pred_lr)\n",
    "\n",
    "# Print evaluation metrics\n",
    "print(f\"Linear Regression - MSE: {mse_lr:.2f}, R²: {r2_lr:.2f}, MAPE: {mape_lr:.2%}\")\n",
    "\n",
    "# Print feature names and their coefficients from linear regression model\n",
    "feature_names = df.drop(columns='charges').columns\n",
    "coefficients = pd.DataFrame({'Feature': feature_names, 'Coefficient': linear_model.coef_})\n",
    "print(\"\\nLinear Regression Coefficients:\")\n",
    "print(coefficients.sort_values(by='Coefficient', ascending=False))"
   ]
  },
  {
   "cell_type": "markdown",
   "metadata": {},
   "source": [
    "\n",
    "## Part 4: SVM Regression\n",
    "\n"
   ]
  },
  {
   "cell_type": "code",
   "execution_count": 6,
   "metadata": {},
   "outputs": [
    {
     "name": "stdout",
     "output_type": "stream",
     "text": [
      "SVM Regression with linear - MSE: 54186302.08, R²: 0.65, MAPE: 18.72%\n",
      "SVM Regression with poly - MSE: 133829406.27, R²: 0.14, MAPE: 92.82%\n",
      "SVM Regression with rbf - MSE: 98347386.69, R²: 0.37, MAPE: 31.70%\n",
      "SVM Regression with sigmoid - MSE: 79169155.21, R²: 0.49, MAPE: 20.71%\n"
     ]
    }
   ],
   "source": [
    "\n",
    "# Build and train the SVM Regression model with RBF kernel\n",
    "kernels = ['linear', 'poly', 'rbf', 'sigmoid']\n",
    "\n",
    "for kernal in kernels: \n",
    "    svr_model = SVR(kernel=kernal, C=100, gamma=0.1, epsilon=0.1)\n",
    "    svr_model.fit(X_train, y_train)\n",
    "\n",
    "    # Predict and evaluate\n",
    "    y_pred_svr = svr_model.predict(X_test)\n",
    "    mse_svr = mean_squared_error(y_test, y_pred_svr)\n",
    "    r2_svr = r2_score(y_test, y_pred_svr)\n",
    "    mape_svr = mean_absolute_percentage_error(y_test, y_pred_svr)\n",
    "\n",
    "    # Print evaluation metrics\n",
    "    print(f\"SVM Regression with {kernal} - MSE: {mse_svr:.2f}, R²: {r2_svr:.2f}, MAPE: {mape_svr:.2%}\")\n",
    "\n"
   ]
  },
  {
   "cell_type": "markdown",
   "metadata": {},
   "source": [
    "\n",
    "## Part 5: Analysis Questions\n",
    "1. **Feature Importance**:\n",
    "   - Based on the Linear Regression model, which features are most significant in predicting medical costs? (Hint: Look at the model coefficients.)\n",
    "     - Being a smoker is far and away the biggesting positive indicator of health costs. Age and BMI also have positive coefficients but to a lesser extent indicating that though medical costs increase as you age or gain weight, there may be some mitigating factors.\n",
    "2. **Model Comparison**:\n",
    "   - Compare the performance of Linear Regression and SVM Regression models based on MSE, R², and MAPE. Which model performed better overall?\n",
    "     - It's not 100% clear cut but overall Linear Regression seems to perform better since it has a lower MSE (33635210.43) and a higher R^2. However, SVM Regression has a lower MAPE (31.7%) indicating that it makes errors less frequently. \n",
    "3. **Experimentation**:\n",
    "   - Try different kernels (e.g., `linear`, `poly`) for the SVM model. How do the results change?\n",
    "     - Poly was a real stinker, 92% MAPE seems like it is wrong almost all the time. Linear did the best with the lowest MSE and MAPE and the highest R^2 indicating that the variables have a very strong linear relationship. Sigmoid did pretty well but it seems a linear regression is the best choice for this data.\n",
    "\n",
    "## Submission\n",
    "- Submit your completed Jupyter notebook with answers and observations.\n",
    "- Include your answers to the analysis questions in Part 5 as comments in the notebook.\n"
   ]
  }
 ],
 "metadata": {
  "kernelspec": {
   "display_name": "Python 3",
   "language": "python",
   "name": "python3"
  },
  "language_info": {
   "codemirror_mode": {
    "name": "ipython",
    "version": 3
   },
   "file_extension": ".py",
   "mimetype": "text/x-python",
   "name": "python",
   "nbconvert_exporter": "python",
   "pygments_lexer": "ipython3",
   "version": "3.11.12"
  }
 },
 "nbformat": 4,
 "nbformat_minor": 2
}
