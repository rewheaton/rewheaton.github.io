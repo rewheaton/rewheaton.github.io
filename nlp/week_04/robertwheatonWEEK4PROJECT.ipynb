{
 "cells": [
  {
   "cell_type": "markdown",
   "id": "e5f49187-03f5-4178-89b6-665bcdff3324",
   "metadata": {},
   "source": [
    "# Jaccard Similarity Project\n",
    "#### Compare the sentences in the paragraph below using Jaccard Similarity. "
   ]
  },
  {
   "cell_type": "markdown",
   "id": "67a2e9db-c399-4803-8189-c3966e048883",
   "metadata": {},
   "source": [
    "### Use this paragraph:\n",
    "\n",
    "Jaccard similarity compares shared elements over total unique elements in two sets. Cosine similarity measures the angle between two vectors in high-dimensional space. Jaccard is best for binary features like word presence or absence. Cosine works well with weighted vectors like TF-IDF in NLP tasks."
   ]
  },
  {
   "cell_type": "markdown",
   "id": "e1c02208-9fff-4b72-a536-2778cb78dc4b",
   "metadata": {},
   "source": [
    "### To do this, perform the following steps:\n",
    "\n",
    "HINT: You may re-use any of the code in this week's notebook to perform these tasks."
   ]
  },
  {
   "cell_type": "markdown",
   "id": "f953f701-9e07-44d0-b0fc-5e87f832fdfa",
   "metadata": {},
   "source": [
    "#### 1. Preprocess them, including lowercase, lemmatisation, and stop word removal."
   ]
  },
  {
   "cell_type": "code",
   "execution_count": 1,
   "id": "18eba328",
   "metadata": {},
   "outputs": [
    {
     "name": "stdout",
     "output_type": "stream",
     "text": [
      "Requirement already satisfied: nltk in /Users/rewheaton/Code/rewheaton.github.io/.venv/lib/python3.11/site-packages (3.9.1)\n",
      "Requirement already satisfied: pandas in /Users/rewheaton/Code/rewheaton.github.io/.venv/lib/python3.11/site-packages (2.2.3)\n",
      "Requirement already satisfied: matplotlib in /Users/rewheaton/Code/rewheaton.github.io/.venv/lib/python3.11/site-packages (3.10.3)\n",
      "Requirement already satisfied: scikit-learn in /Users/rewheaton/Code/rewheaton.github.io/.venv/lib/python3.11/site-packages (1.6.1)\n",
      "Requirement already satisfied: click in /Users/rewheaton/Code/rewheaton.github.io/.venv/lib/python3.11/site-packages (from nltk) (8.2.1)\n",
      "Requirement already satisfied: joblib in /Users/rewheaton/Code/rewheaton.github.io/.venv/lib/python3.11/site-packages (from nltk) (1.5.0)\n",
      "Requirement already satisfied: regex>=2021.8.3 in /Users/rewheaton/Code/rewheaton.github.io/.venv/lib/python3.11/site-packages (from nltk) (2025.9.1)\n",
      "Requirement already satisfied: tqdm in /Users/rewheaton/Code/rewheaton.github.io/.venv/lib/python3.11/site-packages (from nltk) (4.67.1)\n",
      "Requirement already satisfied: numpy>=1.23.2 in /Users/rewheaton/Code/rewheaton.github.io/.venv/lib/python3.11/site-packages (from pandas) (1.26.4)\n",
      "Requirement already satisfied: python-dateutil>=2.8.2 in /Users/rewheaton/Code/rewheaton.github.io/.venv/lib/python3.11/site-packages (from pandas) (2.9.0.post0)\n",
      "Requirement already satisfied: pytz>=2020.1 in /Users/rewheaton/Code/rewheaton.github.io/.venv/lib/python3.11/site-packages (from pandas) (2025.2)\n",
      "Requirement already satisfied: tzdata>=2022.7 in /Users/rewheaton/Code/rewheaton.github.io/.venv/lib/python3.11/site-packages (from pandas) (2025.2)\n",
      "Requirement already satisfied: contourpy>=1.0.1 in /Users/rewheaton/Code/rewheaton.github.io/.venv/lib/python3.11/site-packages (from matplotlib) (1.3.2)\n",
      "Requirement already satisfied: cycler>=0.10 in /Users/rewheaton/Code/rewheaton.github.io/.venv/lib/python3.11/site-packages (from matplotlib) (0.12.1)\n",
      "Requirement already satisfied: fonttools>=4.22.0 in /Users/rewheaton/Code/rewheaton.github.io/.venv/lib/python3.11/site-packages (from matplotlib) (4.58.0)\n",
      "Requirement already satisfied: kiwisolver>=1.3.1 in /Users/rewheaton/Code/rewheaton.github.io/.venv/lib/python3.11/site-packages (from matplotlib) (1.4.8)\n",
      "Requirement already satisfied: packaging>=20.0 in /Users/rewheaton/Code/rewheaton.github.io/.venv/lib/python3.11/site-packages (from matplotlib) (25.0)\n",
      "Requirement already satisfied: pillow>=8 in /Users/rewheaton/Code/rewheaton.github.io/.venv/lib/python3.11/site-packages (from matplotlib) (11.2.1)\n",
      "Requirement already satisfied: pyparsing>=2.3.1 in /Users/rewheaton/Code/rewheaton.github.io/.venv/lib/python3.11/site-packages (from matplotlib) (3.2.3)\n",
      "Requirement already satisfied: scipy>=1.6.0 in /Users/rewheaton/Code/rewheaton.github.io/.venv/lib/python3.11/site-packages (from scikit-learn) (1.13.1)\n",
      "Requirement already satisfied: threadpoolctl>=3.1.0 in /Users/rewheaton/Code/rewheaton.github.io/.venv/lib/python3.11/site-packages (from scikit-learn) (3.6.0)\n",
      "Requirement already satisfied: six>=1.5 in /Users/rewheaton/Code/rewheaton.github.io/.venv/lib/python3.11/site-packages (from python-dateutil>=2.8.2->pandas) (1.17.0)\n",
      "\n",
      "\u001b[1m[\u001b[0m\u001b[34;49mnotice\u001b[0m\u001b[1;39;49m]\u001b[0m\u001b[39;49m A new release of pip is available: \u001b[0m\u001b[31;49m25.1.1\u001b[0m\u001b[39;49m -> \u001b[0m\u001b[32;49m25.2\u001b[0m\n",
      "\u001b[1m[\u001b[0m\u001b[34;49mnotice\u001b[0m\u001b[1;39;49m]\u001b[0m\u001b[39;49m To update, run: \u001b[0m\u001b[32;49mpip install --upgrade pip\u001b[0m\n"
     ]
    }
   ],
   "source": [
    "! pip install nltk pandas matplotlib scikit-learn"
   ]
  },
  {
   "cell_type": "code",
   "execution_count": 2,
   "id": "4216d5a1-77f3-4bb9-90ea-9277fadfa5a3",
   "metadata": {},
   "outputs": [
    {
     "name": "stderr",
     "output_type": "stream",
     "text": [
      "[nltk_data] Downloading package stopwords to\n",
      "[nltk_data]     /Users/rewheaton/nltk_data...\n",
      "[nltk_data]   Unzipping corpora/stopwords.zip.\n",
      "[nltk_data] Downloading package wordnet to\n",
      "[nltk_data]     /Users/rewheaton/nltk_data...\n"
     ]
    }
   ],
   "source": [
    "# Text Preprocessing - Your Code Here. \n",
    "# Use multiple cells as needed.\n",
    "import nltk\n",
    "from nltk.corpus import stopwords\n",
    "\n",
    "text = \"Jaccard similarity compares shared elements over total unique elements in two sets. Cosine similarity measures the angle between two vectors in high-dimensional space. Jaccard is best for binary features like word presence or absence. Cosine works well with weighted vectors like TF-IDF in NLP tasks.\"\n",
    "sentences = text.split('.')\n",
    "sentence_dict = {}\n",
    "\n",
    "nltk.download('stopwords')\n",
    "nltk.download('wordnet')\n",
    "\n",
    "# Get the English stop words\n",
    "stop_words = set(stopwords.words('english'))\n",
    "\n",
    "# Create lemmatizer\n",
    "lemmatizer = nltk.WordNetLemmatizer()\n",
    "\n",
    "for i, sentence in enumerate(sentences):\n",
    "    if sentence.strip(): \n",
    "        # Convert to lowercase and split into words\n",
    "        words = sentence.strip().lower().split()\n",
    "        \n",
    "        # Remove stop words\n",
    "        words = [word for word in words if word not in stop_words]\n",
    "\n",
    "        # Lemmatize words\n",
    "        words = [lemmatizer.lemmatize(word) for word in words]\n",
    "        \n",
    "        # Join words back into sentence\n",
    "        sentence_dict[f'doc{i+1}'] = ' '.join(words)"
   ]
  },
  {
   "cell_type": "markdown",
   "id": "82017d8c-272c-4d74-97db-152d7f175a0a",
   "metadata": {},
   "source": [
    "#### 2. Apply Jaccard similarity to the vectors."
   ]
  },
  {
   "cell_type": "code",
   "execution_count": 14,
   "id": "9ca70d01-9dac-465e-83b3-845572a86066",
   "metadata": {},
   "outputs": [
    {
     "data": {
      "text/html": [
       "<div>\n",
       "<style scoped>\n",
       "    .dataframe tbody tr th:only-of-type {\n",
       "        vertical-align: middle;\n",
       "    }\n",
       "\n",
       "    .dataframe tbody tr th {\n",
       "        vertical-align: top;\n",
       "    }\n",
       "\n",
       "    .dataframe thead th {\n",
       "        text-align: right;\n",
       "    }\n",
       "</style>\n",
       "<table border=\"1\" class=\"dataframe\">\n",
       "  <thead>\n",
       "    <tr style=\"text-align: right;\">\n",
       "      <th></th>\n",
       "      <th>doc1</th>\n",
       "      <th>doc2</th>\n",
       "      <th>doc3</th>\n",
       "      <th>doc4</th>\n",
       "    </tr>\n",
       "    <tr>\n",
       "      <th>target</th>\n",
       "      <th></th>\n",
       "      <th></th>\n",
       "      <th></th>\n",
       "      <th></th>\n",
       "    </tr>\n",
       "  </thead>\n",
       "  <tbody>\n",
       "    <tr>\n",
       "      <th>doc1</th>\n",
       "      <td>1.000000</td>\n",
       "      <td>0.133333</td>\n",
       "      <td>0.0625</td>\n",
       "      <td>0.000000</td>\n",
       "    </tr>\n",
       "    <tr>\n",
       "      <th>doc2</th>\n",
       "      <td>0.133333</td>\n",
       "      <td>1.000000</td>\n",
       "      <td>0.0000</td>\n",
       "      <td>0.133333</td>\n",
       "    </tr>\n",
       "    <tr>\n",
       "      <th>doc3</th>\n",
       "      <td>0.062500</td>\n",
       "      <td>0.000000</td>\n",
       "      <td>1.0000</td>\n",
       "      <td>0.062500</td>\n",
       "    </tr>\n",
       "    <tr>\n",
       "      <th>doc4</th>\n",
       "      <td>0.000000</td>\n",
       "      <td>0.133333</td>\n",
       "      <td>0.0625</td>\n",
       "      <td>1.000000</td>\n",
       "    </tr>\n",
       "  </tbody>\n",
       "</table>\n",
       "</div>"
      ],
      "text/plain": [
       "            doc1      doc2    doc3      doc4\n",
       "target                                      \n",
       "doc1    1.000000  0.133333  0.0625  0.000000\n",
       "doc2    0.133333  1.000000  0.0000  0.133333\n",
       "doc3    0.062500  0.000000  1.0000  0.062500\n",
       "doc4    0.000000  0.133333  0.0625  1.000000"
      ]
     },
     "execution_count": 14,
     "metadata": {},
     "output_type": "execute_result"
    }
   ],
   "source": [
    "# Jaccard similarity - Your Code Here.\n",
    "# Use multiple cells as needed.\n",
    "import pandas as pd\n",
    "\n",
    "def get_jaccard_similarity(doc1, doc2):\n",
    "    set1 = set(doc1.split())\n",
    "    set2 = set(doc2.split())\n",
    "    intersection = set1.intersection(set2)\n",
    "    union = set1.union(set2)\n",
    "    return float(len(intersection) / len(union))\n",
    "\n",
    "jaccard_matrix = []\n",
    "\n",
    "for doc1 in sentence_dict:\n",
    "    row = {key: 1.0 for key in sentence_dict}\n",
    "    row['target'] = doc1\n",
    "    for doc2 in sentence_dict:\n",
    "        if doc1 != doc2:\n",
    "            row[doc2] = get_jaccard_similarity(sentence_dict[doc1], sentence_dict[doc2])\n",
    "            \n",
    "    jaccard_matrix.append(row)\n",
    "\n",
    "jaccard_matrix_df = pd.DataFrame(jaccard_matrix).set_index('target')\n",
    "jaccard_matrix_df\n"
   ]
  },
  {
   "cell_type": "markdown",
   "id": "13603e19-ad18-493b-821c-3ec2efae0f70",
   "metadata": {},
   "source": [
    "#### 3. Identify which 2 of the 4 documents are the MOST similar to each other.\n",
    "Your answer here:"
   ]
  },
  {
   "cell_type": "markdown",
   "id": "0d17a4cc-d7b3-4158-9b56-c305b58f7f59",
   "metadata": {},
   "source": [
    "There is a tie: Document 1 and Document 2 and Document 2 and Document 4 are the most similar with a jacardian similarity of 0.13333. Document 1 and 4 have a similarity of zero which is weird."
   ]
  },
  {
   "cell_type": "markdown",
   "id": "90da9b82-dd90-4522-a056-5c4d6abbf4fd",
   "metadata": {},
   "source": [
    "#### 4. Identify which 2 of the 4 documents the are LEAST similar to each other.\n",
    "Your answer here:"
   ]
  },
  {
   "cell_type": "markdown",
   "id": "436ee6a8-f9af-4903-b5e1-738a0ae29f4d",
   "metadata": {},
   "source": [
    "Another tie: Doc1 and Doc4 as well as Doc2 and Doc3 have similarity scores of zero."
   ]
  },
  {
   "cell_type": "markdown",
   "id": "bfae98de-345b-4d90-bf95-1f4123ef0cca",
   "metadata": {},
   "source": [
    "#### 5. State your opinion, whether you agree or disagree with the calculated findings, and WHY.\n",
    "Your answer here:\n"
   ]
  },
  {
   "cell_type": "markdown",
   "id": "9f23b77d-6baf-47bf-8b70-c244577eee2e",
   "metadata": {},
   "source": [
    "I think the findings are mathmatically correct though I don't think word overlap is a real accurate measure of semantic similarity. It might acually be useful to identify plagerism though you may want to use n-grams > 1. "
   ]
  },
  {
   "cell_type": "markdown",
   "id": "72f17a4b-fa98-4f50-83d2-a2cff85a34b2",
   "metadata": {},
   "source": [
    "#### 6. Assignment Submission Directions: "
   ]
  },
  {
   "cell_type": "markdown",
   "id": "3b1d2370-669e-448f-afdf-cab6bf9b0d62",
   "metadata": {},
   "source": [
    "1. After creating, running, and completing all cells in the Jupyter Notebook, save the file.\n",
    "2. Upload the saved Jupyter notebook in the following format: firstnamelastnameWEEK4PROJECT.ipynb\n",
    "3. When ready, click UPLOAD (in Blackboard), attach all applicable files and click SUBMIT."
   ]
  },
  {
   "cell_type": "markdown",
   "id": "009ac783-36f2-458d-a6cd-6f63abda6936",
   "metadata": {},
   "source": [
    "#### Grading Rubric - 50 points\n",
    "\n",
    "||Emerging (0-7 points)|Proficient (80%+) (8-9 points)|Exemplary (10 points)|\n",
    "|:--|:---|:---|:---|\n",
    "|Text Preprocessing (10 points)|<b>MORE THAN ONE OF</b> Lowercase, Lemmatisation, or Stop Word Removal was not applied, or was applied incorrectly.|<b>ONE OF</b> Lowercase, Lemmatisation, or Stop Word Removal was not applied, or was applied incorrectly.|<b>ALL OF</b> Lowercase, Lemmatisation, and Stop Word Removal was applied correctly.|\n",
    "|Jaccard Similarity (10 points)|Jaccard similarity was not applied, or all results are incorrect.|Jaccard similarity was applied but some results are not correct.|Jaccard similarity was applied correctly to the vectors and results are as expected.|\n",
    "|Most Similarity Comparison (10 points)|<b>Neither</b> document is correctly identified.|Only <b>ONE</b> of the documents is correctly identified.|<b>Both</b> of the documents are correctly identified.|\n",
    "|Least Similarity Comparison (10 points)|<b>Neither</b> document is correctly identified.|Only <b>ONE</b> of the documents is correctly identified.|<b>Both</b> of the documents are correctly identified.|\n",
    "|Reflection (10 points)|<b>More than two</b> questions / prompts were not answered and/or rationale provided in reflection does not align with the questions.|Answers were missing for <b>one or two</b> questions / prompts and/or rationale provided in reflection aligns with most or all of the questions.|Answers were provided for <b>all</b> questions / prompts and rationale provided in reflection aligns with the questions.|"
   ]
  }
 ],
 "metadata": {
  "kernelspec": {
   "display_name": ".venv (3.11.12)",
   "language": "python",
   "name": "python3"
  },
  "language_info": {
   "codemirror_mode": {
    "name": "ipython",
    "version": 3
   },
   "file_extension": ".py",
   "mimetype": "text/x-python",
   "name": "python",
   "nbconvert_exporter": "python",
   "pygments_lexer": "ipython3",
   "version": "3.11.12"
  }
 },
 "nbformat": 4,
 "nbformat_minor": 5
}
