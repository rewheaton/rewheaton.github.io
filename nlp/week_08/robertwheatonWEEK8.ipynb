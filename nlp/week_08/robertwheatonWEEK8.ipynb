{
 "cells": [
  {
   "cell_type": "markdown",
   "id": "61394097-f53f-4701-88e5-e726b9bd34ef",
   "metadata": {},
   "source": [
    "# Model Deployment\n",
    "\n",
    "In this module, we explore the process of deploying applications for Natural Language Processing\n",
    "\n",
    "NOTE: this notebook is to explain what is happening in the code.\n",
    "\n",
    "To actually execute this code, run the code portions only in a .py file from an Anaconda prompt.\n",
    "\n",
    "Assuming the name of your .py file is `nlp.py`, the code to run this file is: `streamlit run nlp.py`."
   ]
  },
  {
   "cell_type": "code",
   "execution_count": 1,
   "id": "549ee57a-1829-4bbd-9fce-11998d7cebb0",
   "metadata": {},
   "outputs": [
    {
     "name": "stdout",
     "output_type": "stream",
     "text": [
      "Collecting streamlit\n",
      "  Downloading streamlit-1.50.0-py3-none-any.whl.metadata (9.5 kB)\n",
      "Requirement already satisfied: scikit-learn in /Users/rewheaton/Code/rewheaton.github.io/.venv/lib/python3.11/site-packages (1.7.2)\n",
      "Requirement already satisfied: numpy in /Users/rewheaton/Code/rewheaton.github.io/.venv/lib/python3.11/site-packages (1.26.4)\n",
      "Collecting altair!=5.4.0,!=5.4.1,<6,>=4.0 (from streamlit)\n",
      "  Downloading altair-5.5.0-py3-none-any.whl.metadata (11 kB)\n",
      "Collecting blinker<2,>=1.5.0 (from streamlit)\n",
      "  Downloading blinker-1.9.0-py3-none-any.whl.metadata (1.6 kB)\n",
      "Collecting cachetools<7,>=4.0 (from streamlit)\n",
      "  Downloading cachetools-6.2.1-py3-none-any.whl.metadata (5.5 kB)\n",
      "Requirement already satisfied: click<9,>=7.0 in /Users/rewheaton/Code/rewheaton.github.io/.venv/lib/python3.11/site-packages (from streamlit) (8.3.0)\n",
      "Requirement already satisfied: packaging<26,>=20 in /Users/rewheaton/Code/rewheaton.github.io/.venv/lib/python3.11/site-packages (from streamlit) (25.0)\n",
      "Requirement already satisfied: pandas<3,>=1.4.0 in /Users/rewheaton/Code/rewheaton.github.io/.venv/lib/python3.11/site-packages (from streamlit) (2.3.3)\n",
      "Requirement already satisfied: pillow<12,>=7.1.0 in /Users/rewheaton/Code/rewheaton.github.io/.venv/lib/python3.11/site-packages (from streamlit) (11.3.0)\n",
      "Requirement already satisfied: protobuf<7,>=3.20 in /Users/rewheaton/Code/rewheaton.github.io/.venv/lib/python3.11/site-packages (from streamlit) (6.32.1)\n",
      "Collecting pyarrow>=7.0 (from streamlit)\n",
      "  Using cached pyarrow-21.0.0-cp311-cp311-macosx_12_0_arm64.whl.metadata (3.3 kB)\n",
      "Requirement already satisfied: requests<3,>=2.27 in /Users/rewheaton/Code/rewheaton.github.io/.venv/lib/python3.11/site-packages (from streamlit) (2.32.5)\n",
      "Collecting tenacity<10,>=8.1.0 (from streamlit)\n",
      "  Using cached tenacity-9.1.2-py3-none-any.whl.metadata (1.2 kB)\n",
      "Collecting toml<2,>=0.10.1 (from streamlit)\n",
      "  Downloading toml-0.10.2-py2.py3-none-any.whl.metadata (7.1 kB)\n",
      "Requirement already satisfied: typing-extensions<5,>=4.4.0 in /Users/rewheaton/Code/rewheaton.github.io/.venv/lib/python3.11/site-packages (from streamlit) (4.15.0)\n",
      "Collecting gitpython!=3.1.19,<4,>=3.0.7 (from streamlit)\n",
      "  Downloading gitpython-3.1.45-py3-none-any.whl.metadata (13 kB)\n",
      "Collecting pydeck<1,>=0.8.0b4 (from streamlit)\n",
      "  Downloading pydeck-0.9.1-py2.py3-none-any.whl.metadata (4.1 kB)\n",
      "Requirement already satisfied: tornado!=6.5.0,<7,>=6.0.3 in /Users/rewheaton/Code/rewheaton.github.io/.venv/lib/python3.11/site-packages (from streamlit) (6.5.2)\n",
      "Requirement already satisfied: scipy>=1.8.0 in /Users/rewheaton/Code/rewheaton.github.io/.venv/lib/python3.11/site-packages (from scikit-learn) (1.13.1)\n",
      "Requirement already satisfied: joblib>=1.2.0 in /Users/rewheaton/Code/rewheaton.github.io/.venv/lib/python3.11/site-packages (from scikit-learn) (1.5.2)\n",
      "Requirement already satisfied: threadpoolctl>=3.1.0 in /Users/rewheaton/Code/rewheaton.github.io/.venv/lib/python3.11/site-packages (from scikit-learn) (3.6.0)\n",
      "Collecting jinja2 (from altair!=5.4.0,!=5.4.1,<6,>=4.0->streamlit)\n",
      "  Using cached jinja2-3.1.6-py3-none-any.whl.metadata (2.9 kB)\n",
      "Collecting jsonschema>=3.0 (from altair!=5.4.0,!=5.4.1,<6,>=4.0->streamlit)\n",
      "  Using cached jsonschema-4.25.1-py3-none-any.whl.metadata (7.6 kB)\n",
      "Collecting narwhals>=1.14.2 (from altair!=5.4.0,!=5.4.1,<6,>=4.0->streamlit)\n",
      "  Downloading narwhals-2.9.0-py3-none-any.whl.metadata (11 kB)\n",
      "Collecting gitdb<5,>=4.0.1 (from gitpython!=3.1.19,<4,>=3.0.7->streamlit)\n",
      "  Downloading gitdb-4.0.12-py3-none-any.whl.metadata (1.2 kB)\n",
      "Requirement already satisfied: python-dateutil>=2.8.2 in /Users/rewheaton/Code/rewheaton.github.io/.venv/lib/python3.11/site-packages (from pandas<3,>=1.4.0->streamlit) (2.9.0.post0)\n",
      "Requirement already satisfied: pytz>=2020.1 in /Users/rewheaton/Code/rewheaton.github.io/.venv/lib/python3.11/site-packages (from pandas<3,>=1.4.0->streamlit) (2025.2)\n",
      "Requirement already satisfied: tzdata>=2022.7 in /Users/rewheaton/Code/rewheaton.github.io/.venv/lib/python3.11/site-packages (from pandas<3,>=1.4.0->streamlit) (2025.2)\n",
      "Requirement already satisfied: charset_normalizer<4,>=2 in /Users/rewheaton/Code/rewheaton.github.io/.venv/lib/python3.11/site-packages (from requests<3,>=2.27->streamlit) (3.4.3)\n",
      "Requirement already satisfied: idna<4,>=2.5 in /Users/rewheaton/Code/rewheaton.github.io/.venv/lib/python3.11/site-packages (from requests<3,>=2.27->streamlit) (3.10)\n",
      "Requirement already satisfied: urllib3<3,>=1.21.1 in /Users/rewheaton/Code/rewheaton.github.io/.venv/lib/python3.11/site-packages (from requests<3,>=2.27->streamlit) (2.5.0)\n",
      "Requirement already satisfied: certifi>=2017.4.17 in /Users/rewheaton/Code/rewheaton.github.io/.venv/lib/python3.11/site-packages (from requests<3,>=2.27->streamlit) (2025.10.5)\n",
      "Collecting smmap<6,>=3.0.1 (from gitdb<5,>=4.0.1->gitpython!=3.1.19,<4,>=3.0.7->streamlit)\n",
      "  Downloading smmap-5.0.2-py3-none-any.whl.metadata (4.3 kB)\n",
      "Requirement already satisfied: MarkupSafe>=2.0 in /Users/rewheaton/Code/rewheaton.github.io/.venv/lib/python3.11/site-packages (from jinja2->altair!=5.4.0,!=5.4.1,<6,>=4.0->streamlit) (3.0.3)\n",
      "Collecting attrs>=22.2.0 (from jsonschema>=3.0->altair!=5.4.0,!=5.4.1,<6,>=4.0->streamlit)\n",
      "  Downloading attrs-25.4.0-py3-none-any.whl.metadata (10 kB)\n",
      "Collecting jsonschema-specifications>=2023.03.6 (from jsonschema>=3.0->altair!=5.4.0,!=5.4.1,<6,>=4.0->streamlit)\n",
      "  Using cached jsonschema_specifications-2025.9.1-py3-none-any.whl.metadata (2.9 kB)\n",
      "Collecting referencing>=0.28.4 (from jsonschema>=3.0->altair!=5.4.0,!=5.4.1,<6,>=4.0->streamlit)\n",
      "  Downloading referencing-0.37.0-py3-none-any.whl.metadata (2.8 kB)\n",
      "Collecting rpds-py>=0.7.1 (from jsonschema>=3.0->altair!=5.4.0,!=5.4.1,<6,>=4.0->streamlit)\n",
      "  Using cached rpds_py-0.27.1-cp311-cp311-macosx_11_0_arm64.whl.metadata (4.2 kB)\n",
      "Requirement already satisfied: six>=1.5 in /Users/rewheaton/Code/rewheaton.github.io/.venv/lib/python3.11/site-packages (from python-dateutil>=2.8.2->pandas<3,>=1.4.0->streamlit) (1.17.0)\n",
      "Downloading streamlit-1.50.0-py3-none-any.whl (10.1 MB)\n",
      "\u001b[2K   \u001b[90m━━━━━━━━━━━━━━━━━━━━━━━━━━━━━━━━━━━━━━━━\u001b[0m \u001b[32m10.1/10.1 MB\u001b[0m \u001b[31m16.1 MB/s\u001b[0m eta \u001b[36m0:00:00\u001b[0m \u001b[36m0:00:01\u001b[0m\n",
      "\u001b[?25hDownloading altair-5.5.0-py3-none-any.whl (731 kB)\n",
      "\u001b[2K   \u001b[90m━━━━━━━━━━━━━━━━━━━━━━━━━━━━━━━━━━━━━━━━\u001b[0m \u001b[32m731.2/731.2 kB\u001b[0m \u001b[31m15.3 MB/s\u001b[0m eta \u001b[36m0:00:00\u001b[0m\n",
      "\u001b[?25hDownloading blinker-1.9.0-py3-none-any.whl (8.5 kB)\n",
      "Downloading cachetools-6.2.1-py3-none-any.whl (11 kB)\n",
      "Downloading gitpython-3.1.45-py3-none-any.whl (208 kB)\n",
      "Using cached pyarrow-21.0.0-cp311-cp311-macosx_12_0_arm64.whl (31.2 MB)\n",
      "Downloading pydeck-0.9.1-py2.py3-none-any.whl (6.9 MB)\n",
      "\u001b[2K   \u001b[90m━━━━━━━━━━━━━━━━━━━━━━━━━━━━━━━━━━━━━━━━\u001b[0m \u001b[32m6.9/6.9 MB\u001b[0m \u001b[31m18.4 MB/s\u001b[0m eta \u001b[36m0:00:00\u001b[0ma \u001b[36m0:00:01\u001b[0m\n",
      "\u001b[?25hUsing cached tenacity-9.1.2-py3-none-any.whl (28 kB)\n",
      "Downloading toml-0.10.2-py2.py3-none-any.whl (16 kB)\n",
      "Downloading gitdb-4.0.12-py3-none-any.whl (62 kB)\n",
      "Using cached jinja2-3.1.6-py3-none-any.whl (134 kB)\n",
      "Using cached jsonschema-4.25.1-py3-none-any.whl (90 kB)\n",
      "Downloading narwhals-2.9.0-py3-none-any.whl (422 kB)\n",
      "Downloading attrs-25.4.0-py3-none-any.whl (67 kB)\n",
      "Using cached jsonschema_specifications-2025.9.1-py3-none-any.whl (18 kB)\n",
      "Downloading referencing-0.37.0-py3-none-any.whl (26 kB)\n",
      "Using cached rpds_py-0.27.1-cp311-cp311-macosx_11_0_arm64.whl (353 kB)\n",
      "Downloading smmap-5.0.2-py3-none-any.whl (24 kB)\n",
      "Installing collected packages: toml, tenacity, smmap, rpds-py, pyarrow, narwhals, jinja2, cachetools, blinker, attrs, referencing, pydeck, gitdb, jsonschema-specifications, gitpython, jsonschema, altair, streamlit\n",
      "Successfully installed altair-5.5.0 attrs-25.4.0 blinker-1.9.0 cachetools-6.2.1 gitdb-4.0.12 gitpython-3.1.45 jinja2-3.1.6 jsonschema-4.25.1 jsonschema-specifications-2025.9.1 narwhals-2.9.0 pyarrow-21.0.0 pydeck-0.9.1 referencing-0.37.0 rpds-py-0.27.1 smmap-5.0.2 streamlit-1.50.0 tenacity-9.1.2 toml-0.10.2\n",
      "\n",
      "\u001b[1m[\u001b[0m\u001b[34;49mnotice\u001b[0m\u001b[1;39;49m]\u001b[0m\u001b[39;49m A new release of pip is available: \u001b[0m\u001b[31;49m25.0.1\u001b[0m\u001b[39;49m -> \u001b[0m\u001b[32;49m25.2\u001b[0m\n",
      "\u001b[1m[\u001b[0m\u001b[34;49mnotice\u001b[0m\u001b[1;39;49m]\u001b[0m\u001b[39;49m To update, run: \u001b[0m\u001b[32;49mpip install --upgrade pip\u001b[0m\n"
     ]
    }
   ],
   "source": [
    "! pip install streamlit scikit-learn numpy\n",
    "# required libraries\n",
    "import os\n",
    "import glob\n",
    "import streamlit as st\n",
    "from sklearn.datasets import fetch_20newsgroups\n",
    "from sklearn.feature_extraction.text import CountVectorizer\n",
    "from sklearn.naive_bayes import MultinomialNB # Naive Bayes\n",
    "from sklearn.linear_model import SGDClassifier # SVM\n",
    "from sklearn.feature_extraction.text import TfidfTransformer\n",
    "from sklearn.pipeline import Pipeline\n",
    "import numpy as np"
   ]
  },
  {
   "cell_type": "markdown",
   "id": "9616fd8a-1862-4dc2-baa2-396f6d4b8f57",
   "metadata": {},
   "source": [
    "### Create a dropdown / selectbox.\n",
    "We'll do this by creating a selectbox() object, and assign a title and a list of options."
   ]
  },
  {
   "cell_type": "code",
   "execution_count": 4,
   "id": "aa0625e5-ad7c-4957-b1c3-8c919367e7ef",
   "metadata": {},
   "outputs": [
    {
     "name": "stderr",
     "output_type": "stream",
     "text": [
      "2025-10-22 17:04:21.791 Thread 'MainThread': missing ScriptRunContext! This warning can be ignored when running in bare mode.\n",
      "2025-10-22 17:04:21.792 Thread 'MainThread': missing ScriptRunContext! This warning can be ignored when running in bare mode.\n",
      "2025-10-22 17:04:21.792 Thread 'MainThread': missing ScriptRunContext! This warning can be ignored when running in bare mode.\n",
      "2025-10-22 17:04:21.793 Thread 'MainThread': missing ScriptRunContext! This warning can be ignored when running in bare mode.\n",
      "2025-10-22 17:04:21.793 Thread 'MainThread': missing ScriptRunContext! This warning can be ignored when running in bare mode.\n",
      "2025-10-22 17:04:21.793 Thread 'MainThread': missing ScriptRunContext! This warning can be ignored when running in bare mode.\n",
      "2025-10-22 17:04:21.794 Thread 'MainThread': missing ScriptRunContext! This warning can be ignored when running in bare mode.\n",
      "2025-10-22 17:04:21.794 Thread 'MainThread': missing ScriptRunContext! This warning can be ignored when running in bare mode.\n",
      "2025-10-22 17:04:21.794 Thread 'MainThread': missing ScriptRunContext! This warning can be ignored when running in bare mode.\n",
      "2025-10-22 17:04:21.795 Thread 'MainThread': missing ScriptRunContext! This warning can be ignored when running in bare mode.\n",
      "2025-10-22 17:04:21.795 Thread 'MainThread': missing ScriptRunContext! This warning can be ignored when running in bare mode.\n",
      "2025-10-22 17:04:21.795 Thread 'MainThread': missing ScriptRunContext! This warning can be ignored when running in bare mode.\n",
      "2025-10-22 17:04:21.795 Thread 'MainThread': missing ScriptRunContext! This warning can be ignored when running in bare mode.\n",
      "2025-10-22 17:04:21.796 Thread 'MainThread': missing ScriptRunContext! This warning can be ignored when running in bare mode.\n",
      "2025-10-22 17:04:21.796 Thread 'MainThread': missing ScriptRunContext! This warning can be ignored when running in bare mode.\n",
      "2025-10-22 17:04:21.796 Thread 'MainThread': missing ScriptRunContext! This warning can be ignored when running in bare mode.\n"
     ]
    }
   ],
   "source": [
    "# Create list of options for dropdown:\n",
    "cs = [\"Naive Bayes\",\"SVM\"]\n",
    "\n",
    "# Define a selectbox option:\n",
    "classification_space = st.sidebar.selectbox(\"Pick a classification method:\", cs)\n",
    "\n",
    "# Write a few phrases to the app on the screen:\n",
    "st.write(\"Results\")\n",
    "st.write('Dataset details here:')\n",
    "st.write(\"Twenty Newsgroup dataset chosen. It contains over 20000 posts from newspapers and 20 different topics.\")\n"
   ]
  },
  {
   "cell_type": "markdown",
   "id": "0be1ff9c-eb8f-445e-8a15-0cd255dd8afe",
   "metadata": {},
   "source": [
    "### Next, create a button for users to interact with.\n",
    "When pressed, the button will run a classification algorithm, based on the user's selection."
   ]
  },
  {
   "cell_type": "code",
   "execution_count": 8,
   "id": "c26a1843-abaa-49b6-9351-44ae068d7109",
   "metadata": {},
   "outputs": [
    {
     "name": "stderr",
     "output_type": "stream",
     "text": [
      "2025-10-22 17:05:34.774 Thread 'MainThread': missing ScriptRunContext! This warning can be ignored when running in bare mode.\n",
      "2025-10-22 17:05:34.774 Thread 'MainThread': missing ScriptRunContext! This warning can be ignored when running in bare mode.\n",
      "2025-10-22 17:05:34.775 Thread 'MainThread': missing ScriptRunContext! This warning can be ignored when running in bare mode.\n",
      "2025-10-22 17:05:34.775 Thread 'MainThread': missing ScriptRunContext! This warning can be ignored when running in bare mode.\n",
      "2025-10-22 17:05:34.775 Thread 'MainThread': missing ScriptRunContext! This warning can be ignored when running in bare mode.\n",
      "2025-10-22 17:05:34.776 Thread 'MainThread': missing ScriptRunContext! This warning can be ignored when running in bare mode.\n"
     ]
    }
   ],
   "source": [
    "# Create a button object:\n",
    "if st.sidebar.button('Classify'):\n",
    "    # Using a simple if statement, perform some task based on the selectbox options.\n",
    "    # If the selectbox option is \"Naive Bayes\", then perform a Naive Bayes classifier.\n",
    "    if classification_space == \"Naive Bayes\":\n",
    "        trainData = fetch_20newsgroups(subset='train', shuffle=True)\n",
    "        st.write(\"Naive Bayes selected\")\n",
    "        classificationPipeline = Pipeline([('bow', CountVectorizer()),\n",
    "                                           ('vector', TfidfTransformer()), \n",
    "                                           ('classifier ', MultinomialNB())])\n",
    "        classificationPipeline = classificationPipeline.fit(trainData.data, trainData.target)\n",
    "        test_set = fetch_20newsgroups(subset='test', shuffle=True)\n",
    "        dataPrediction = classificationPipeline.predict(test_set.data)\n",
    "\n",
    "        # Print to the application on the screen the results of the Naive Bayes classification:\n",
    "        st.write(\"Accuracy of Naive Bayes Classification:\")\n",
    "        st.write(np.mean(dataPrediction == test_set.target))\n",
    "\n",
    "    # If the selectbox option is \"SVM\", then perform a Support Vector Machine classifier.\n",
    "    if classification_space == \"SVM\":\n",
    "        trainData = fetch_20newsgroups(subset='train', shuffle = True)\n",
    "        st.write(\"SVM selected\")\n",
    "        classificationPipeline = Pipeline([('bow', CountVectorizer()), \n",
    "                                           ('vector', TfidfTransformer()), \n",
    "                                           ('classifier', SGDClassifier(loss='hinge', \n",
    "                                                                         penalty ='l1', \n",
    "                                                                         alpha=0.0005, \n",
    "                                                                         l1_ratio=0.17))])\n",
    "        classificationPipeline = classificationPipeline.fit(trainData.data,trainData.target)\n",
    "        test_set = fetch_20newsgroups(subset='test', shuffle=True)\n",
    "        dataPrediction = classificationPipeline.predict (test_set.data)\n",
    "        # Print to the application on the screen the results of the SVM classification:\n",
    "        st. write (\"Accuracy of SVM Classification:\")\n",
    "        st. write (np.mean(dataPrediction == test_set.target))"
   ]
  }
 ],
 "metadata": {
  "kernelspec": {
   "display_name": ".venv (3.11.12)",
   "language": "python",
   "name": "python3"
  },
  "language_info": {
   "codemirror_mode": {
    "name": "ipython",
    "version": 3
   },
   "file_extension": ".py",
   "mimetype": "text/x-python",
   "name": "python",
   "nbconvert_exporter": "python",
   "pygments_lexer": "ipython3",
   "version": "3.11.12"
  }
 },
 "nbformat": 4,
 "nbformat_minor": 5
}
