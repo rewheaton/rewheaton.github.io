{
 "cells": [
  {
   "cell_type": "code",
   "execution_count": 1,
   "id": "59d91b74-9c39-4551-b798-28454d1913ce",
   "metadata": {},
   "outputs": [
    {
     "name": "stderr",
     "output_type": "stream",
     "text": [
      "2025-05-23 09:33:31.983979: I tensorflow/core/platform/cpu_feature_guard.cc:210] This TensorFlow binary is optimized to use available CPU instructions in performance-critical operations.\n",
      "To enable the following instructions: SSE4.1 SSE4.2, in other operations, rebuild TensorFlow with the appropriate compiler flags.\n"
     ]
    }
   ],
   "source": [
    "import tensorflow as tf\n",
    "from tensorflow.keras.datasets import imdb\n",
    "from tensorflow.keras.preprocessing import sequence\n",
    "from tensorflow.keras.models import load_model\n",
    "from tensorflow import keras\n",
    "from tensorflow.keras import layers\n",
    "from keras.layers import Bidirectional\n",
    "from keras.layers import SimpleRNN, Dense, LSTM\n",
    "import numpy as np\n"
   ]
  },
  {
   "cell_type": "code",
   "execution_count": 2,
   "id": "79603ba5-b71e-4ba2-925d-d325dcfb51c6",
   "metadata": {},
   "outputs": [
    {
     "name": "stdout",
     "output_type": "stream",
     "text": [
      "2.17.0\n"
     ]
    }
   ],
   "source": [
    "print(tf.__version__)"
   ]
  },
  {
   "cell_type": "code",
   "execution_count": 3,
   "id": "184ef178-828b-4aab-9157-5b4b0e7df6ef",
   "metadata": {},
   "outputs": [],
   "source": [
    "\n",
    "# Define parameters (same as used during training)\n",
    "max_features = 20000\n",
    "maxlen = 80\n",
    "embedding_dim = 128\n",
    "lstm_out = 128\n"
   ]
  },
  {
   "cell_type": "code",
   "execution_count": 4,
   "id": "fffbbbc8-69f2-47c3-a77f-cd35fbf181a3",
   "metadata": {},
   "outputs": [],
   "source": [
    "# Load the IMDB dataset and preprocess, and get word indexing.\n",
    "(x_train, y_train), (x_test, y_test) = imdb.load_data(num_words=max_features)\n",
    "x_train = sequence.pad_sequences(x_train, maxlen=maxlen)\n",
    "x_test = sequence.pad_sequences(x_test, maxlen=maxlen)\n",
    "word_index = imdb.get_word_index()\n"
   ]
  },
  {
   "cell_type": "code",
   "execution_count": 5,
   "id": "4e0088fd-dbe0-430a-b0b8-1a72be323ab8",
   "metadata": {},
   "outputs": [],
   "source": [
    "\n",
    "# Build the BiLSTM model\n",
    "model = keras.Sequential()\n",
    "model.add(layers.Embedding(max_features, embedding_dim))\n",
    "model.add(Bidirectional(LSTM(lstm_out)))\n",
    "model.add(Dense(1, activation='sigmoid')) # Output layer for binary classification\n",
    "\n",
    "# Compile the model\n",
    "model.compile(loss='binary_crossentropy', optimizer='adam', metrics=['accuracy'])\n"
   ]
  },
  {
   "cell_type": "code",
   "execution_count": 6,
   "id": "461b7306-0b46-4029-8bf5-c49faa0b1b7f",
   "metadata": {},
   "outputs": [
    {
     "data": {
      "text/plain": [
       "(numpy.ndarray, numpy.ndarray)"
      ]
     },
     "execution_count": 6,
     "metadata": {},
     "output_type": "execute_result"
    }
   ],
   "source": [
    "type(x_train), type(y_train)"
   ]
  },
  {
   "cell_type": "code",
   "execution_count": 7,
   "id": "e69d4358-a67b-44a5-a3e2-8522028984f7",
   "metadata": {},
   "outputs": [
    {
     "name": "stdout",
     "output_type": "stream",
     "text": [
      "(25000, 80) (25000,)\n",
      "(25000, 80) (25000,)\n"
     ]
    }
   ],
   "source": [
    "print(x_train.shape, y_train.shape)\n",
    "print(x_test.shape, y_test.shape)\n"
   ]
  },
  {
   "cell_type": "code",
   "execution_count": 8,
   "id": "82a4f14b-95e7-4e69-8354-58f9fbfa69af",
   "metadata": {},
   "outputs": [],
   "source": [
    "\n",
    "# Train the model\n",
    "# model.fit(x_train, y_train, validation_data=(x_test, y_test), epochs=3, batch_size=128)\n",
    "\n"
   ]
  },
  {
   "cell_type": "code",
   "execution_count": 1,
   "id": "00fa4d14-681e-41f3-98bc-a920076dc20e",
   "metadata": {},
   "outputs": [
    {
     "name": "stderr",
     "output_type": "stream",
     "text": [
      "2025-05-23 09:34:33.365178: I tensorflow/core/platform/cpu_feature_guard.cc:210] This TensorFlow binary is optimized to use available CPU instructions in performance-critical operations.\n",
      "To enable the following instructions: SSE4.1 SSE4.2, in other operations, rebuild TensorFlow with the appropriate compiler flags.\n"
     ]
    },
    {
     "data": {
      "text/plain": [
       "[name: \"/device:CPU:0\"\n",
       " device_type: \"CPU\"\n",
       " memory_limit: 268435456\n",
       " locality {\n",
       " }\n",
       " incarnation: 15788566141759408503\n",
       " xla_global_id: -1]"
      ]
     },
     "execution_count": 1,
     "metadata": {},
     "output_type": "execute_result"
    }
   ],
   "source": [
    "from tensorflow.python.client import device_lib\n",
    "device_lib.list_local_devices()"
   ]
  },
  {
   "cell_type": "code",
   "execution_count": null,
   "id": "e2490b64-d178-47cf-8d70-7156cd1cf544",
   "metadata": {},
   "outputs": [],
   "source": [
    "model.fit(x_train, y_train, validation_data=(x_test, y_test), epochs=1, batch_size=32)"
   ]
  },
  {
   "cell_type": "code",
   "execution_count": null,
   "id": "11da4504-90c1-4dbf-b460-4957f0ba6fe6",
   "metadata": {},
   "outputs": [],
   "source": [
    "# Evaluate the model\n",
    "score, acc = model.evaluate(x_test, y_test, verbose=0)\n",
    "print('Test score:', score)\n",
    "print('Test accuracy:', acc)"
   ]
  },
  {
   "cell_type": "code",
   "execution_count": 11,
   "id": "65485e26-d149-46d2-8597-a5109e8b18e2",
   "metadata": {},
   "outputs": [
    {
     "name": "stdout",
     "output_type": "stream",
     "text": [
      "Python 3.9.20\n"
     ]
    }
   ],
   "source": [
    "!python --version"
   ]
  },
  {
   "cell_type": "code",
   "execution_count": null,
   "id": "d00a9ff7-22b1-480a-88e0-95e6acecd3f5",
   "metadata": {},
   "outputs": [],
   "source": [
    "\n",
    "def predict_sentiment(review_text):\n",
    "    \"\"\"Predicts the sentiment of a given movie review.\"\"\"\n",
    "    # Preprocess the review text\n",
    "    review_tokens = review_text.lower().split()  # Tokenize and lowercase\n",
    "    review_indices = [word_index.get(token, 0) for token in review_tokens] # Convert words to indices\n",
    "\n",
    "    # Filter out unknown tokens (index 0 is reserved for out-of-vocabulary words)\n",
    "    review_indices = [index for index in review_indices if index != 0]\n",
    "\n",
    "    padded_review = sequence.pad_sequences([review_indices], maxlen=maxlen)\n",
    "\n",
    "    # Make prediction\n",
    "    prediction = model.predict(padded_review)\n",
    "\n",
    "    # Interpret the prediction (sigmoid output)\n",
    "    if prediction[0] > 0.5:\n",
    "        sentiment = \"Positive\"\n",
    "    else:\n",
    "        sentiment = \"Negative\"\n",
    "    return sentiment, prediction[0]\n",
    "\n",
    "\n",
    "# Example usage\n",
    "new_review1 = \"This movie was absolutely fantastic! The acting was superb.\"\n",
    "sentiment1, score1 = predict_sentiment(new_review1)\n",
    "print(f\"Review: {new_review1}\")\n",
    "print(f\"Sentiment: {sentiment1}, Score: {score1}\")\n",
    "\n",
    "new_review2 = \"What a terrible movie! I hated every minute of it.\"\n",
    "sentiment2, score2 = predict_sentiment(new_review2)\n",
    "print(f\"Review: {new_review2}\")\n",
    "print(f\"Sentiment: {sentiment2}, Score: {score2}\")\n",
    "\n",
    "new_review3 = \"The movie was okay. Not great, not terrible.\"\n",
    "sentiment3, score3 = predict_sentiment(new_review3)\n",
    "print(f\"Review: {new_review3}\")\n",
    "print(f\"Sentiment: {sentiment3}, Score: {score3}\")\n"
   ]
  }
 ],
 "metadata": {
  "kernelspec": {
   "display_name": "Python 3 (ipykernel)",
   "language": "python",
   "name": "python3"
  },
  "language_info": {
   "codemirror_mode": {
    "name": "ipython",
    "version": 3
   },
   "file_extension": ".py",
   "mimetype": "text/x-python",
   "name": "python",
   "nbconvert_exporter": "python",
   "pygments_lexer": "ipython3",
   "version": "3.9.20"
  }
 },
 "nbformat": 4,
 "nbformat_minor": 5
}
