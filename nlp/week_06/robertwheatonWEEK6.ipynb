{
 "cells": [
  {
   "cell_type": "markdown",
   "metadata": {
    "id": "0rz0poNLMX8S",
    "tags": []
   },
   "source": [
    "# Lab - NLP Week 6\n",
    "\n",
    "## Lab Summary:\n",
    "\n",
    "In this lab we will be discussing Neural Networks.\n",
    "\n",
    "We will build neural networks to classify data and use hyperparameter tuning to make our models better.\n",
    "\n",
    "## Lab Goal:\n",
    "Upon completion of this lab, the student should be able to:\n",
    "<ul>\n",
    "    <li> design a <b>neural network</b> and use it for a classification problem </li>\n",
    "    <li> apply a neural network to predict labels from the <b>MNIST</b> dataset</li>\n",
    "    <li> optimize our neural network by applying different <b>activation functions</b> </li>\n",
    "    <li> optimize our neural network by applying different <b>learning rates</b></li>\n",
    "</ul>\n",
    "\n",
    "## Import Packages and Classes (Initial)\n",
    "\n",
    "In this lab we will be using the following libraries:\n",
    "<ol>\n",
    "    <li> NLTK </li>\n",
    "    <li> Pandas </li>\n",
    "    <li> Matplotlib </li>\n",
    "    <li> Keras </li>\n",
    "</ol>\n"
   ]
  },
  {
   "cell_type": "markdown",
   "metadata": {
    "id": "VDuW59Uq8G7r"
   },
   "source": [
    "# Neural Networks\n",
    "\n",
    "Neural networks are multi-layer networks of neurons that we use to classify data and make predictions. \n",
    "\n",
    "Below is a diagram of a simple neural network with one input layer, one output layer and one hidden layer of neurons.\n",
    "\n",
    "![Image](NeuralNetworkImage.jpg)\n",
    "\n",
    "Image Source: https://ars.els-cdn.com/content/image/3-s2.0-B9780128115299000017-f01-07-9780128115299.jpg\n",
    "\n",
    "Keras is an open-source software library that provides a Python interface for artificial neural networks. \n",
    "\n",
    "To create our Neural Network, we will use the scikit-learn library to create a sample dataset.  The dataset contains 10 columns and 2 target classes. \n",
    "\n",
    "We will train a classifier to learn to distinguish between 2 classes based on characteristics of the input data."
   ]
  },
  {
   "cell_type": "code",
   "execution_count": 32,
   "metadata": {
    "id": "YbxaY0NEhonz"
   },
   "outputs": [
    {
     "name": "stdout",
     "output_type": "stream",
     "text": [
      "Requirement already satisfied: scikit-learn in /Users/rewheaton/Code/rewheaton.github.io/.venv/lib/python3.11/site-packages (1.7.2)\n",
      "Requirement already satisfied: pandas in /Users/rewheaton/Code/rewheaton.github.io/.venv/lib/python3.11/site-packages (2.3.3)\n",
      "Requirement already satisfied: matplotlib in /Users/rewheaton/Code/rewheaton.github.io/.venv/lib/python3.11/site-packages (3.10.6)\n",
      "Requirement already satisfied: nltk in /Users/rewheaton/Code/rewheaton.github.io/.venv/lib/python3.11/site-packages (3.9.2)\n",
      "Requirement already satisfied: keras in /Users/rewheaton/Code/rewheaton.github.io/.venv/lib/python3.11/site-packages (3.11.3)\n",
      "Requirement already satisfied: tensorflow in /Users/rewheaton/Code/rewheaton.github.io/.venv/lib/python3.11/site-packages (2.20.0)\n",
      "Requirement already satisfied: pydot in /Users/rewheaton/Code/rewheaton.github.io/.venv/lib/python3.11/site-packages (4.0.1)\n",
      "Requirement already satisfied: graphviz in /Users/rewheaton/Code/rewheaton.github.io/.venv/lib/python3.11/site-packages (0.21)\n",
      "Requirement already satisfied: numpy>=1.22.0 in /Users/rewheaton/Code/rewheaton.github.io/.venv/lib/python3.11/site-packages (from scikit-learn) (1.26.4)\n",
      "Requirement already satisfied: scipy>=1.8.0 in /Users/rewheaton/Code/rewheaton.github.io/.venv/lib/python3.11/site-packages (from scikit-learn) (1.13.1)\n",
      "Requirement already satisfied: joblib>=1.2.0 in /Users/rewheaton/Code/rewheaton.github.io/.venv/lib/python3.11/site-packages (from scikit-learn) (1.5.2)\n",
      "Requirement already satisfied: threadpoolctl>=3.1.0 in /Users/rewheaton/Code/rewheaton.github.io/.venv/lib/python3.11/site-packages (from scikit-learn) (3.6.0)\n",
      "Requirement already satisfied: python-dateutil>=2.8.2 in /Users/rewheaton/Code/rewheaton.github.io/.venv/lib/python3.11/site-packages (from pandas) (2.9.0.post0)\n",
      "Requirement already satisfied: pytz>=2020.1 in /Users/rewheaton/Code/rewheaton.github.io/.venv/lib/python3.11/site-packages (from pandas) (2025.2)\n",
      "Requirement already satisfied: tzdata>=2022.7 in /Users/rewheaton/Code/rewheaton.github.io/.venv/lib/python3.11/site-packages (from pandas) (2025.2)\n",
      "Requirement already satisfied: contourpy>=1.0.1 in /Users/rewheaton/Code/rewheaton.github.io/.venv/lib/python3.11/site-packages (from matplotlib) (1.3.3)\n",
      "Requirement already satisfied: cycler>=0.10 in /Users/rewheaton/Code/rewheaton.github.io/.venv/lib/python3.11/site-packages (from matplotlib) (0.12.1)\n",
      "Requirement already satisfied: fonttools>=4.22.0 in /Users/rewheaton/Code/rewheaton.github.io/.venv/lib/python3.11/site-packages (from matplotlib) (4.60.1)\n",
      "Requirement already satisfied: kiwisolver>=1.3.1 in /Users/rewheaton/Code/rewheaton.github.io/.venv/lib/python3.11/site-packages (from matplotlib) (1.4.9)\n",
      "Requirement already satisfied: packaging>=20.0 in /Users/rewheaton/Code/rewheaton.github.io/.venv/lib/python3.11/site-packages (from matplotlib) (25.0)\n",
      "Requirement already satisfied: pillow>=8 in /Users/rewheaton/Code/rewheaton.github.io/.venv/lib/python3.11/site-packages (from matplotlib) (11.3.0)\n",
      "Requirement already satisfied: pyparsing>=2.3.1 in /Users/rewheaton/Code/rewheaton.github.io/.venv/lib/python3.11/site-packages (from matplotlib) (3.2.5)\n",
      "Requirement already satisfied: click in /Users/rewheaton/Code/rewheaton.github.io/.venv/lib/python3.11/site-packages (from nltk) (8.3.0)\n",
      "Requirement already satisfied: regex>=2021.8.3 in /Users/rewheaton/Code/rewheaton.github.io/.venv/lib/python3.11/site-packages (from nltk) (2025.9.18)\n",
      "Requirement already satisfied: tqdm in /Users/rewheaton/Code/rewheaton.github.io/.venv/lib/python3.11/site-packages (from nltk) (4.67.1)\n",
      "Requirement already satisfied: absl-py in /Users/rewheaton/Code/rewheaton.github.io/.venv/lib/python3.11/site-packages (from keras) (2.3.1)\n",
      "Requirement already satisfied: rich in /Users/rewheaton/Code/rewheaton.github.io/.venv/lib/python3.11/site-packages (from keras) (14.1.0)\n",
      "Requirement already satisfied: namex in /Users/rewheaton/Code/rewheaton.github.io/.venv/lib/python3.11/site-packages (from keras) (0.1.0)\n",
      "Requirement already satisfied: h5py in /Users/rewheaton/Code/rewheaton.github.io/.venv/lib/python3.11/site-packages (from keras) (3.14.0)\n",
      "Requirement already satisfied: optree in /Users/rewheaton/Code/rewheaton.github.io/.venv/lib/python3.11/site-packages (from keras) (0.17.0)\n",
      "Requirement already satisfied: ml-dtypes in /Users/rewheaton/Code/rewheaton.github.io/.venv/lib/python3.11/site-packages (from keras) (0.5.3)\n",
      "Requirement already satisfied: astunparse>=1.6.0 in /Users/rewheaton/Code/rewheaton.github.io/.venv/lib/python3.11/site-packages (from tensorflow) (1.6.3)\n",
      "Requirement already satisfied: flatbuffers>=24.3.25 in /Users/rewheaton/Code/rewheaton.github.io/.venv/lib/python3.11/site-packages (from tensorflow) (25.9.23)\n",
      "Requirement already satisfied: gast!=0.5.0,!=0.5.1,!=0.5.2,>=0.2.1 in /Users/rewheaton/Code/rewheaton.github.io/.venv/lib/python3.11/site-packages (from tensorflow) (0.6.0)\n",
      "Requirement already satisfied: google_pasta>=0.1.1 in /Users/rewheaton/Code/rewheaton.github.io/.venv/lib/python3.11/site-packages (from tensorflow) (0.2.0)\n",
      "Requirement already satisfied: libclang>=13.0.0 in /Users/rewheaton/Code/rewheaton.github.io/.venv/lib/python3.11/site-packages (from tensorflow) (18.1.1)\n",
      "Requirement already satisfied: opt_einsum>=2.3.2 in /Users/rewheaton/Code/rewheaton.github.io/.venv/lib/python3.11/site-packages (from tensorflow) (3.4.0)\n",
      "Requirement already satisfied: protobuf>=5.28.0 in /Users/rewheaton/Code/rewheaton.github.io/.venv/lib/python3.11/site-packages (from tensorflow) (6.32.1)\n",
      "Requirement already satisfied: requests<3,>=2.21.0 in /Users/rewheaton/Code/rewheaton.github.io/.venv/lib/python3.11/site-packages (from tensorflow) (2.32.5)\n",
      "Requirement already satisfied: setuptools in /Users/rewheaton/Code/rewheaton.github.io/.venv/lib/python3.11/site-packages (from tensorflow) (78.1.0)\n",
      "Requirement already satisfied: six>=1.12.0 in /Users/rewheaton/Code/rewheaton.github.io/.venv/lib/python3.11/site-packages (from tensorflow) (1.17.0)\n",
      "Requirement already satisfied: termcolor>=1.1.0 in /Users/rewheaton/Code/rewheaton.github.io/.venv/lib/python3.11/site-packages (from tensorflow) (3.1.0)\n",
      "Requirement already satisfied: typing_extensions>=3.6.6 in /Users/rewheaton/Code/rewheaton.github.io/.venv/lib/python3.11/site-packages (from tensorflow) (4.15.0)\n",
      "Requirement already satisfied: wrapt>=1.11.0 in /Users/rewheaton/Code/rewheaton.github.io/.venv/lib/python3.11/site-packages (from tensorflow) (1.17.3)\n",
      "Requirement already satisfied: grpcio<2.0,>=1.24.3 in /Users/rewheaton/Code/rewheaton.github.io/.venv/lib/python3.11/site-packages (from tensorflow) (1.75.1)\n",
      "Requirement already satisfied: tensorboard~=2.20.0 in /Users/rewheaton/Code/rewheaton.github.io/.venv/lib/python3.11/site-packages (from tensorflow) (2.20.0)\n",
      "Requirement already satisfied: wheel<1.0,>=0.23.0 in /Users/rewheaton/Code/rewheaton.github.io/.venv/lib/python3.11/site-packages (from astunparse>=1.6.0->tensorflow) (0.45.1)\n",
      "Requirement already satisfied: charset_normalizer<4,>=2 in /Users/rewheaton/Code/rewheaton.github.io/.venv/lib/python3.11/site-packages (from requests<3,>=2.21.0->tensorflow) (3.4.3)\n",
      "Requirement already satisfied: idna<4,>=2.5 in /Users/rewheaton/Code/rewheaton.github.io/.venv/lib/python3.11/site-packages (from requests<3,>=2.21.0->tensorflow) (3.10)\n",
      "Requirement already satisfied: urllib3<3,>=1.21.1 in /Users/rewheaton/Code/rewheaton.github.io/.venv/lib/python3.11/site-packages (from requests<3,>=2.21.0->tensorflow) (2.5.0)\n",
      "Requirement already satisfied: certifi>=2017.4.17 in /Users/rewheaton/Code/rewheaton.github.io/.venv/lib/python3.11/site-packages (from requests<3,>=2.21.0->tensorflow) (2025.10.5)\n",
      "Requirement already satisfied: markdown>=2.6.8 in /Users/rewheaton/Code/rewheaton.github.io/.venv/lib/python3.11/site-packages (from tensorboard~=2.20.0->tensorflow) (3.9)\n",
      "Requirement already satisfied: tensorboard-data-server<0.8.0,>=0.7.0 in /Users/rewheaton/Code/rewheaton.github.io/.venv/lib/python3.11/site-packages (from tensorboard~=2.20.0->tensorflow) (0.7.2)\n",
      "Requirement already satisfied: werkzeug>=1.0.1 in /Users/rewheaton/Code/rewheaton.github.io/.venv/lib/python3.11/site-packages (from tensorboard~=2.20.0->tensorflow) (3.1.3)\n",
      "Requirement already satisfied: markdown-it-py>=2.2.0 in /Users/rewheaton/Code/rewheaton.github.io/.venv/lib/python3.11/site-packages (from rich->keras) (4.0.0)\n",
      "Requirement already satisfied: pygments<3.0.0,>=2.13.0 in /Users/rewheaton/Code/rewheaton.github.io/.venv/lib/python3.11/site-packages (from rich->keras) (2.19.2)\n",
      "Requirement already satisfied: mdurl~=0.1 in /Users/rewheaton/Code/rewheaton.github.io/.venv/lib/python3.11/site-packages (from markdown-it-py>=2.2.0->rich->keras) (0.1.2)\n",
      "Requirement already satisfied: MarkupSafe>=2.1.1 in /Users/rewheaton/Code/rewheaton.github.io/.venv/lib/python3.11/site-packages (from werkzeug>=1.0.1->tensorboard~=2.20.0->tensorflow) (3.0.3)\n",
      "Requirement already satisfied: idna<4,>=2.5 in /Users/rewheaton/Code/rewheaton.github.io/.venv/lib/python3.11/site-packages (from requests<3,>=2.21.0->tensorflow) (3.10)\n",
      "Requirement already satisfied: urllib3<3,>=1.21.1 in /Users/rewheaton/Code/rewheaton.github.io/.venv/lib/python3.11/site-packages (from requests<3,>=2.21.0->tensorflow) (2.5.0)\n",
      "Requirement already satisfied: certifi>=2017.4.17 in /Users/rewheaton/Code/rewheaton.github.io/.venv/lib/python3.11/site-packages (from requests<3,>=2.21.0->tensorflow) (2025.10.5)\n",
      "Requirement already satisfied: markdown>=2.6.8 in /Users/rewheaton/Code/rewheaton.github.io/.venv/lib/python3.11/site-packages (from tensorboard~=2.20.0->tensorflow) (3.9)\n",
      "Requirement already satisfied: tensorboard-data-server<0.8.0,>=0.7.0 in /Users/rewheaton/Code/rewheaton.github.io/.venv/lib/python3.11/site-packages (from tensorboard~=2.20.0->tensorflow) (0.7.2)\n",
      "Requirement already satisfied: werkzeug>=1.0.1 in /Users/rewheaton/Code/rewheaton.github.io/.venv/lib/python3.11/site-packages (from tensorboard~=2.20.0->tensorflow) (3.1.3)\n",
      "Requirement already satisfied: markdown-it-py>=2.2.0 in /Users/rewheaton/Code/rewheaton.github.io/.venv/lib/python3.11/site-packages (from rich->keras) (4.0.0)\n",
      "Requirement already satisfied: pygments<3.0.0,>=2.13.0 in /Users/rewheaton/Code/rewheaton.github.io/.venv/lib/python3.11/site-packages (from rich->keras) (2.19.2)\n",
      "Requirement already satisfied: mdurl~=0.1 in /Users/rewheaton/Code/rewheaton.github.io/.venv/lib/python3.11/site-packages (from markdown-it-py>=2.2.0->rich->keras) (0.1.2)\n",
      "Requirement already satisfied: MarkupSafe>=2.1.1 in /Users/rewheaton/Code/rewheaton.github.io/.venv/lib/python3.11/site-packages (from werkzeug>=1.0.1->tensorboard~=2.20.0->tensorflow) (3.0.3)\n",
      "\n",
      "\u001b[1m[\u001b[0m\u001b[34;49mnotice\u001b[0m\u001b[1;39;49m]\u001b[0m\u001b[39;49m A new release of pip is available: \u001b[0m\u001b[31;49m25.0.1\u001b[0m\u001b[39;49m -> \u001b[0m\u001b[32;49m25.2\u001b[0m\n",
      "\u001b[1m[\u001b[0m\u001b[34;49mnotice\u001b[0m\u001b[1;39;49m]\u001b[0m\u001b[39;49m To update, run: \u001b[0m\u001b[32;49mpip install --upgrade pip\u001b[0m\n",
      "\n",
      "\u001b[1m[\u001b[0m\u001b[34;49mnotice\u001b[0m\u001b[1;39;49m]\u001b[0m\u001b[39;49m A new release of pip is available: \u001b[0m\u001b[31;49m25.0.1\u001b[0m\u001b[39;49m -> \u001b[0m\u001b[32;49m25.2\u001b[0m\n",
      "\u001b[1m[\u001b[0m\u001b[34;49mnotice\u001b[0m\u001b[1;39;49m]\u001b[0m\u001b[39;49m To update, run: \u001b[0m\u001b[32;49mpip install --upgrade pip\u001b[0m\n"
     ]
    }
   ],
   "source": [
    "! pip install scikit-learn pandas matplotlib nltk keras tensorflow pydot graphviz\n",
    "\n",
    "# Import libraries.\n",
    "from sklearn.datasets import make_classification\n",
    "import pandas as pd\n",
    "import os\n",
    "import zipfile\n",
    "\n",
    "# Check if digits directory exists\n",
    "if not os.path.exists('digits') and os.path.exists('digits.zip'):\n",
    "    # Unzip the file\n",
    "    with zipfile.ZipFile('digits.zip', 'r') as zip_ref:\n",
    "        zip_ref.extractall()\n"
   ]
  },
  {
   "cell_type": "code",
   "execution_count": 2,
   "metadata": {
    "id": "UHEh8bhb_ISV"
   },
   "outputs": [],
   "source": [
    "#Create the sample dataset\n",
    "X, y = make_classification(n_samples = 500,\n",
    "                                       n_features = 10,\n",
    "                                       n_informative = 5,\n",
    "                                       n_redundant = 0,\n",
    "                                       n_classes = 2,\n",
    "                                       weights = [.2, .3])"
   ]
  },
  {
   "cell_type": "code",
   "execution_count": 3,
   "metadata": {
    "colab": {
     "base_uri": "https://localhost:8080/"
    },
    "id": "q0afsEI5_MDn",
    "outputId": "bb75bd95-9a09-4b75-fd17-b1d11988f0e4"
   },
   "outputs": [
    {
     "name": "stdout",
     "output_type": "stream",
     "text": [
      "Dataset: \n",
      "   Feature 1  Feature 2  Feature 3  Feature 4  Feature 5  Feature 6  \\\n",
      "0   2.341852   0.365934   0.710251  -0.517336   2.332981   1.727669   \n",
      "1   0.536563   1.100119   0.298338   0.898708  -2.377827   0.509724   \n",
      "2   0.401721  -0.164234   0.217854  -2.570287  -2.220818  -1.738395   \n",
      "3  -0.895954   1.376794  -1.752664   1.205520  -3.021406   0.279939   \n",
      "4   0.600818   3.458622   1.078552   0.128180  -2.034895  -0.263984   \n",
      "\n",
      "   Feature 7  Feature 8  Feature 9  Feature 10  \n",
      "0  -1.191113   0.448949   0.995514    1.166615  \n",
      "1   1.019802   2.989876   0.611036   -0.118794  \n",
      "2  -0.030097   0.836261   0.682971   -0.104392  \n",
      "3   1.486704   1.011087  -0.749264   -2.120411  \n",
      "4   0.049000   3.136936   0.312726   -0.780774  \n"
     ]
    }
   ],
   "source": [
    "#View the dataset\n",
    "print(\"Dataset: \");\n",
    "print(pd.DataFrame(X, columns=[\"Feature 1\", \n",
    "                               \"Feature 2\", \n",
    "                               \"Feature 3\", \n",
    "                               \"Feature 4\", \n",
    "                               \"Feature 5\",\n",
    "                               \"Feature 6\", \n",
    "                               \"Feature 7\", \n",
    "                               \"Feature 8\", \n",
    "                               \"Feature 9\", \n",
    "                               \"Feature 10\"]).head())"
   ]
  },
  {
   "cell_type": "markdown",
   "metadata": {
    "id": "uoVcCmlG_Zhv"
   },
   "source": [
    "### Split into train and test set\n",
    "\n"
   ]
  },
  {
   "cell_type": "code",
   "execution_count": 4,
   "metadata": {
    "id": "ugcfZNUL_T-G"
   },
   "outputs": [],
   "source": [
    "# Import train_test_split from sklearn\n",
    "from sklearn.model_selection import train_test_split\n",
    "\n",
    "# Split the dataset into 80% training and 20% test data\n",
    "X_train, X_test, y_train, y_test = train_test_split(\n",
    "    X, y, \n",
    "    test_size = 0.2, \n",
    "    random_state = 42)"
   ]
  },
  {
   "cell_type": "markdown",
   "metadata": {
    "id": "-toPGXRFBOFk"
   },
   "source": [
    "### Design the Neural Network"
   ]
  },
  {
   "cell_type": "markdown",
   "metadata": {},
   "source": [
    "Note: the following libraries from conda are required for some steps below, if using Anaconda / Jupyter Lab:\n",
    "- pydot\n",
    "- pydotplus\n",
    "- graphviz"
   ]
  },
  {
   "cell_type": "code",
   "execution_count": 5,
   "metadata": {
    "id": "WpsqiZqR_u6L"
   },
   "outputs": [],
   "source": [
    "# Import the Keras libraries and packages\n",
    "import keras\n",
    "from keras.models import Sequential\n",
    "from keras.layers import Dense\n",
    "# from keras.utils.vis_utils import plot_model # May work in Colab. May not work in Jupyter Lab.\n",
    "from tensorflow.keras.utils import plot_model # May work in Jupyter Lab. May not work in Colab.\n"
   ]
  },
  {
   "cell_type": "code",
   "execution_count": 6,
   "metadata": {
    "id": "pVyktqDeBQhq"
   },
   "outputs": [],
   "source": [
    "# Initialize a Neural Network from keras.models\n",
    "model = Sequential()"
   ]
  },
  {
   "cell_type": "markdown",
   "metadata": {},
   "source": [
    "Our Neural Network Design:\n",
    "\n",
    "- 1 Input layer\n",
    "- 1 Hidden layers\n",
    "- 1 Output layer\n",
    "- 1 Compile layer"
   ]
  },
  {
   "cell_type": "code",
   "execution_count": 11,
   "metadata": {
    "colab": {
     "base_uri": "https://localhost:8080/",
     "height": 422
    },
    "id": "DjvFeMKDBVO1",
    "outputId": "7eda0578-d196-4757-ed28-48e1a2dc7e32"
   },
   "outputs": [
    {
     "data": {
      "image/png": "[encoded data removed]",
      "text/plain": [
       "<IPython.core.display.Image object>"
      ]
     },
     "execution_count": 11,
     "metadata": {},
     "output_type": "execute_result"
    }
   ],
   "source": [
    "# Import Input layer\n",
    "from tensorflow.keras.layers import Input\n",
    "\n",
    "# Create an input layer\n",
    "inputs = Input(shape=(10,))  # Since our generated data has 10 features\n",
    "\n",
    "# Initialize the Sequential model\n",
    "model = Sequential([\n",
    "    inputs,  # Add the input layer first\n",
    "    Dense(units=10,  # The \"units\" parameter is the number of outputs\n",
    "          kernel_initializer='uniform',\n",
    "          activation='relu'),  \n",
    "    \n",
    "    # Add a hidden layer\n",
    "    Dense(units=16,  # This layer will have 16 outputs\n",
    "          kernel_initializer='uniform',\n",
    "          activation='relu'),  # We'll learn more about activation functions a little later in this lab\n",
    "    \n",
    "    # Adding the output layer. This is the last layer in the network\n",
    "    Dense(units=1,  # Since we are classifying a row into one of two columns, our output generates a single output\n",
    "          kernel_initializer='uniform',\n",
    "          activation='sigmoid')\n",
    "])\n",
    "\n",
    "# Compiling the ANN. This step puts it all together.\n",
    "# The last layer includes a loss function and the metric that will be used to determine the quality of the network: \"accuracy.\"\n",
    "model.compile(optimizer='adam',\n",
    "             loss='binary_crossentropy',\n",
    "             metrics=['accuracy'])\n",
    "\n",
    "# We can see what the steps are by using the \"plot_model\" function.\n",
    "plot_model(model, to_file='model_plot.png', show_shapes=True, show_layer_names=True, dpi=96)"
   ]
  },
  {
   "cell_type": "code",
   "execution_count": 13,
   "metadata": {
    "colab": {
     "base_uri": "https://localhost:8080/"
    },
    "id": "Vqbzi4qRBXtM",
    "outputId": "b6408e82-d905-4920-a518-ab6802755118"
   },
   "outputs": [
    {
     "data": {
      "text/plain": [
       "<keras.src.callbacks.history.History at 0x173a53a90>"
      ]
     },
     "execution_count": 13,
     "metadata": {},
     "output_type": "execute_result"
    }
   ],
   "source": [
    "# Fit the Neural Network to the Training set\n",
    "model.fit(X_train, y_train, batch_size = 10, epochs = 100, verbose=0) # verbose = 0 prevents a message for each epoch."
   ]
  },
  {
   "cell_type": "code",
   "execution_count": 14,
   "metadata": {
    "id": "18ZyiLOrBcT2"
   },
   "outputs": [
    {
     "name": "stdout",
     "output_type": "stream",
     "text": [
      "Test accuracy: 0.8399999737739563\n"
     ]
    }
   ],
   "source": [
    "# How accurate is our model at predicting the correct classifications?\n",
    "loss, accuracy = model.evaluate(X_test, y_test, verbose=0)\n",
    "print('Test accuracy:', accuracy)"
   ]
  },
  {
   "cell_type": "markdown",
   "metadata": {
    "id": "PN9lPSK5Bgf1"
   },
   "source": [
    "# MNIST Dataset\n",
    "\n",
    "We create a neural network that trains on a famous dataset of images to predict other images.\n",
    "\n",
    "Reference: https://pypi.org/project/python-mnist/"
   ]
  },
  {
   "cell_type": "code",
   "execution_count": 15,
   "metadata": {},
   "outputs": [],
   "source": [
    "# Import the mnist dataset.\n",
    "from keras.datasets import mnist"
   ]
  },
  {
   "cell_type": "code",
   "execution_count": 16,
   "metadata": {},
   "outputs": [],
   "source": [
    "# Create train/test objects from it.\n",
    "(train_X, train_y), (test_X, test_y) = mnist.load_data()"
   ]
  },
  {
   "cell_type": "code",
   "execution_count": 17,
   "metadata": {},
   "outputs": [
    {
     "name": "stdout",
     "output_type": "stream",
     "text": [
      "X_train: (60000, 28, 28)\n",
      "Y_train: (60000,)\n",
      "X_test:  (10000, 28, 28)\n",
      "Y_test:  (10000,)\n"
     ]
    }
   ],
   "source": [
    "# Check how large each dataset is:\n",
    "print('X_train: ' + str(train_X.shape))\n",
    "print('Y_train: ' + str(train_y.shape))\n",
    "print('X_test:  '  + str(test_X.shape))\n",
    "print('Y_test:  '  + str(test_y.shape))"
   ]
  },
  {
   "cell_type": "code",
   "execution_count": 18,
   "metadata": {},
   "outputs": [
    {
     "data": {
      "image/png": "[encoded data removed]",
      "text/plain": [
       "<Figure size 640x480 with 9 Axes>"
      ]
     },
     "metadata": {},
     "output_type": "display_data"
    }
   ],
   "source": [
    "# Let's look at the first 9 images from mnist:\n",
    "from matplotlib import pyplot\n",
    "for i in range(9):\n",
    "    pyplot.subplot(330 + 1 + i)\n",
    "    pyplot.imshow(train_X[i], cmap=pyplot.get_cmap('gray'))\n",
    "pyplot.show()"
   ]
  },
  {
   "cell_type": "markdown",
   "metadata": {},
   "source": [
    "# How is this useful?\n",
    "\n",
    "We can use a Neural Network to classify brand new images into numeric digits."
   ]
  },
  {
   "cell_type": "markdown",
   "metadata": {},
   "source": [
    "Following similar steps as above, create a neural network with:\n",
    "1. One input layer with size=784 (28x28).\n",
    "2. Two hidden layers with 32 neurons each.\n",
    "3. An output layer that can classify into 10 classes with softmax activation function.\n",
    "4. A compile step with optimizer = 'adam', loss function = 'categorical_crossentropy', and metrics = ['accuracy']."
   ]
  },
  {
   "cell_type": "code",
   "execution_count": 20,
   "metadata": {
    "id": "KfyYRmOWB9pi"
   },
   "outputs": [],
   "source": [
    "# The steps below create a neural network with an input layer, \n",
    "# 2 hidden layers with 32 neurons each, and\n",
    "# an output layer that can classify into 10 classes.\n",
    "\n",
    "# Import Input layer\n",
    "from tensorflow.keras.layers import Input\n",
    "\n",
    "# Create an input layer for the flattened MNIST images (28x28 = 784 pixels)\n",
    "inputs = Input(shape=(784,))\n",
    "\n",
    "# Initialize the Sequential model with a list of layers\n",
    "model2 = Sequential([\n",
    "    inputs,  # Add the input layer first\n",
    "    Dense(units=10, kernel_initializer='uniform', activation='relu'),\n",
    "    Dense(units=32, kernel_initializer='uniform', activation='relu'),\n",
    "    Dense(units=32, kernel_initializer='uniform', activation='relu'),\n",
    "    Dense(units=10, kernel_initializer='uniform', activation='softmax')  # 10 units for 10 classes\n",
    "])\n",
    "\n",
    "model2.compile(optimizer='adam', loss='categorical_crossentropy', metrics=['accuracy'])"
   ]
  },
  {
   "cell_type": "markdown",
   "metadata": {},
   "source": [
    "### One-hot encoding\n",
    "\n",
    "We will need to convert train_y and test_y into one-hot encoded format.\n",
    "\n",
    "<b>One-hot encoding</b> represents categorical labels as vectors. Example:\n",
    "\n",
    "<code>train_y = [0, 1, 4, 9, 2]</code>\n",
    "\n",
    "<code>train_y_cat = [\n",
    "  [1, 0, 0, 0, 0, 0, 0, 0, 0, 0],  # 0\n",
    "  [0, 1, 0, 0, 0, 0, 0, 0, 0, 0],  # 1\n",
    "  [0, 0, 0, 0, 1, 0, 0, 0, 0, 0],  # 4\n",
    "  [0, 0, 0, 0, 0, 0, 0, 0, 0, 1],  # 9\n",
    "  [0, 0, 1, 0, 0, 0, 0, 0, 0, 0]   # 2\n",
    "]</code>\n",
    "\n",
    "The <code>softmax</code> layer outputs a vector of 10 probabilities, one for each class.\n",
    "\n",
    "The <code>categorical_crossentropy</code> loss function compares the predicted probability vector to a one-hot encoded true label."
   ]
  },
  {
   "cell_type": "code",
   "execution_count": 21,
   "metadata": {},
   "outputs": [],
   "source": [
    "from tensorflow.keras.utils import to_categorical\n",
    "\n",
    "# Apply one-hot encoding to our categories:\n",
    "train_y_cat = to_categorical(train_y, num_classes=10)\n",
    "test_y_cat = to_categorical(test_y, num_classes=10)"
   ]
  },
  {
   "cell_type": "code",
   "execution_count": 22,
   "metadata": {},
   "outputs": [],
   "source": [
    "# Flatten each 28 x 28 pixel image into a single 784-pixel vector.\n",
    "# Standardize the values between 0 and 1 by dividing by 255 (0-255 is the potential value of each of the 784 greyscale pixels).\n",
    "train_X_flat = train_X.reshape(-1, 784).astype('float32') / 255\n",
    "test_X_flat = test_X.reshape(-1, 784).astype('float32') / 255"
   ]
  },
  {
   "cell_type": "code",
   "execution_count": 23,
   "metadata": {},
   "outputs": [
    {
     "name": "stdout",
     "output_type": "stream",
     "text": [
      "Epoch 1/10\n",
      "\u001b[1m422/422\u001b[0m \u001b[32m━━━━━━━━━━━━━━━━━━━━\u001b[0m\u001b[37m\u001b[0m \u001b[1m1s\u001b[0m 714us/step - accuracy: 0.5962 - loss: 1.1411 - val_accuracy: 0.7510 - val_loss: 0.7017\n",
      "Epoch 2/10\n",
      "\u001b[1m422/422\u001b[0m \u001b[32m━━━━━━━━━━━━━━━━━━━━\u001b[0m\u001b[37m\u001b[0m \u001b[1m1s\u001b[0m 714us/step - accuracy: 0.5962 - loss: 1.1411 - val_accuracy: 0.7510 - val_loss: 0.7017\n",
      "Epoch 2/10\n",
      "\u001b[1m422/422\u001b[0m \u001b[32m━━━━━━━━━━━━━━━━━━━━\u001b[0m\u001b[37m\u001b[0m \u001b[1m0s\u001b[0m 508us/step - accuracy: 0.7882 - loss: 0.6611 - val_accuracy: 0.8655 - val_loss: 0.4553\n",
      "Epoch 3/10\n",
      "\u001b[1m422/422\u001b[0m \u001b[32m━━━━━━━━━━━━━━━━━━━━\u001b[0m\u001b[37m\u001b[0m \u001b[1m0s\u001b[0m 508us/step - accuracy: 0.7882 - loss: 0.6611 - val_accuracy: 0.8655 - val_loss: 0.4553\n",
      "Epoch 3/10\n",
      "\u001b[1m422/422\u001b[0m \u001b[32m━━━━━━━━━━━━━━━━━━━━\u001b[0m\u001b[37m\u001b[0m \u001b[1m0s\u001b[0m 505us/step - accuracy: 0.8653 - loss: 0.4571 - val_accuracy: 0.8975 - val_loss: 0.3590\n",
      "Epoch 4/10\n",
      "\u001b[1m422/422\u001b[0m \u001b[32m━━━━━━━━━━━━━━━━━━━━\u001b[0m\u001b[37m\u001b[0m \u001b[1m0s\u001b[0m 505us/step - accuracy: 0.8653 - loss: 0.4571 - val_accuracy: 0.8975 - val_loss: 0.3590\n",
      "Epoch 4/10\n",
      "\u001b[1m422/422\u001b[0m \u001b[32m━━━━━━━━━━━━━━━━━━━━\u001b[0m\u001b[37m\u001b[0m \u001b[1m0s\u001b[0m 508us/step - accuracy: 0.8885 - loss: 0.3875 - val_accuracy: 0.9110 - val_loss: 0.3153\n",
      "Epoch 5/10\n",
      "\u001b[1m422/422\u001b[0m \u001b[32m━━━━━━━━━━━━━━━━━━━━\u001b[0m\u001b[37m\u001b[0m \u001b[1m0s\u001b[0m 508us/step - accuracy: 0.8885 - loss: 0.3875 - val_accuracy: 0.9110 - val_loss: 0.3153\n",
      "Epoch 5/10\n",
      "\u001b[1m422/422\u001b[0m \u001b[32m━━━━━━━━━━━━━━━━━━━━\u001b[0m\u001b[37m\u001b[0m \u001b[1m0s\u001b[0m 537us/step - accuracy: 0.8994 - loss: 0.3525 - val_accuracy: 0.9203 - val_loss: 0.2882\n",
      "Epoch 6/10\n",
      "\u001b[1m422/422\u001b[0m \u001b[32m━━━━━━━━━━━━━━━━━━━━\u001b[0m\u001b[37m\u001b[0m \u001b[1m0s\u001b[0m 537us/step - accuracy: 0.8994 - loss: 0.3525 - val_accuracy: 0.9203 - val_loss: 0.2882\n",
      "Epoch 6/10\n",
      "\u001b[1m422/422\u001b[0m \u001b[32m━━━━━━━━━━━━━━━━━━━━\u001b[0m\u001b[37m\u001b[0m \u001b[1m0s\u001b[0m 501us/step - accuracy: 0.9063 - loss: 0.3252 - val_accuracy: 0.9228 - val_loss: 0.2729\n",
      "Epoch 7/10\n",
      "\u001b[1m422/422\u001b[0m \u001b[32m━━━━━━━━━━━━━━━━━━━━\u001b[0m\u001b[37m\u001b[0m \u001b[1m0s\u001b[0m 501us/step - accuracy: 0.9063 - loss: 0.3252 - val_accuracy: 0.9228 - val_loss: 0.2729\n",
      "Epoch 7/10\n",
      "\u001b[1m422/422\u001b[0m \u001b[32m━━━━━━━━━━━━━━━━━━━━\u001b[0m\u001b[37m\u001b[0m \u001b[1m0s\u001b[0m 509us/step - accuracy: 0.9120 - loss: 0.3048 - val_accuracy: 0.9243 - val_loss: 0.2576\n",
      "Epoch 8/10\n",
      "\u001b[1m422/422\u001b[0m \u001b[32m━━━━━━━━━━━━━━━━━━━━\u001b[0m\u001b[37m\u001b[0m \u001b[1m0s\u001b[0m 509us/step - accuracy: 0.9120 - loss: 0.3048 - val_accuracy: 0.9243 - val_loss: 0.2576\n",
      "Epoch 8/10\n",
      "\u001b[1m422/422\u001b[0m \u001b[32m━━━━━━━━━━━━━━━━━━━━\u001b[0m\u001b[37m\u001b[0m \u001b[1m0s\u001b[0m 512us/step - accuracy: 0.9168 - loss: 0.2883 - val_accuracy: 0.9298 - val_loss: 0.2468\n",
      "Epoch 9/10\n",
      "\u001b[1m422/422\u001b[0m \u001b[32m━━━━━━━━━━━━━━━━━━━━\u001b[0m\u001b[37m\u001b[0m \u001b[1m0s\u001b[0m 512us/step - accuracy: 0.9168 - loss: 0.2883 - val_accuracy: 0.9298 - val_loss: 0.2468\n",
      "Epoch 9/10\n",
      "\u001b[1m422/422\u001b[0m \u001b[32m━━━━━━━━━━━━━━━━━━━━\u001b[0m\u001b[37m\u001b[0m \u001b[1m0s\u001b[0m 511us/step - accuracy: 0.9197 - loss: 0.2754 - val_accuracy: 0.9300 - val_loss: 0.2389\n",
      "Epoch 10/10\n",
      "\u001b[1m422/422\u001b[0m \u001b[32m━━━━━━━━━━━━━━━━━━━━\u001b[0m\u001b[37m\u001b[0m \u001b[1m0s\u001b[0m 511us/step - accuracy: 0.9197 - loss: 0.2754 - val_accuracy: 0.9300 - val_loss: 0.2389\n",
      "Epoch 10/10\n",
      "\u001b[1m422/422\u001b[0m \u001b[32m━━━━━━━━━━━━━━━━━━━━\u001b[0m\u001b[37m\u001b[0m \u001b[1m0s\u001b[0m 505us/step - accuracy: 0.9236 - loss: 0.2630 - val_accuracy: 0.9333 - val_loss: 0.2272\n",
      "\u001b[1m422/422\u001b[0m \u001b[32m━━━━━━━━━━━━━━━━━━━━\u001b[0m\u001b[37m\u001b[0m \u001b[1m0s\u001b[0m 505us/step - accuracy: 0.9236 - loss: 0.2630 - val_accuracy: 0.9333 - val_loss: 0.2272\n"
     ]
    },
    {
     "data": {
      "text/plain": [
       "<keras.src.callbacks.history.History at 0x173e6d190>"
      ]
     },
     "execution_count": 23,
     "metadata": {},
     "output_type": "execute_result"
    }
   ],
   "source": [
    "# Train the neural network using training data.\n",
    "model2.fit(train_X_flat, train_y_cat, \n",
    "           epochs=10,  # Go through the entire training set 10 times (cycles). More is better (to a certain point)\n",
    "           batch_size=128,  # Training data divided into 128 samples each. Model updates its weights after each batch.\n",
    "           validation_split=0.1)  # 10% of the training data will be held out during training to evaluate how it is doing. Prevents overfitting."
   ]
  },
  {
   "cell_type": "markdown",
   "metadata": {},
   "source": [
    "# Compare Model Results to Labeled Data\n",
    "\n",
    "Our dataset contains labeled values for each numeral.  \n",
    "\n",
    "Using accuracy_score and classification_report from scikit-learn, we can see how well our model predicts numeric values against the labels."
   ]
  },
  {
   "cell_type": "code",
   "execution_count": 24,
   "metadata": {},
   "outputs": [],
   "source": [
    "from sklearn.metrics import accuracy_score, classification_report\n",
    "import numpy as np"
   ]
  },
  {
   "cell_type": "code",
   "execution_count": 25,
   "metadata": {},
   "outputs": [
    {
     "name": "stdout",
     "output_type": "stream",
     "text": [
      "\u001b[1m313/313\u001b[0m \u001b[32m━━━━━━━━━━━━━━━━━━━━\u001b[0m\u001b[37m\u001b[0m \u001b[1m0s\u001b[0m 245us/step\n",
      "\u001b[1m313/313\u001b[0m \u001b[32m━━━━━━━━━━━━━━━━━━━━\u001b[0m\u001b[37m\u001b[0m \u001b[1m0s\u001b[0m 245us/step\n"
     ]
    }
   ],
   "source": [
    "# Perform predictions using the flattened Test data against the Labels (Y values).\n",
    "y_pred_probs = model2.predict(test_X_flat)  # shape: (num_samples, 784)\n",
    "y_pred = np.argmax(y_pred_probs, axis=1)"
   ]
  },
  {
   "cell_type": "code",
   "execution_count": 26,
   "metadata": {},
   "outputs": [
    {
     "name": "stdout",
     "output_type": "stream",
     "text": [
      "Accuracy Score: 0.9212\n",
      "Classification Report:\n",
      "              precision    recall  f1-score   support\n",
      "\n",
      "           0       0.95      0.95      0.95       980\n",
      "           1       0.96      0.98      0.97      1135\n",
      "           2       0.90      0.94      0.92      1032\n",
      "           3       0.89      0.88      0.89      1010\n",
      "           4       0.94      0.94      0.94       982\n",
      "           5       0.91      0.84      0.87       892\n",
      "           6       0.92      0.96      0.94       958\n",
      "           7       0.95      0.91      0.93      1028\n",
      "           8       0.87      0.90      0.89       974\n",
      "           9       0.90      0.91      0.91      1009\n",
      "\n",
      "    accuracy                           0.92     10000\n",
      "   macro avg       0.92      0.92      0.92     10000\n",
      "weighted avg       0.92      0.92      0.92     10000\n",
      "\n"
     ]
    }
   ],
   "source": [
    "# Calculate Accuracy and also perform a Classification Report which gives other details about model performance.\n",
    "accuracy = accuracy_score(test_y, y_pred)\n",
    "\n",
    "print(\"Accuracy Score:\", accuracy)\n",
    "print(\"Classification Report:\")\n",
    "print(classification_report(test_y, y_pred))"
   ]
  },
  {
   "cell_type": "markdown",
   "metadata": {},
   "source": [
    "---"
   ]
  },
  {
   "cell_type": "markdown",
   "metadata": {},
   "source": [
    "# Predict one image value.\n",
    "\n",
    "Select one of the images from the test sample (which was not used in training).\n",
    "\n",
    "View the image and see what you think it is without assistance.\n",
    "\n",
    "See whether the model will correctly predict its value. Does the prediction match your expectation?"
   ]
  },
  {
   "cell_type": "code",
   "execution_count": 33,
   "metadata": {},
   "outputs": [
    {
     "data": {
      "image/png": "[encoded data removed]",
      "text/plain": [
       "<Figure size 640x480 with 1 Axes>"
      ]
     },
     "metadata": {},
     "output_type": "display_data"
    }
   ],
   "source": [
    "# Test the neural network with a sample from the test data.\n",
    "\n",
    "import numpy as np\n",
    "\n",
    "# Choose one sample and visually inspect it.\n",
    "sample_index = 7\n",
    "pyplot.subplot(330 + 1 + sample_index)\n",
    "pyplot.imshow(test_X[sample_index], cmap=pyplot.get_cmap('gray'))\n",
    "pyplot.show()"
   ]
  },
  {
   "cell_type": "code",
   "execution_count": 34,
   "metadata": {},
   "outputs": [
    {
     "name": "stdout",
     "output_type": "stream",
     "text": [
      "\u001b[1m1/1\u001b[0m \u001b[32m━━━━━━━━━━━━━━━━━━━━\u001b[0m\u001b[37m\u001b[0m \u001b[1m0s\u001b[0m 31ms/step\n",
      "Predicted label: 9\n",
      "True label: 9\n",
      "\u001b[1m1/1\u001b[0m \u001b[32m━━━━━━━━━━━━━━━━━━━━\u001b[0m\u001b[37m\u001b[0m \u001b[1m0s\u001b[0m 31ms/step\n",
      "Predicted label: 9\n",
      "True label: 9\n"
     ]
    }
   ],
   "source": [
    "# Reshape the test sample into 784-length vector. \n",
    "sample = test_X[sample_index].reshape(1, 784)\n",
    "\n",
    "# Predict\n",
    "prediction = model2.predict(sample)\n",
    "predicted_label = np.argmax(prediction)\n",
    "\n",
    "print(\"Predicted label:\", predicted_label)\n",
    "print(\"True label:\", test_y[sample_index])"
   ]
  },
  {
   "cell_type": "markdown",
   "metadata": {},
   "source": [
    "## Predict self-drawn numerals\n",
    "\n",
    "The data files for this unit include an image for each digit which was hand-drawn by one of the course developers.\n",
    "\n",
    "These steps will demonstrate how to use a pre-trained neural network, built in the previous steps, to predict what numeral is in the image."
   ]
  },
  {
   "cell_type": "code",
   "execution_count": 35,
   "metadata": {},
   "outputs": [
    {
     "data": {
      "image/png": "[encoded data removed]",
      "text/plain": [
       "<Figure size 640x480 with 1 Axes>"
      ]
     },
     "metadata": {},
     "output_type": "display_data"
    }
   ],
   "source": [
    "# Import image and plotting libraries.\n",
    "from PIL import Image, ImageOps\n",
    "import matplotlib.pyplot as plt\n",
    "import numpy as np\n",
    "\n",
    "# Open one of the image files, and display it.\n",
    "img = Image.open(\"digits/digit_2.png\")\n",
    "plt.imshow(img, cmap='gray')\n",
    "plt.show()"
   ]
  },
  {
   "cell_type": "code",
   "execution_count": 36,
   "metadata": {},
   "outputs": [],
   "source": [
    "# To use our image in our model, we must convert it into a numeric vector.  \n",
    "# We normalize the image by dividing 255 into it (255 different greyscale values). This will result in values from 0 to 1.\n",
    "img_array = np.array(img).astype('float32') / 255.0\n",
    "img_input = img_array.reshape(1, 784)  # ready for model.predict()"
   ]
  },
  {
   "cell_type": "code",
   "execution_count": 37,
   "metadata": {},
   "outputs": [
    {
     "name": "stdout",
     "output_type": "stream",
     "text": [
      "\u001b[1m1/1\u001b[0m \u001b[32m━━━━━━━━━━━━━━━━━━━━\u001b[0m\u001b[37m\u001b[0m \u001b[1m0s\u001b[0m 14ms/step\n",
      "Predicted digit: 2\n",
      "\u001b[1m1/1\u001b[0m \u001b[32m━━━━━━━━━━━━━━━━━━━━\u001b[0m\u001b[37m\u001b[0m \u001b[1m0s\u001b[0m 14ms/step\n",
      "Predicted digit: 2\n"
     ]
    }
   ],
   "source": [
    "# Use the image as input to our model and make a prediction about what digit is shown.\n",
    "prediction = model2.predict(img_input)\n",
    "predicted_digit = np.argmax(prediction)\n",
    "print(\"Predicted digit:\", predicted_digit)"
   ]
  },
  {
   "cell_type": "markdown",
   "metadata": {},
   "source": [
    "---"
   ]
  },
  {
   "cell_type": "markdown",
   "metadata": {},
   "source": [
    "# Practice\n",
    "\n",
    "Import one of the other images and use the model above to predict what numeral it is.  Feel free to re-use some of the code created above."
   ]
  },
  {
   "cell_type": "code",
   "execution_count": 38,
   "metadata": {},
   "outputs": [
    {
     "data": {
      "image/png": "[encoded data removed]",
      "text/plain": [
       "<Figure size 640x480 with 1 Axes>"
      ]
     },
     "metadata": {},
     "output_type": "display_data"
    }
   ],
   "source": [
    "# Open one of the image files, and display it.\n",
    "# Make sure to pick a different image.\n",
    "\n",
    "img2 = Image.open(\"digits/digit_4.png\")\n",
    "plt.imshow(img2, cmap='gray')\n",
    "plt.show()"
   ]
  },
  {
   "cell_type": "code",
   "execution_count": 39,
   "metadata": {},
   "outputs": [],
   "source": [
    "# To use our image in our model, we must convert it into a numeric vector.  \n",
    "# Normalize the image by dividing 255 into it (255 different greyscale values). This will result in values from 0 to 1.\n",
    "img2_array = np.array(img2).astype('float32') / 255.0\n",
    "img2_input = img2_array.reshape(1, 784)  # ready for model.predict()"
   ]
  },
  {
   "cell_type": "code",
   "execution_count": 40,
   "metadata": {},
   "outputs": [
    {
     "name": "stdout",
     "output_type": "stream",
     "text": [
      "\u001b[1m1/1\u001b[0m \u001b[32m━━━━━━━━━━━━━━━━━━━━\u001b[0m\u001b[37m\u001b[0m \u001b[1m0s\u001b[0m 12ms/step\n",
      "Predicted digit: 5\n",
      "\u001b[1m1/1\u001b[0m \u001b[32m━━━━━━━━━━━━━━━━━━━━\u001b[0m\u001b[37m\u001b[0m \u001b[1m0s\u001b[0m 12ms/step\n",
      "Predicted digit: 5\n"
     ]
    }
   ],
   "source": [
    "# Use the image as input to our model and make a prediction about what digit is shown.\n",
    "img2_prediction = model2.predict(img2_input)\n",
    "img2_predicted_digit = np.argmax(img2_prediction)\n",
    "print(\"Predicted digit:\", img2_predicted_digit)"
   ]
  },
  {
   "cell_type": "markdown",
   "metadata": {},
   "source": [
    "# Practice Part 2 / discuss in class\n",
    "\n",
    "Is the predicted value of the image always correct?\n",
    "\n",
    "What are some ways you can improve the accuracy of the prediction?"
   ]
  },
  {
   "cell_type": "markdown",
   "metadata": {},
   "source": [
    "---"
   ]
  },
  {
   "cell_type": "code",
   "execution_count": 41,
   "metadata": {},
   "outputs": [
    {
     "data": {
      "image/png": "[encoded data removed]",
      "text/plain": [
       "<Figure size 640x480 with 1 Axes>"
      ]
     },
     "metadata": {},
     "output_type": "display_data"
    }
   ],
   "source": [
    "# Open one of the image files, and display it.\n",
    "# Make sure to pick a different image.\n",
    "img = Image.open(\"digits/digit_6.png\")\n",
    "plt.imshow(img, cmap='gray')\n",
    "plt.show()"
   ]
  },
  {
   "cell_type": "code",
   "execution_count": 42,
   "metadata": {},
   "outputs": [],
   "source": [
    "# To use our image in our model, we must convert it into a numeric vector.  \n",
    "# We normalize the image by dividing 255 into it (255 different greyscale values). This will result in values from 0 to 1.\n",
    "img_array = np.array(img).astype('float32') / 255.0\n",
    "img_input = img_array.reshape(1, 784)  # ready for model.predict()"
   ]
  },
  {
   "cell_type": "code",
   "execution_count": 43,
   "metadata": {},
   "outputs": [
    {
     "name": "stdout",
     "output_type": "stream",
     "text": [
      "\u001b[1m1/1\u001b[0m \u001b[32m━━━━━━━━━━━━━━━━━━━━\u001b[0m\u001b[37m\u001b[0m \u001b[1m0s\u001b[0m 13ms/step\n",
      "Predicted digit: 3\n",
      "\u001b[1m1/1\u001b[0m \u001b[32m━━━━━━━━━━━━━━━━━━━━\u001b[0m\u001b[37m\u001b[0m \u001b[1m0s\u001b[0m 13ms/step\n",
      "Predicted digit: 3\n"
     ]
    }
   ],
   "source": [
    "# Use the image as input to our model and make a prediction about what digit is shown.\n",
    "prediction = model2.predict(img_input)\n",
    "predicted_digit = np.argmax(prediction)\n",
    "print(\"Predicted digit:\", predicted_digit)"
   ]
  },
  {
   "cell_type": "markdown",
   "metadata": {
    "id": "A7QoFjQt76Vx"
   },
   "source": [
    "# Activation functions\n",
    "\n",
    "- A multiplier that helps artificial neural networks learn complex patterns in data \n",
    "\n",
    "- Input into the activation function is W*x + b.\n",
    "    - W: weights\n",
    "    - x: input vector \n",
    "    - b: bias (unrestricted with potentially high magnitude)\n",
    "\n",
    "- Neural network allow for non-linear models.\n",
    "\n",
    "![Image](ActivationFunctions.png)\n",
    "\n",
    "Image Source: https://miro.medium.com/max/1200/1*ZafDv3VUm60Eh10OeJu1vw.png\n",
    "\n",
    "Reference: https://www.youtube.com/watch?v=aircAruvnKk"
   ]
  },
  {
   "cell_type": "markdown",
   "metadata": {},
   "source": [
    "## Hidden Layer Activation Functions\n",
    "- <b>relu</b>: <i>most common</i>. Results in either 0 or 1 - send the result to the next level or don't. Helps avoid vanishing gradients.\n",
    "- <b>tanh</b>: smooth and bounded between -1 and 1\n",
    "- <b>swish or mish</b>: advanced - self-gated, smoother than ReLU, sometimes better accuracy\n",
    "- <b>leaky_relu, elu (Expontential Linear Function)</b>: variants of ReLU that handle negative inputs better\n",
    "\n",
    "## Output Activation Functions\n",
    "- <b>softmax</b>: <i>most common</i>. converts output logits into a probability distribution over the count of output units. Best when using <b>categorical_crossentropy</b> loss. Most interpretable for classification.\n",
    "- <b>sigmoid</b>: only for binary or one-vs-all classification. Outputs between 0 and 1 for each output neuron independently. Requires <b>binary_crossentropy</b> or custom loss\n",
    "- <b>linear</b>: Outputs raw logitcs (unnormalized scores). Only makes sense if you apply softmax yourself during loss calculation. Used in <b>custom or research settings</b>."
   ]
  },
  {
   "cell_type": "markdown",
   "metadata": {},
   "source": [
    "## Activation Function Practice\n",
    "\n",
    "Create a new version of our Neural Network used for MNIST. Use different hidden layer Activation Functions:\n",
    "- leaky_relu\n",
    "- elu"
   ]
  },
  {
   "cell_type": "markdown",
   "metadata": {},
   "source": [
    "#### <b>elu</b> (exponential linear function)"
   ]
  },
  {
   "cell_type": "code",
   "execution_count": 50,
   "metadata": {},
   "outputs": [],
   "source": [
    "# The steps below create a neural network with an input layer, \n",
    "# 2 hidden layers with 32 neurons each, and\n",
    "# an output layer that can classify into 10 classes.\n",
    "\n",
    "# Change Activation Function of hidden layers to elu and see how it performs.\n",
    "from tensorflow.keras.layers import ELU, Input\n",
    "\n",
    "# Create an input layer\n",
    "inputs = Input(shape=(784,))\n",
    "\n",
    "model_elu = Sequential([\n",
    "    inputs,\n",
    "    Dense(10, kernel_initializer='uniform', activation='relu'),\n",
    "    Dense(32, kernel_initializer='uniform'),\n",
    "    ELU(alpha=1.0),  # alpha = scale of negative slope\n",
    "    Dense(32, kernel_initializer='uniform'),\n",
    "    ELU(alpha=1.0),  # alpha = scale of negative slope\n",
    "    Dense(10, kernel_initializer='uniform', activation='softmax')  # 10 units for 10 classes\n",
    "])\n",
    "\n",
    "model_elu.compile(optimizer='adam', loss='categorical_crossentropy', metrics=['accuracy'])"
   ]
  },
  {
   "cell_type": "code",
   "execution_count": 51,
   "metadata": {},
   "outputs": [
    {
     "name": "stdout",
     "output_type": "stream",
     "text": [
      "Epoch 1/10\n",
      "\u001b[1m422/422\u001b[0m \u001b[32m━━━━━━━━━━━━━━━━━━━━\u001b[0m\u001b[37m\u001b[0m \u001b[1m1s\u001b[0m 763us/step - accuracy: 0.5420 - loss: 1.2199 - val_accuracy: 0.7973 - val_loss: 0.6294\n",
      "Epoch 2/10\n",
      "\u001b[1m422/422\u001b[0m \u001b[32m━━━━━━━━━━━━━━━━━━━━\u001b[0m\u001b[37m\u001b[0m \u001b[1m1s\u001b[0m 763us/step - accuracy: 0.5420 - loss: 1.2199 - val_accuracy: 0.7973 - val_loss: 0.6294\n",
      "Epoch 2/10\n",
      "\u001b[1m422/422\u001b[0m \u001b[32m━━━━━━━━━━━━━━━━━━━━\u001b[0m\u001b[37m\u001b[0m \u001b[1m0s\u001b[0m 560us/step - accuracy: 0.8247 - loss: 0.5762 - val_accuracy: 0.8855 - val_loss: 0.3774\n",
      "Epoch 3/10\n",
      "\u001b[1m422/422\u001b[0m \u001b[32m━━━━━━━━━━━━━━━━━━━━\u001b[0m\u001b[37m\u001b[0m \u001b[1m0s\u001b[0m 560us/step - accuracy: 0.8247 - loss: 0.5762 - val_accuracy: 0.8855 - val_loss: 0.3774\n",
      "Epoch 3/10\n",
      "\u001b[1m422/422\u001b[0m \u001b[32m━━━━━━━━━━━━━━━━━━━━\u001b[0m\u001b[37m\u001b[0m \u001b[1m0s\u001b[0m 571us/step - accuracy: 0.8746 - loss: 0.4144 - val_accuracy: 0.8977 - val_loss: 0.3232\n",
      "Epoch 4/10\n",
      "\u001b[1m422/422\u001b[0m \u001b[32m━━━━━━━━━━━━━━━━━━━━\u001b[0m\u001b[37m\u001b[0m \u001b[1m0s\u001b[0m 571us/step - accuracy: 0.8746 - loss: 0.4144 - val_accuracy: 0.8977 - val_loss: 0.3232\n",
      "Epoch 4/10\n",
      "\u001b[1m422/422\u001b[0m \u001b[32m━━━━━━━━━━━━━━━━━━━━\u001b[0m\u001b[37m\u001b[0m \u001b[1m0s\u001b[0m 556us/step - accuracy: 0.9016 - loss: 0.3282 - val_accuracy: 0.9235 - val_loss: 0.2472\n",
      "Epoch 5/10\n",
      "\u001b[1m422/422\u001b[0m \u001b[32m━━━━━━━━━━━━━━━━━━━━\u001b[0m\u001b[37m\u001b[0m \u001b[1m0s\u001b[0m 556us/step - accuracy: 0.9016 - loss: 0.3282 - val_accuracy: 0.9235 - val_loss: 0.2472\n",
      "Epoch 5/10\n",
      "\u001b[1m422/422\u001b[0m \u001b[32m━━━━━━━━━━━━━━━━━━━━\u001b[0m\u001b[37m\u001b[0m \u001b[1m0s\u001b[0m 552us/step - accuracy: 0.9170 - loss: 0.2765 - val_accuracy: 0.9305 - val_loss: 0.2154\n",
      "Epoch 6/10\n",
      "\u001b[1m422/422\u001b[0m \u001b[32m━━━━━━━━━━━━━━━━━━━━\u001b[0m\u001b[37m\u001b[0m \u001b[1m0s\u001b[0m 552us/step - accuracy: 0.9170 - loss: 0.2765 - val_accuracy: 0.9305 - val_loss: 0.2154\n",
      "Epoch 6/10\n",
      "\u001b[1m422/422\u001b[0m \u001b[32m━━━━━━━━━━━━━━━━━━━━\u001b[0m\u001b[37m\u001b[0m \u001b[1m0s\u001b[0m 564us/step - accuracy: 0.9254 - loss: 0.2520 - val_accuracy: 0.9350 - val_loss: 0.2115\n",
      "Epoch 7/10\n",
      "\u001b[1m422/422\u001b[0m \u001b[32m━━━━━━━━━━━━━━━━━━━━\u001b[0m\u001b[37m\u001b[0m \u001b[1m0s\u001b[0m 564us/step - accuracy: 0.9254 - loss: 0.2520 - val_accuracy: 0.9350 - val_loss: 0.2115\n",
      "Epoch 7/10\n",
      "\u001b[1m422/422\u001b[0m \u001b[32m━━━━━━━━━━━━━━━━━━━━\u001b[0m\u001b[37m\u001b[0m \u001b[1m0s\u001b[0m 554us/step - accuracy: 0.9294 - loss: 0.2363 - val_accuracy: 0.9355 - val_loss: 0.2041\n",
      "Epoch 8/10\n",
      "\u001b[1m422/422\u001b[0m \u001b[32m━━━━━━━━━━━━━━━━━━━━\u001b[0m\u001b[37m\u001b[0m \u001b[1m0s\u001b[0m 554us/step - accuracy: 0.9294 - loss: 0.2363 - val_accuracy: 0.9355 - val_loss: 0.2041\n",
      "Epoch 8/10\n",
      "\u001b[1m422/422\u001b[0m \u001b[32m━━━━━━━━━━━━━━━━━━━━\u001b[0m\u001b[37m\u001b[0m \u001b[1m0s\u001b[0m 555us/step - accuracy: 0.9324 - loss: 0.2233 - val_accuracy: 0.9397 - val_loss: 0.1937\n",
      "Epoch 9/10\n",
      "\u001b[1m422/422\u001b[0m \u001b[32m━━━━━━━━━━━━━━━━━━━━\u001b[0m\u001b[37m\u001b[0m \u001b[1m0s\u001b[0m 555us/step - accuracy: 0.9324 - loss: 0.2233 - val_accuracy: 0.9397 - val_loss: 0.1937\n",
      "Epoch 9/10\n",
      "\u001b[1m422/422\u001b[0m \u001b[32m━━━━━━━━━━━━━━━━━━━━\u001b[0m\u001b[37m\u001b[0m \u001b[1m0s\u001b[0m 559us/step - accuracy: 0.9353 - loss: 0.2151 - val_accuracy: 0.9362 - val_loss: 0.1921\n",
      "Epoch 10/10\n",
      "\u001b[1m422/422\u001b[0m \u001b[32m━━━━━━━━━━━━━━━━━━━━\u001b[0m\u001b[37m\u001b[0m \u001b[1m0s\u001b[0m 559us/step - accuracy: 0.9353 - loss: 0.2151 - val_accuracy: 0.9362 - val_loss: 0.1921\n",
      "Epoch 10/10\n",
      "\u001b[1m422/422\u001b[0m \u001b[32m━━━━━━━━━━━━━━━━━━━━\u001b[0m\u001b[37m\u001b[0m \u001b[1m0s\u001b[0m 567us/step - accuracy: 0.9380 - loss: 0.2049 - val_accuracy: 0.9420 - val_loss: 0.1847\n",
      "\u001b[1m422/422\u001b[0m \u001b[32m━━━━━━━━━━━━━━━━━━━━\u001b[0m\u001b[37m\u001b[0m \u001b[1m0s\u001b[0m 567us/step - accuracy: 0.9380 - loss: 0.2049 - val_accuracy: 0.9420 - val_loss: 0.1847\n"
     ]
    },
    {
     "data": {
      "text/plain": [
       "<keras.src.callbacks.history.History at 0x309e1fd10>"
      ]
     },
     "execution_count": 51,
     "metadata": {},
     "output_type": "execute_result"
    }
   ],
   "source": [
    "model_elu.fit(train_X_flat, train_y_cat, \n",
    "           epochs=10,  # Go through the entire training set 10 times (cycles). More is better (to a certain point)\n",
    "           batch_size=128,  # Training data divided into 128 samples each. Model updates its weights after each batch.\n",
    "           validation_split=0.1)  # 10% of the training data will be held out during training to evaluate how it is doing. Prevents overfitting."
   ]
  },
  {
   "cell_type": "code",
   "execution_count": 52,
   "metadata": {},
   "outputs": [
    {
     "name": "stdout",
     "output_type": "stream",
     "text": [
      "\u001b[1m313/313\u001b[0m \u001b[32m━━━━━━━━━━━━━━━━━━━━\u001b[0m\u001b[37m\u001b[0m \u001b[1m0s\u001b[0m 252us/step\n",
      "\u001b[1m313/313\u001b[0m \u001b[32m━━━━━━━━━━━━━━━━━━━━\u001b[0m\u001b[37m\u001b[0m \u001b[1m0s\u001b[0m 252us/step\n"
     ]
    }
   ],
   "source": [
    "# Perform predictions using the flattened Test data against the Labels (Y values).\n",
    "y_pred_probs = model_elu.predict(test_X_flat)  # shape: (num_samples, 784)\n",
    "y_pred = np.argmax(y_pred_probs, axis=1)"
   ]
  },
  {
   "cell_type": "code",
   "execution_count": 53,
   "metadata": {},
   "outputs": [
    {
     "name": "stdout",
     "output_type": "stream",
     "text": [
      "Accuracy Score: 0.932\n",
      "Classification Report:\n",
      "              precision    recall  f1-score   support\n",
      "\n",
      "           0       0.95      0.99      0.97       980\n",
      "           1       0.97      0.98      0.97      1135\n",
      "           2       0.92      0.92      0.92      1032\n",
      "           3       0.89      0.92      0.91      1010\n",
      "           4       0.95      0.92      0.94       982\n",
      "           5       0.93      0.86      0.89       892\n",
      "           6       0.95      0.95      0.95       958\n",
      "           7       0.93      0.94      0.94      1028\n",
      "           8       0.91      0.90      0.91       974\n",
      "           9       0.90      0.93      0.92      1009\n",
      "\n",
      "    accuracy                           0.93     10000\n",
      "   macro avg       0.93      0.93      0.93     10000\n",
      "weighted avg       0.93      0.93      0.93     10000\n",
      "\n"
     ]
    }
   ],
   "source": [
    "# Calculate Accuracy and also perform a Classification Report which gives other details about model performance.\n",
    "accuracy = accuracy_score(test_y, y_pred)\n",
    "\n",
    "print(\"Accuracy Score:\", accuracy)\n",
    "print(\"Classification Report:\")\n",
    "print(classification_report(test_y, y_pred))"
   ]
  },
  {
   "cell_type": "markdown",
   "metadata": {},
   "source": [
    "#### <b>leaky_relu</b>"
   ]
  },
  {
   "cell_type": "code",
   "execution_count": 55,
   "metadata": {},
   "outputs": [],
   "source": [
    "# The steps below create a neural network with an input layer, \n",
    "# 2 hidden layers with 32 neurons each, and\n",
    "# an output layer that can classify into 10 classes.\n",
    "\n",
    "# Change Activation Function of hidden layers to LeakyReLU\n",
    "from tensorflow.keras.layers import LeakyReLU, Input\n",
    "\n",
    "# Create an input layer\n",
    "inputs = Input(shape=(784,))\n",
    "\n",
    "model_leakyrelu = Sequential([\n",
    "    inputs,\n",
    "    Dense(10, kernel_initializer='uniform', activation='relu'),\n",
    "    Dense(32, kernel_initializer='uniform'),\n",
    "    LeakyReLU(negative_slope=0.01),  # Using negative_slope instead of alpha\n",
    "    Dense(32, kernel_initializer='uniform'),\n",
    "    LeakyReLU(negative_slope=0.01),  # Using negative_slope instead of alpha\n",
    "    Dense(10, kernel_initializer='uniform', activation='softmax')  # 10 units for 10 classes\n",
    "])\n",
    "\n",
    "model_leakyrelu.compile(optimizer='adam', loss='categorical_crossentropy', metrics=['accuracy'])"
   ]
  },
  {
   "cell_type": "code",
   "execution_count": 56,
   "metadata": {},
   "outputs": [
    {
     "name": "stdout",
     "output_type": "stream",
     "text": [
      "Epoch 1/10\n",
      "\u001b[1m422/422\u001b[0m \u001b[32m━━━━━━━━━━━━━━━━━━━━\u001b[0m\u001b[37m\u001b[0m \u001b[1m1s\u001b[0m 731us/step - accuracy: 0.6417 - loss: 1.0523 - val_accuracy: 0.8587 - val_loss: 0.5019\n",
      "Epoch 2/10\n",
      "\u001b[1m422/422\u001b[0m \u001b[32m━━━━━━━━━━━━━━━━━━━━\u001b[0m\u001b[37m\u001b[0m \u001b[1m1s\u001b[0m 731us/step - accuracy: 0.6417 - loss: 1.0523 - val_accuracy: 0.8587 - val_loss: 0.5019\n",
      "Epoch 2/10\n",
      "\u001b[1m422/422\u001b[0m \u001b[32m━━━━━━━━━━━━━━━━━━━━\u001b[0m\u001b[37m\u001b[0m \u001b[1m0s\u001b[0m 539us/step - accuracy: 0.8470 - loss: 0.5348 - val_accuracy: 0.8828 - val_loss: 0.4133\n",
      "Epoch 3/10\n",
      "\u001b[1m422/422\u001b[0m \u001b[32m━━━━━━━━━━━━━━━━━━━━\u001b[0m\u001b[37m\u001b[0m \u001b[1m0s\u001b[0m 539us/step - accuracy: 0.8470 - loss: 0.5348 - val_accuracy: 0.8828 - val_loss: 0.4133\n",
      "Epoch 3/10\n",
      "\u001b[1m422/422\u001b[0m \u001b[32m━━━━━━━━━━━━━━━━━━━━\u001b[0m\u001b[37m\u001b[0m \u001b[1m0s\u001b[0m 529us/step - accuracy: 0.8683 - loss: 0.4672 - val_accuracy: 0.8988 - val_loss: 0.3640\n",
      "Epoch 4/10\n",
      "\u001b[1m422/422\u001b[0m \u001b[32m━━━━━━━━━━━━━━━━━━━━\u001b[0m\u001b[37m\u001b[0m \u001b[1m0s\u001b[0m 529us/step - accuracy: 0.8683 - loss: 0.4672 - val_accuracy: 0.8988 - val_loss: 0.3640\n",
      "Epoch 4/10\n",
      "\u001b[1m422/422\u001b[0m \u001b[32m━━━━━━━━━━━━━━━━━━━━\u001b[0m\u001b[37m\u001b[0m \u001b[1m0s\u001b[0m 522us/step - accuracy: 0.8798 - loss: 0.4281 - val_accuracy: 0.9042 - val_loss: 0.3382\n",
      "Epoch 5/10\n",
      "\u001b[1m422/422\u001b[0m \u001b[32m━━━━━━━━━━━━━━━━━━━━\u001b[0m\u001b[37m\u001b[0m \u001b[1m0s\u001b[0m 522us/step - accuracy: 0.8798 - loss: 0.4281 - val_accuracy: 0.9042 - val_loss: 0.3382\n",
      "Epoch 5/10\n",
      "\u001b[1m422/422\u001b[0m \u001b[32m━━━━━━━━━━━━━━━━━━━━\u001b[0m\u001b[37m\u001b[0m \u001b[1m0s\u001b[0m 537us/step - accuracy: 0.8883 - loss: 0.3914 - val_accuracy: 0.9112 - val_loss: 0.3032\n",
      "Epoch 6/10\n",
      "\u001b[1m422/422\u001b[0m \u001b[32m━━━━━━━━━━━━━━━━━━━━\u001b[0m\u001b[37m\u001b[0m \u001b[1m0s\u001b[0m 537us/step - accuracy: 0.8883 - loss: 0.3914 - val_accuracy: 0.9112 - val_loss: 0.3032\n",
      "Epoch 6/10\n",
      "\u001b[1m422/422\u001b[0m \u001b[32m━━━━━━━━━━━━━━━━━━━━\u001b[0m\u001b[37m\u001b[0m \u001b[1m0s\u001b[0m 526us/step - accuracy: 0.8975 - loss: 0.3547 - val_accuracy: 0.9215 - val_loss: 0.2709\n",
      "Epoch 7/10\n",
      "\u001b[1m422/422\u001b[0m \u001b[32m━━━━━━━━━━━━━━━━━━━━\u001b[0m\u001b[37m\u001b[0m \u001b[1m0s\u001b[0m 526us/step - accuracy: 0.8975 - loss: 0.3547 - val_accuracy: 0.9215 - val_loss: 0.2709\n",
      "Epoch 7/10\n",
      "\u001b[1m422/422\u001b[0m \u001b[32m━━━━━━━━━━━━━━━━━━━━\u001b[0m\u001b[37m\u001b[0m \u001b[1m0s\u001b[0m 530us/step - accuracy: 0.9080 - loss: 0.3166 - val_accuracy: 0.9303 - val_loss: 0.2446\n",
      "Epoch 8/10\n",
      "\u001b[1m422/422\u001b[0m \u001b[32m━━━━━━━━━━━━━━━━━━━━\u001b[0m\u001b[37m\u001b[0m \u001b[1m0s\u001b[0m 530us/step - accuracy: 0.9080 - loss: 0.3166 - val_accuracy: 0.9303 - val_loss: 0.2446\n",
      "Epoch 8/10\n",
      "\u001b[1m422/422\u001b[0m \u001b[32m━━━━━━━━━━━━━━━━━━━━\u001b[0m\u001b[37m\u001b[0m \u001b[1m0s\u001b[0m 579us/step - accuracy: 0.9142 - loss: 0.2930 - val_accuracy: 0.9297 - val_loss: 0.2361\n",
      "Epoch 9/10\n",
      "\u001b[1m422/422\u001b[0m \u001b[32m━━━━━━━━━━━━━━━━━━━━\u001b[0m\u001b[37m\u001b[0m \u001b[1m0s\u001b[0m 579us/step - accuracy: 0.9142 - loss: 0.2930 - val_accuracy: 0.9297 - val_loss: 0.2361\n",
      "Epoch 9/10\n",
      "\u001b[1m422/422\u001b[0m \u001b[32m━━━━━━━━━━━━━━━━━━━━\u001b[0m\u001b[37m\u001b[0m \u001b[1m0s\u001b[0m 525us/step - accuracy: 0.9205 - loss: 0.2726 - val_accuracy: 0.9337 - val_loss: 0.2265\n",
      "Epoch 10/10\n",
      "\u001b[1m422/422\u001b[0m \u001b[32m━━━━━━━━━━━━━━━━━━━━\u001b[0m\u001b[37m\u001b[0m \u001b[1m0s\u001b[0m 525us/step - accuracy: 0.9205 - loss: 0.2726 - val_accuracy: 0.9337 - val_loss: 0.2265\n",
      "Epoch 10/10\n",
      "\u001b[1m422/422\u001b[0m \u001b[32m━━━━━━━━━━━━━━━━━━━━\u001b[0m\u001b[37m\u001b[0m \u001b[1m0s\u001b[0m 526us/step - accuracy: 0.9236 - loss: 0.2574 - val_accuracy: 0.9347 - val_loss: 0.2161\n",
      "\u001b[1m422/422\u001b[0m \u001b[32m━━━━━━━━━━━━━━━━━━━━\u001b[0m\u001b[37m\u001b[0m \u001b[1m0s\u001b[0m 526us/step - accuracy: 0.9236 - loss: 0.2574 - val_accuracy: 0.9347 - val_loss: 0.2161\n"
     ]
    },
    {
     "data": {
      "text/plain": [
       "<keras.src.callbacks.history.History at 0x30b1e3c90>"
      ]
     },
     "execution_count": 56,
     "metadata": {},
     "output_type": "execute_result"
    }
   ],
   "source": [
    "model_leakyrelu.fit(train_X_flat, train_y_cat, \n",
    "           epochs=10,  # Go through the entire training set 10 times (cycles). More is better (to a certain point)\n",
    "           batch_size=128,  # Training data divided into 128 samples each. Model updates its weights after each batch.\n",
    "           validation_split=0.1)  # 10% of the training data will be held out during training to evaluate how it is doing. Prevents overfitting."
   ]
  },
  {
   "cell_type": "code",
   "execution_count": 57,
   "metadata": {},
   "outputs": [
    {
     "name": "stdout",
     "output_type": "stream",
     "text": [
      "\u001b[1m313/313\u001b[0m \u001b[32m━━━━━━━━━━━━━━━━━━━━\u001b[0m\u001b[37m\u001b[0m \u001b[1m0s\u001b[0m 252us/step\n",
      "\u001b[1m313/313\u001b[0m \u001b[32m━━━━━━━━━━━━━━━━━━━━\u001b[0m\u001b[37m\u001b[0m \u001b[1m0s\u001b[0m 252us/step\n",
      "Accuracy Score: 0.9248\n",
      "Classification Report:\n",
      "              precision    recall  f1-score   support\n",
      "\n",
      "           0       0.94      0.97      0.95       980\n",
      "           1       0.96      0.98      0.97      1135\n",
      "           2       0.94      0.89      0.91      1032\n",
      "           3       0.92      0.90      0.91      1010\n",
      "           4       0.92      0.95      0.93       982\n",
      "           5       0.94      0.84      0.88       892\n",
      "           6       0.94      0.95      0.94       958\n",
      "           7       0.93      0.93      0.93      1028\n",
      "           8       0.87      0.92      0.89       974\n",
      "           9       0.91      0.91      0.91      1009\n",
      "\n",
      "    accuracy                           0.92     10000\n",
      "   macro avg       0.92      0.92      0.92     10000\n",
      "weighted avg       0.93      0.92      0.92     10000\n",
      "\n",
      "Accuracy Score: 0.9248\n",
      "Classification Report:\n",
      "              precision    recall  f1-score   support\n",
      "\n",
      "           0       0.94      0.97      0.95       980\n",
      "           1       0.96      0.98      0.97      1135\n",
      "           2       0.94      0.89      0.91      1032\n",
      "           3       0.92      0.90      0.91      1010\n",
      "           4       0.92      0.95      0.93       982\n",
      "           5       0.94      0.84      0.88       892\n",
      "           6       0.94      0.95      0.94       958\n",
      "           7       0.93      0.93      0.93      1028\n",
      "           8       0.87      0.92      0.89       974\n",
      "           9       0.91      0.91      0.91      1009\n",
      "\n",
      "    accuracy                           0.92     10000\n",
      "   macro avg       0.92      0.92      0.92     10000\n",
      "weighted avg       0.93      0.92      0.92     10000\n",
      "\n"
     ]
    }
   ],
   "source": [
    "# Perform predictions using the flattened Test data against the Labels (Y values).\n",
    "y_pred_probs = model_leakyrelu.predict(test_X_flat)  # shape: (num_samples, 784)\n",
    "y_pred = np.argmax(y_pred_probs, axis=1)\n",
    "\n",
    "# Calculate Accuracy and also perform a Classification Report which gives other details about model performance.\n",
    "accuracy = accuracy_score(test_y, y_pred)\n",
    "\n",
    "print(\"Accuracy Score:\", accuracy)\n",
    "print(\"Classification Report:\")\n",
    "print(classification_report(test_y, y_pred))"
   ]
  },
  {
   "cell_type": "markdown",
   "metadata": {},
   "source": [
    "## Bottom line - activation functions\n",
    "\n",
    "<b>relu</b> is the most common for hidden layers for our MNIST dataset, <i>but other functions exist.</i>\n",
    "\n",
    "<b>softmax</b> is the good option for the output layer."
   ]
  },
  {
   "cell_type": "markdown",
   "metadata": {},
   "source": [
    "---"
   ]
  },
  {
   "cell_type": "markdown",
   "metadata": {
    "id": "fXVVWo-cBB-x"
   },
   "source": [
    "# Learning Rate and Optimizers\n",
    "\n",
    "- The learning rate is a hyperparameter that controls how much to change the model in response to the estimated error each time the model weights are updated \n",
    "\n",
    "- A too-small learning rate may result in a long training process that could get stuck \n",
    "\n",
    "- A too-large learning rate may result in not obtaining optimal parameter values\n",
    "\n",
    "![Image](LearningRate.png)\n",
    "\n",
    "Image Source: https://www.jeremyjordan.me/content/images/2018/02/Screen-Shot-2018-02-24-at-11.47.09-AM.png"
   ]
  },
  {
   "cell_type": "markdown",
   "metadata": {},
   "source": [
    "# Optimizers\n",
    "\n",
    "### Adam - Adaptive Moment Estimation\n",
    "\n",
    "Keeps track of both:\n",
    "- Moving average of gradients\n",
    "- Moving average of Squared gradients\n",
    "\n",
    "May overfit without regularization\n",
    "\n",
    "Works well with minimal tuning\n",
    "\n",
    "### Others\n",
    "\n",
    "#### SGD: Stochastic Gradient Descent\n",
    "#### RMS: Root Mean Square Propagation\n",
    "#### Adagrad: Adaptive Gradient Algorithm"
   ]
  },
  {
   "cell_type": "code",
   "execution_count": 59,
   "metadata": {
    "id": "txDxB49tCaWJ"
   },
   "outputs": [],
   "source": [
    "# Let's build another neural network and test with our MNIST dataset.\n",
    "\n",
    "# We'll use the adam optimizer with LR set to 0.001.\n",
    "from tensorflow.keras.optimizers import Adam\n",
    "from tensorflow.keras.layers import Input\n",
    "\n",
    "lrate = 0.001 # Default. Also try 0.0001, 0.005, or 0.0005\n",
    "\n",
    "# Create an input layer\n",
    "inputs = Input(shape=(784,))\n",
    "\n",
    "model_lr = Sequential([\n",
    "    inputs,\n",
    "    Dense(10, kernel_initializer='uniform', activation='relu'),\n",
    "    Dense(32, kernel_initializer='uniform', activation='relu'),\n",
    "    Dense(32, kernel_initializer='uniform', activation='relu'),\n",
    "    Dense(10, kernel_initializer='uniform', activation='softmax')\n",
    "])\n",
    "\n",
    "optimizer = Adam(learning_rate=lrate) \n",
    "model_lr.compile(optimizer=optimizer, loss='categorical_crossentropy', metrics=['accuracy'])"
   ]
  },
  {
   "cell_type": "code",
   "execution_count": 60,
   "metadata": {},
   "outputs": [
    {
     "name": "stdout",
     "output_type": "stream",
     "text": [
      "Epoch 1/10\n",
      "\u001b[1m422/422\u001b[0m \u001b[32m━━━━━━━━━━━━━━━━━━━━\u001b[0m\u001b[37m\u001b[0m \u001b[1m1s\u001b[0m 719us/step - accuracy: 0.6320 - loss: 1.0812 - val_accuracy: 0.8455 - val_loss: 0.5174\n",
      "Epoch 2/10\n",
      "\u001b[1m422/422\u001b[0m \u001b[32m━━━━━━━━━━━━━━━━━━━━\u001b[0m\u001b[37m\u001b[0m \u001b[1m1s\u001b[0m 719us/step - accuracy: 0.6320 - loss: 1.0812 - val_accuracy: 0.8455 - val_loss: 0.5174\n",
      "Epoch 2/10\n",
      "\u001b[1m422/422\u001b[0m \u001b[32m━━━━━━━━━━━━━━━━━━━━\u001b[0m\u001b[37m\u001b[0m \u001b[1m0s\u001b[0m 521us/step - accuracy: 0.8342 - loss: 0.5545 - val_accuracy: 0.8772 - val_loss: 0.4265\n",
      "Epoch 3/10\n",
      "\u001b[1m422/422\u001b[0m \u001b[32m━━━━━━━━━━━━━━━━━━━━\u001b[0m\u001b[37m\u001b[0m \u001b[1m0s\u001b[0m 521us/step - accuracy: 0.8342 - loss: 0.5545 - val_accuracy: 0.8772 - val_loss: 0.4265\n",
      "Epoch 3/10\n",
      "\u001b[1m422/422\u001b[0m \u001b[32m━━━━━━━━━━━━━━━━━━━━\u001b[0m\u001b[37m\u001b[0m \u001b[1m0s\u001b[0m 524us/step - accuracy: 0.8563 - loss: 0.4879 - val_accuracy: 0.8898 - val_loss: 0.3810\n",
      "Epoch 4/10\n",
      "\u001b[1m422/422\u001b[0m \u001b[32m━━━━━━━━━━━━━━━━━━━━\u001b[0m\u001b[37m\u001b[0m \u001b[1m0s\u001b[0m 524us/step - accuracy: 0.8563 - loss: 0.4879 - val_accuracy: 0.8898 - val_loss: 0.3810\n",
      "Epoch 4/10\n",
      "\u001b[1m422/422\u001b[0m \u001b[32m━━━━━━━━━━━━━━━━━━━━\u001b[0m\u001b[37m\u001b[0m \u001b[1m0s\u001b[0m 524us/step - accuracy: 0.8701 - loss: 0.4435 - val_accuracy: 0.8953 - val_loss: 0.3537\n",
      "Epoch 5/10\n",
      "\u001b[1m422/422\u001b[0m \u001b[32m━━━━━━━━━━━━━━━━━━━━\u001b[0m\u001b[37m\u001b[0m \u001b[1m0s\u001b[0m 524us/step - accuracy: 0.8701 - loss: 0.4435 - val_accuracy: 0.8953 - val_loss: 0.3537\n",
      "Epoch 5/10\n",
      "\u001b[1m422/422\u001b[0m \u001b[32m━━━━━━━━━━━━━━━━━━━━\u001b[0m\u001b[37m\u001b[0m \u001b[1m0s\u001b[0m 519us/step - accuracy: 0.8800 - loss: 0.4140 - val_accuracy: 0.8942 - val_loss: 0.3600\n",
      "Epoch 6/10\n",
      "\u001b[1m422/422\u001b[0m \u001b[32m━━━━━━━━━━━━━━━━━━━━\u001b[0m\u001b[37m\u001b[0m \u001b[1m0s\u001b[0m 519us/step - accuracy: 0.8800 - loss: 0.4140 - val_accuracy: 0.8942 - val_loss: 0.3600\n",
      "Epoch 6/10\n",
      "\u001b[1m422/422\u001b[0m \u001b[32m━━━━━━━━━━━━━━━━━━━━\u001b[0m\u001b[37m\u001b[0m \u001b[1m0s\u001b[0m 515us/step - accuracy: 0.8895 - loss: 0.3791 - val_accuracy: 0.9110 - val_loss: 0.2975\n",
      "Epoch 7/10\n",
      "\u001b[1m422/422\u001b[0m \u001b[32m━━━━━━━━━━━━━━━━━━━━\u001b[0m\u001b[37m\u001b[0m \u001b[1m0s\u001b[0m 515us/step - accuracy: 0.8895 - loss: 0.3791 - val_accuracy: 0.9110 - val_loss: 0.2975\n",
      "Epoch 7/10\n",
      "\u001b[1m422/422\u001b[0m \u001b[32m━━━━━━━━━━━━━━━━━━━━\u001b[0m\u001b[37m\u001b[0m \u001b[1m0s\u001b[0m 521us/step - accuracy: 0.9046 - loss: 0.3268 - val_accuracy: 0.9220 - val_loss: 0.2611\n",
      "Epoch 8/10\n",
      "\u001b[1m422/422\u001b[0m \u001b[32m━━━━━━━━━━━━━━━━━━━━\u001b[0m\u001b[37m\u001b[0m \u001b[1m0s\u001b[0m 521us/step - accuracy: 0.9046 - loss: 0.3268 - val_accuracy: 0.9220 - val_loss: 0.2611\n",
      "Epoch 8/10\n",
      "\u001b[1m422/422\u001b[0m \u001b[32m━━━━━━━━━━━━━━━━━━━━\u001b[0m\u001b[37m\u001b[0m \u001b[1m0s\u001b[0m 528us/step - accuracy: 0.9106 - loss: 0.3056 - val_accuracy: 0.9265 - val_loss: 0.2497\n",
      "Epoch 9/10\n",
      "\u001b[1m422/422\u001b[0m \u001b[32m━━━━━━━━━━━━━━━━━━━━\u001b[0m\u001b[37m\u001b[0m \u001b[1m0s\u001b[0m 528us/step - accuracy: 0.9106 - loss: 0.3056 - val_accuracy: 0.9265 - val_loss: 0.2497\n",
      "Epoch 9/10\n",
      "\u001b[1m422/422\u001b[0m \u001b[32m━━━━━━━━━━━━━━━━━━━━\u001b[0m\u001b[37m\u001b[0m \u001b[1m0s\u001b[0m 517us/step - accuracy: 0.9149 - loss: 0.2910 - val_accuracy: 0.9258 - val_loss: 0.2503\n",
      "Epoch 10/10\n",
      "\u001b[1m422/422\u001b[0m \u001b[32m━━━━━━━━━━━━━━━━━━━━\u001b[0m\u001b[37m\u001b[0m \u001b[1m0s\u001b[0m 517us/step - accuracy: 0.9149 - loss: 0.2910 - val_accuracy: 0.9258 - val_loss: 0.2503\n",
      "Epoch 10/10\n",
      "\u001b[1m422/422\u001b[0m \u001b[32m━━━━━━━━━━━━━━━━━━━━\u001b[0m\u001b[37m\u001b[0m \u001b[1m0s\u001b[0m 521us/step - accuracy: 0.9189 - loss: 0.2779 - val_accuracy: 0.9287 - val_loss: 0.2322\n",
      "\u001b[1m422/422\u001b[0m \u001b[32m━━━━━━━━━━━━━━━━━━━━\u001b[0m\u001b[37m\u001b[0m \u001b[1m0s\u001b[0m 521us/step - accuracy: 0.9189 - loss: 0.2779 - val_accuracy: 0.9287 - val_loss: 0.2322\n"
     ]
    },
    {
     "data": {
      "text/plain": [
       "<keras.src.callbacks.history.History at 0x357e037d0>"
      ]
     },
     "execution_count": 60,
     "metadata": {},
     "output_type": "execute_result"
    }
   ],
   "source": [
    "model_lr.fit(train_X_flat, train_y_cat, \n",
    "           epochs=10,  # Go through the entire training set 10 times (cycles). More is better (to a certain point)\n",
    "           batch_size=128,  # Training data divided into 128 samples each. Model updates its weights after each batch.\n",
    "           validation_split=0.1)  # 10% of the training data will be held out during training to evaluate how it is doing. Prevents overfitting."
   ]
  },
  {
   "cell_type": "code",
   "execution_count": 61,
   "metadata": {},
   "outputs": [
    {
     "name": "stdout",
     "output_type": "stream",
     "text": [
      "\u001b[1m313/313\u001b[0m \u001b[32m━━━━━━━━━━━━━━━━━━━━\u001b[0m\u001b[37m\u001b[0m \u001b[1m0s\u001b[0m 249us/step\n",
      "Accuracy Score: 0.9189\n",
      "Classification Report:\n",
      "              precision    recall  f1-score   support\n",
      "\n",
      "           0       0.94      0.97      0.96       980\n",
      "           1       0.97      0.98      0.97      1135\n",
      "           2       0.94      0.89      0.91      1032\n",
      "           3       0.86      0.92      0.89      1010\n",
      "           4       0.93      0.92      0.93       982\n",
      "           5       0.87      0.83      0.85       892\n",
      "           6       0.96      0.93      0.95       958\n",
      "           7       0.94      0.93      0.94      1028\n",
      "           8       0.87      0.89      0.88       974\n",
      "           9       0.90      0.90      0.90      1009\n",
      "\n",
      "    accuracy                           0.92     10000\n",
      "   macro avg       0.92      0.92      0.92     10000\n",
      "weighted avg       0.92      0.92      0.92     10000\n",
      "\n"
     ]
    }
   ],
   "source": [
    "# How does this perform?\n",
    "# Pretty well though not as well as the default Adam optimizer.\n",
    "\n",
    "# Perform predictions using the flattened Test data against the Labels (Y values).\n",
    "y_pred_probs = model_lr.predict(test_X_flat)  # shape: (num_samples, 784)\n",
    "y_pred = np.argmax(y_pred_probs, axis=1)\n",
    "\n",
    "# Calculate Accuracy and also perform a Classification Report which gives other details about model performance.\n",
    "accuracy = accuracy_score(test_y, y_pred)\n",
    "\n",
    "print(\"Accuracy Score:\", accuracy)\n",
    "print(\"Classification Report:\")\n",
    "print(classification_report(test_y, y_pred))"
   ]
  },
  {
   "cell_type": "code",
   "execution_count": 62,
   "metadata": {},
   "outputs": [],
   "source": [
    "# Let's build another neural network and test with our MNIST dataset.\n",
    "\n",
    "# We'll use the adam optimizer with LR set to 0.0001.\n",
    "from tensorflow.keras.optimizers import Adam\n",
    "from tensorflow.keras.layers import Input\n",
    "\n",
    "lrate = 0.0001\n",
    "\n",
    "# Create an input layer\n",
    "inputs = Input(shape=(784,))\n",
    "\n",
    "model_lr = Sequential([\n",
    "    inputs,\n",
    "    Dense(10, kernel_initializer='uniform', activation='relu'),\n",
    "    Dense(32, kernel_initializer='uniform', activation='relu'),\n",
    "    Dense(32, kernel_initializer='uniform', activation='relu'),\n",
    "    Dense(10, kernel_initializer='uniform', activation='softmax')\n",
    "])\n",
    "\n",
    "optimizer = Adam(learning_rate=lrate) \n",
    "model_lr.compile(optimizer=optimizer, loss='categorical_crossentropy', metrics=['accuracy'])"
   ]
  },
  {
   "cell_type": "code",
   "execution_count": 63,
   "metadata": {},
   "outputs": [
    {
     "name": "stdout",
     "output_type": "stream",
     "text": [
      "Epoch 1/10\n",
      "\u001b[1m422/422\u001b[0m \u001b[32m━━━━━━━━━━━━━━━━━━━━\u001b[0m\u001b[37m\u001b[0m \u001b[1m1s\u001b[0m 730us/step - accuracy: 0.2734 - loss: 2.1313 - val_accuracy: 0.3005 - val_loss: 1.7208\n",
      "Epoch 2/10\n",
      "\u001b[1m422/422\u001b[0m \u001b[32m━━━━━━━━━━━━━━━━━━━━\u001b[0m\u001b[37m\u001b[0m \u001b[1m0s\u001b[0m 520us/step - accuracy: 0.3742 - loss: 1.5482 - val_accuracy: 0.4633 - val_loss: 1.3650\n",
      "Epoch 3/10\n",
      "\u001b[1m422/422\u001b[0m \u001b[32m━━━━━━━━━━━━━━━━━━━━\u001b[0m\u001b[37m\u001b[0m \u001b[1m0s\u001b[0m 569us/step - accuracy: 0.4956 - loss: 1.3140 - val_accuracy: 0.5575 - val_loss: 1.1689\n",
      "Epoch 4/10\n",
      "\u001b[1m422/422\u001b[0m \u001b[32m━━━━━━━━━━━━━━━━━━━━\u001b[0m\u001b[37m\u001b[0m \u001b[1m0s\u001b[0m 510us/step - accuracy: 0.5890 - loss: 1.1429 - val_accuracy: 0.6400 - val_loss: 1.0069\n",
      "Epoch 5/10\n",
      "\u001b[1m422/422\u001b[0m \u001b[32m━━━━━━━━━━━━━━━━━━━━\u001b[0m\u001b[37m\u001b[0m \u001b[1m0s\u001b[0m 535us/step - accuracy: 0.6503 - loss: 1.0133 - val_accuracy: 0.6913 - val_loss: 0.8946\n",
      "Epoch 6/10\n",
      "\u001b[1m422/422\u001b[0m \u001b[32m━━━━━━━━━━━━━━━━━━━━\u001b[0m\u001b[37m\u001b[0m \u001b[1m0s\u001b[0m 518us/step - accuracy: 0.6841 - loss: 0.9320 - val_accuracy: 0.7127 - val_loss: 0.8316\n",
      "Epoch 7/10\n",
      "\u001b[1m422/422\u001b[0m \u001b[32m━━━━━━━━━━━━━━━━━━━━\u001b[0m\u001b[37m\u001b[0m \u001b[1m0s\u001b[0m 521us/step - accuracy: 0.7000 - loss: 0.8848 - val_accuracy: 0.7223 - val_loss: 0.7940\n",
      "Epoch 8/10\n",
      "\u001b[1m422/422\u001b[0m \u001b[32m━━━━━━━━━━━━━━━━━━━━\u001b[0m\u001b[37m\u001b[0m \u001b[1m0s\u001b[0m 521us/step - accuracy: 0.7108 - loss: 0.8542 - val_accuracy: 0.7370 - val_loss: 0.7684\n",
      "Epoch 9/10\n",
      "\u001b[1m422/422\u001b[0m \u001b[32m━━━━━━━━━━━━━━━━━━━━\u001b[0m\u001b[37m\u001b[0m \u001b[1m0s\u001b[0m 515us/step - accuracy: 0.7211 - loss: 0.8315 - val_accuracy: 0.7460 - val_loss: 0.7462\n",
      "Epoch 10/10\n",
      "\u001b[1m422/422\u001b[0m \u001b[32m━━━━━━━━━━━━━━━━━━━━\u001b[0m\u001b[37m\u001b[0m \u001b[1m0s\u001b[0m 510us/step - accuracy: 0.7290 - loss: 0.8130 - val_accuracy: 0.7563 - val_loss: 0.7295\n"
     ]
    },
    {
     "data": {
      "text/plain": [
       "<keras.src.callbacks.history.History at 0x30d416590>"
      ]
     },
     "execution_count": 63,
     "metadata": {},
     "output_type": "execute_result"
    }
   ],
   "source": [
    "model_lr.fit(train_X_flat, train_y_cat, \n",
    "           epochs=10,  # Go through the entire training set 10 times (cycles). More is better (to a certain point)\n",
    "           batch_size=128,  # Training data divided into 128 samples each. Model updates its weights after each batch.\n",
    "           validation_split=0.1)  # 10% of the training data will be held out during training to evaluate how it is doing. Prevents overfitting."
   ]
  },
  {
   "cell_type": "code",
   "execution_count": 64,
   "metadata": {},
   "outputs": [
    {
     "name": "stdout",
     "output_type": "stream",
     "text": [
      "\u001b[1m313/313\u001b[0m \u001b[32m━━━━━━━━━━━━━━━━━━━━\u001b[0m\u001b[37m\u001b[0m \u001b[1m0s\u001b[0m 252us/step\n",
      "Accuracy Score: 0.7427\n",
      "Classification Report:\n",
      "              precision    recall  f1-score   support\n",
      "\n",
      "           0       0.86      0.91      0.88       980\n",
      "           1       0.92      0.94      0.93      1135\n",
      "           2       0.85      0.73      0.79      1032\n",
      "           3       0.56      0.60      0.58      1010\n",
      "           4       0.67      0.61      0.64       982\n",
      "           5       0.62      0.55      0.58       892\n",
      "           6       0.84      0.87      0.85       958\n",
      "           7       0.86      0.84      0.85      1028\n",
      "           8       0.57      0.58      0.57       974\n",
      "           9       0.65      0.74      0.70      1009\n",
      "\n",
      "    accuracy                           0.74     10000\n",
      "   macro avg       0.74      0.74      0.74     10000\n",
      "weighted avg       0.74      0.74      0.74     10000\n",
      "\n"
     ]
    }
   ],
   "source": [
    "# How does this perform?\n",
    "\n",
    "# Perform predictions using the flattened Test data against the Labels (Y values).\n",
    "y_pred_probs = model_lr.predict(test_X_flat)  # shape: (num_samples, 784)\n",
    "y_pred = np.argmax(y_pred_probs, axis=1)\n",
    "\n",
    "# Calculate Accuracy and also perform a Classification Report which gives other details about model performance.\n",
    "accuracy = accuracy_score(test_y, y_pred)\n",
    "\n",
    "print(\"Accuracy Score:\", accuracy)\n",
    "print(\"Classification Report:\")\n",
    "print(classification_report(test_y, y_pred))"
   ]
  },
  {
   "cell_type": "markdown",
   "metadata": {
    "id": "I6gCBbTZGfTk",
    "tags": []
   },
   "source": [
    "# Practice\n",
    "Now, make the following modifications to the model:\n",
    "\n",
    "- Change the activation functions to tanh (except not the last layer).\n",
    "- Add 2 more layers after the input layer with 32 neurons each.\n",
    "- Change the learning rate to 0.05.\n",
    "- Train the model.\n",
    "- Print the accuracy score and classification report.\n",
    "\n",
    "Answer the questions:\n",
    "- Is it better or worse?\n",
    "- Why do you think that is? (Feel free to modify other hyperparameters to answer this.)"
   ]
  },
  {
   "cell_type": "code",
   "execution_count": 66,
   "metadata": {},
   "outputs": [
    {
     "name": "stdout",
     "output_type": "stream",
     "text": [
      "Epoch 1/10\n",
      "\u001b[1m422/422\u001b[0m \u001b[32m━━━━━━━━━━━━━━━━━━━━\u001b[0m\u001b[37m\u001b[0m \u001b[1m1s\u001b[0m 948us/step - accuracy: 0.6758 - loss: 0.9921 - val_accuracy: 0.6788 - val_loss: 1.0048\n",
      "Epoch 2/10\n",
      "\u001b[1m422/422\u001b[0m \u001b[32m━━━━━━━━━━━━━━━━━━━━\u001b[0m\u001b[37m\u001b[0m \u001b[1m1s\u001b[0m 948us/step - accuracy: 0.6758 - loss: 0.9921 - val_accuracy: 0.6788 - val_loss: 1.0048\n",
      "Epoch 2/10\n",
      "\u001b[1m422/422\u001b[0m \u001b[32m━━━━━━━━━━━━━━━━━━━━\u001b[0m\u001b[37m\u001b[0m \u001b[1m0s\u001b[0m 730us/step - accuracy: 0.6967 - loss: 0.9521 - val_accuracy: 0.6342 - val_loss: 0.9909\n",
      "Epoch 3/10\n",
      "\u001b[1m422/422\u001b[0m \u001b[32m━━━━━━━━━━━━━━━━━━━━\u001b[0m\u001b[37m\u001b[0m \u001b[1m0s\u001b[0m 730us/step - accuracy: 0.6967 - loss: 0.9521 - val_accuracy: 0.6342 - val_loss: 0.9909\n",
      "Epoch 3/10\n",
      "\u001b[1m422/422\u001b[0m \u001b[32m━━━━━━━━━━━━━━━━━━━━\u001b[0m\u001b[37m\u001b[0m \u001b[1m0s\u001b[0m 744us/step - accuracy: 0.6681 - loss: 1.0344 - val_accuracy: 0.6967 - val_loss: 0.9667\n",
      "Epoch 4/10\n",
      "\u001b[1m422/422\u001b[0m \u001b[32m━━━━━━━━━━━━━━━━━━━━\u001b[0m\u001b[37m\u001b[0m \u001b[1m0s\u001b[0m 744us/step - accuracy: 0.6681 - loss: 1.0344 - val_accuracy: 0.6967 - val_loss: 0.9667\n",
      "Epoch 4/10\n",
      "\u001b[1m422/422\u001b[0m \u001b[32m━━━━━━━━━━━━━━━━━━━━\u001b[0m\u001b[37m\u001b[0m \u001b[1m0s\u001b[0m 727us/step - accuracy: 0.5442 - loss: 1.3268 - val_accuracy: 0.5590 - val_loss: 1.2196\n",
      "Epoch 5/10\n",
      "\u001b[1m422/422\u001b[0m \u001b[32m━━━━━━━━━━━━━━━━━━━━\u001b[0m\u001b[37m\u001b[0m \u001b[1m0s\u001b[0m 727us/step - accuracy: 0.5442 - loss: 1.3268 - val_accuracy: 0.5590 - val_loss: 1.2196\n",
      "Epoch 5/10\n",
      "\u001b[1m422/422\u001b[0m \u001b[32m━━━━━━━━━━━━━━━━━━━━\u001b[0m\u001b[37m\u001b[0m \u001b[1m0s\u001b[0m 765us/step - accuracy: 0.5374 - loss: 1.3046 - val_accuracy: 0.5658 - val_loss: 1.3225\n",
      "Epoch 6/10\n",
      "\u001b[1m422/422\u001b[0m \u001b[32m━━━━━━━━━━━━━━━━━━━━\u001b[0m\u001b[37m\u001b[0m \u001b[1m0s\u001b[0m 765us/step - accuracy: 0.5374 - loss: 1.3046 - val_accuracy: 0.5658 - val_loss: 1.3225\n",
      "Epoch 6/10\n",
      "\u001b[1m422/422\u001b[0m \u001b[32m━━━━━━━━━━━━━━━━━━━━\u001b[0m\u001b[37m\u001b[0m \u001b[1m0s\u001b[0m 734us/step - accuracy: 0.5001 - loss: 1.4191 - val_accuracy: 0.4578 - val_loss: 1.4593\n",
      "Epoch 7/10\n",
      "\u001b[1m422/422\u001b[0m \u001b[32m━━━━━━━━━━━━━━━━━━━━\u001b[0m\u001b[37m\u001b[0m \u001b[1m0s\u001b[0m 734us/step - accuracy: 0.5001 - loss: 1.4191 - val_accuracy: 0.4578 - val_loss: 1.4593\n",
      "Epoch 7/10\n",
      "\u001b[1m422/422\u001b[0m \u001b[32m━━━━━━━━━━━━━━━━━━━━\u001b[0m\u001b[37m\u001b[0m \u001b[1m0s\u001b[0m 737us/step - accuracy: 0.4786 - loss: 1.5003 - val_accuracy: 0.4628 - val_loss: 1.4545\n",
      "Epoch 8/10\n",
      "\u001b[1m422/422\u001b[0m \u001b[32m━━━━━━━━━━━━━━━━━━━━\u001b[0m\u001b[37m\u001b[0m \u001b[1m0s\u001b[0m 737us/step - accuracy: 0.4786 - loss: 1.5003 - val_accuracy: 0.4628 - val_loss: 1.4545\n",
      "Epoch 8/10\n",
      "\u001b[1m422/422\u001b[0m \u001b[32m━━━━━━━━━━━━━━━━━━━━\u001b[0m\u001b[37m\u001b[0m \u001b[1m0s\u001b[0m 721us/step - accuracy: 0.4656 - loss: 1.5182 - val_accuracy: 0.3827 - val_loss: 1.5024\n",
      "Epoch 9/10\n",
      "\u001b[1m422/422\u001b[0m \u001b[32m━━━━━━━━━━━━━━━━━━━━\u001b[0m\u001b[37m\u001b[0m \u001b[1m0s\u001b[0m 721us/step - accuracy: 0.4656 - loss: 1.5182 - val_accuracy: 0.3827 - val_loss: 1.5024\n",
      "Epoch 9/10\n",
      "\u001b[1m422/422\u001b[0m \u001b[32m━━━━━━━━━━━━━━━━━━━━\u001b[0m\u001b[37m\u001b[0m \u001b[1m0s\u001b[0m 717us/step - accuracy: 0.4201 - loss: 1.5609 - val_accuracy: 0.4722 - val_loss: 1.5125\n",
      "Epoch 10/10\n",
      "\u001b[1m422/422\u001b[0m \u001b[32m━━━━━━━━━━━━━━━━━━━━\u001b[0m\u001b[37m\u001b[0m \u001b[1m0s\u001b[0m 717us/step - accuracy: 0.4201 - loss: 1.5609 - val_accuracy: 0.4722 - val_loss: 1.5125\n",
      "Epoch 10/10\n",
      "\u001b[1m422/422\u001b[0m \u001b[32m━━━━━━━━━━━━━━━━━━━━\u001b[0m\u001b[37m\u001b[0m \u001b[1m0s\u001b[0m 709us/step - accuracy: 0.2396 - loss: 1.9657 - val_accuracy: 0.1762 - val_loss: 2.0769\n",
      "\u001b[1m422/422\u001b[0m \u001b[32m━━━━━━━━━━━━━━━━━━━━\u001b[0m\u001b[37m\u001b[0m \u001b[1m0s\u001b[0m 709us/step - accuracy: 0.2396 - loss: 1.9657 - val_accuracy: 0.1762 - val_loss: 2.0769\n",
      "\u001b[1m313/313\u001b[0m \u001b[32m━━━━━━━━━━━━━━━━━━━━\u001b[0m\u001b[37m\u001b[0m \u001b[1m0s\u001b[0m 278us/step\n",
      "\u001b[1m313/313\u001b[0m \u001b[32m━━━━━━━━━━━━━━━━━━━━\u001b[0m\u001b[37m\u001b[0m \u001b[1m0s\u001b[0m 278us/step\n",
      "Accuracy Score: 0.1902\n",
      "Classification Report:\n",
      "              precision    recall  f1-score   support\n",
      "\n",
      "           0       0.00      0.00      0.00       980\n",
      "           1       0.17      0.81      0.29      1135\n",
      "           2       0.21      0.92      0.34      1032\n",
      "           3       0.00      0.00      0.00      1010\n",
      "           4       0.00      0.00      0.00       982\n",
      "           5       0.00      0.00      0.00       892\n",
      "           6       0.22      0.03      0.05       958\n",
      "           7       0.00      0.00      0.00      1028\n",
      "           8       0.00      0.00      0.00       974\n",
      "           9       0.00      0.00      0.00      1009\n",
      "\n",
      "    accuracy                           0.19     10000\n",
      "   macro avg       0.06      0.18      0.07     10000\n",
      "weighted avg       0.06      0.19      0.07     10000\n",
      "\n",
      "Accuracy Score: 0.1902\n",
      "Classification Report:\n",
      "              precision    recall  f1-score   support\n",
      "\n",
      "           0       0.00      0.00      0.00       980\n",
      "           1       0.17      0.81      0.29      1135\n",
      "           2       0.21      0.92      0.34      1032\n",
      "           3       0.00      0.00      0.00      1010\n",
      "           4       0.00      0.00      0.00       982\n",
      "           5       0.00      0.00      0.00       892\n",
      "           6       0.22      0.03      0.05       958\n",
      "           7       0.00      0.00      0.00      1028\n",
      "           8       0.00      0.00      0.00       974\n",
      "           9       0.00      0.00      0.00      1009\n",
      "\n",
      "    accuracy                           0.19     10000\n",
      "   macro avg       0.06      0.18      0.07     10000\n",
      "weighted avg       0.06      0.19      0.07     10000\n",
      "\n"
     ]
    }
   ],
   "source": [
    "# Your Code Here:\n",
    "from tensorflow.keras.optimizers import Adam\n",
    "from tensorflow.keras.layers import Input\n",
    "\n",
    "lrate = 0.05\n",
    "\n",
    "# Create an input layer\n",
    "inputs = Input(shape=(784,))\n",
    "\n",
    "model_lr_practice = Sequential([\n",
    "    inputs,\n",
    "    Dense(32, kernel_initializer='uniform', activation='tanh'),\n",
    "    Dense(32, kernel_initializer='uniform', activation='tanh'),\n",
    "    Dense(10, kernel_initializer='uniform', activation='tanh'),\n",
    "    Dense(32, kernel_initializer='uniform', activation='tanh'),\n",
    "    Dense(32, kernel_initializer='uniform', activation='tanh'),\n",
    "    Dense(10, kernel_initializer='uniform', activation='softmax')\n",
    "])\n",
    "\n",
    "optimizer = Adam(learning_rate=lrate) \n",
    "model_lr_practice.compile(optimizer=optimizer, loss='categorical_crossentropy', metrics=['accuracy'])\n",
    "\n",
    "model_lr_practice.fit(train_X_flat, train_y_cat, \n",
    "           epochs=10,  # Go through the entire training set 10 times (cycles). More is better (to a certain point)\n",
    "           batch_size=128,  # Training data divided into 128 samples each. Model updates its weights after each batch.\n",
    "           validation_split=0.1)\n",
    "\n",
    "# Perform predictions using the flattened Test data against the Labels (Y values).\n",
    "y_pred_probs = model_lr_practice.predict(test_X_flat)  # shape: (num_samples, 784)\n",
    "y_pred = np.argmax(y_pred_probs, axis=1)\n",
    "\n",
    "# Calculate Accuracy and also perform a Classification Report which gives other details about model performance.\n",
    "accuracy = accuracy_score(test_y, y_pred)\n",
    "\n",
    "print(\"Accuracy Score:\", accuracy)\n",
    "print(\"Classification Report:\")\n",
    "print(classification_report(test_y, y_pred, zero_division=0))"
   ]
  }
 ],
 "metadata": {
  "colab": {
   "collapsed_sections": [],
   "name": "Lab_NLP_Week8.ipynb",
   "provenance": [],
   "toc_visible": true
  },
  "kernelspec": {
   "display_name": ".venv (3.11.12)",
   "language": "python",
   "name": "python3"
  },
  "language_info": {
   "codemirror_mode": {
    "name": "ipython",
    "version": 3
   },
   "file_extension": ".py",
   "mimetype": "text/x-python",
   "name": "python",
   "nbconvert_exporter": "python",
   "pygments_lexer": "ipython3",
   "version": "3.11.12"
  }
 },
 "nbformat": 4,
 "nbformat_minor": 4
}
