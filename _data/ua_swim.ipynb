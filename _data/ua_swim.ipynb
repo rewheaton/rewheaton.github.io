{
 "cells": [
    {
     "cell_type": "code",
     "execution_count": null,
     "id": "import-libraries",
     "metadata": {},
     "outputs": [],
     "source": [
        "# Install and import necessary libraries\n",
        "!pip install --quiet gdown\n",
        "from google.colab import drive\n",
        "import os"
     ]
    },
    {
     "cell_type": "code",
     "execution_count": null,
     "id": "mount-drive",
     "metadata": {},
     "outputs": [],
     "source": [
        "# Mount Google Drive\n",
        "drive.mount('/content/drive')"
     ]
    },
    {
     "cell_type": "code",
     "execution_count": null,
     "id": "list-files",
     "metadata": {},
     "outputs": [],
     "source": [
        "# Specify the directory path in Google Drive\n",
        "directory_path = '/content/drive/My Drive/your_directory_name'  # Replace 'your_directory_name' with your folder name\n",
        "\n",
        "# Loop through the directory and output file names\n",
        "if os.path.exists(directory_path):\n",
        "    print(\"Files in directory:\")\n",
        "    for file_name in os.listdir(directory_path):\n",
        "        print(file_name)\n",
        "else:\n",
        "    print(f\"Directory '{directory_path}' does not exist.\")"
     ]
    }
 ],
 "metadata": {
    "kernelspec": {
     "display_name": "Python 3",
     "language": "python",
     "name": "python3"
    },
    "language_info": {
     "codemirror_mode": {
        "name": "ipython",
        "version": 3
     },
     "file_extension": ".py",
     "mimetype": "text/x-python",
     "name": "python",
     "nbconvert_exporter": "python",
     "pygments_lexer": "ipython3",
     "version": "3.8.16"
    }
 },
 "nbformat": 4,
 "nbformat_minor": 5
}