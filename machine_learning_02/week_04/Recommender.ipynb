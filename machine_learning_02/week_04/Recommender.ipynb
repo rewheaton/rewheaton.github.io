{
 "cells": [
  {
   "cell_type": "markdown",
   "id": "214147b0",
   "metadata": {},
   "source": [
    "# Student Activity: Recommender Systems\n",
    "In this activity, you'll explore different types of recommender systems.\n",
    "\n",
    "For each method:\n",
    "- Complete the missing code\n",
    "- Answer the conceptual questions\n",
    "- Run the code to see results\n",
    "\n",
    "We'll explore:\n",
    "1. Popularity-Based Recommendation\n",
    "2. Content-Based Filtering\n",
    "3. Collaborative Filtering\n",
    "4. Matrix Factorization (SVD)\n",
    "5. Hybrid Approaches"
   ]
  },
  {
   "cell_type": "markdown",
   "id": "0f100ccd",
   "metadata": {},
   "source": [
    "## 1. Popularity-Based Recommendation\n",
    "This method recommends the most popular items overall. Useful as a baseline model.\n",
    "\n",
    "**Question:** Why might this method fail for new users?"
   ]
  },
  {
   "cell_type": "code",
   "execution_count": null,
   "id": "7b212f35",
   "metadata": {},
   "outputs": [
    {
     "data": {
      "text/plain": [
       "item_id\n",
       "A    5.0\n",
       "D    4.5\n",
       "B    3.0\n",
       "C    3.0\n",
       "Name: rating, dtype: float64"
      ]
     },
     "execution_count": 2,
     "metadata": {},
     "output_type": "execute_result"
    }
   ],
   "source": [
    "# Create a popularity ranking\n",
    "# Answer: ratings is not defined, so we need to define it first and the sort value was missing\n",
    "\n",
    "import pandas as pd\n",
    "import numpy as np\n",
    "\n",
    "# Sample dataset\n",
    "ratings = pd.DataFrame({\n",
    "    'user_id': [1, 1, 2, 2, 3, 3, 4],\n",
    "    'item_id': ['A', 'B', 'A', 'C', 'B', 'D', 'D'],\n",
    "    'rating': [5, 4, 5, 3, 2, 5, 4]\n",
    "})\n",
    "\n",
    "# Sample data creation\n",
    "popularity = ratings.groupby('item_id')['rating'].mean().sort_values(ascending=False)\n",
    "popularity"
   ]
  },
  {
   "cell_type": "markdown",
   "id": "28d2e776",
   "metadata": {},
   "source": [
    "## 2. Content-Based Filtering\n",
    "This approach recommends items similar to what the user liked before using item attributes.\n",
    "\n",
    "**Question:** What is one limitation of using only item descriptions for similarity?"
   ]
  },
  {
   "cell_type": "code",
   "execution_count": null,
   "id": "ec91519f",
   "metadata": {},
   "outputs": [
    {
     "data": {
      "text/html": [
       "<div>\n",
       "<style scoped>\n",
       "    .dataframe tbody tr th:only-of-type {\n",
       "        vertical-align: middle;\n",
       "    }\n",
       "\n",
       "    .dataframe tbody tr th {\n",
       "        vertical-align: top;\n",
       "    }\n",
       "\n",
       "    .dataframe thead th {\n",
       "        text-align: right;\n",
       "    }\n",
       "</style>\n",
       "<table border=\"1\" class=\"dataframe\">\n",
       "  <thead>\n",
       "    <tr style=\"text-align: right;\">\n",
       "      <th>item_id</th>\n",
       "      <th>A</th>\n",
       "      <th>B</th>\n",
       "      <th>C</th>\n",
       "      <th>D</th>\n",
       "    </tr>\n",
       "    <tr>\n",
       "      <th>item_id</th>\n",
       "      <th></th>\n",
       "      <th></th>\n",
       "      <th></th>\n",
       "      <th></th>\n",
       "    </tr>\n",
       "  </thead>\n",
       "  <tbody>\n",
       "    <tr>\n",
       "      <th>A</th>\n",
       "      <td>1.000000</td>\n",
       "      <td>0.0</td>\n",
       "      <td>0.0</td>\n",
       "      <td>0.301476</td>\n",
       "    </tr>\n",
       "    <tr>\n",
       "      <th>B</th>\n",
       "      <td>0.000000</td>\n",
       "      <td>1.0</td>\n",
       "      <td>0.0</td>\n",
       "      <td>0.000000</td>\n",
       "    </tr>\n",
       "    <tr>\n",
       "      <th>C</th>\n",
       "      <td>0.000000</td>\n",
       "      <td>0.0</td>\n",
       "      <td>1.0</td>\n",
       "      <td>0.000000</td>\n",
       "    </tr>\n",
       "    <tr>\n",
       "      <th>D</th>\n",
       "      <td>0.301476</td>\n",
       "      <td>0.0</td>\n",
       "      <td>0.0</td>\n",
       "      <td>1.000000</td>\n",
       "    </tr>\n",
       "  </tbody>\n",
       "</table>\n",
       "</div>"
      ],
      "text/plain": [
       "item_id         A    B    C         D\n",
       "item_id                              \n",
       "A        1.000000  0.0  0.0  0.301476\n",
       "B        0.000000  1.0  0.0  0.000000\n",
       "C        0.000000  0.0  1.0  0.000000\n",
       "D        0.301476  0.0  0.0  1.000000"
      ]
     },
     "execution_count": 3,
     "metadata": {},
     "output_type": "execute_result"
    }
   ],
   "source": [
    "# Answer: Using only item descriptions to compute similarity could results is misleading recommendations\n",
    "# because it ignores user preferences and interactions.\n",
    "\n",
    "# TF-IDF vectorization of item descriptions\n",
    "from sklearn.feature_extraction.text import TfidfVectorizer\n",
    "from sklearn.metrics.pairwise import cosine_similarity\n",
    "\n",
    "# Example item content\n",
    "items = pd.DataFrame({\n",
    "    'item_id': ['A', 'B', 'C', 'D'],\n",
    "    'description': [\"Sci-fi action\", \"Romantic comedy\", \"Drama\", \"Action thriller\"]\n",
    "})\n",
    "\n",
    "tfidf = TfidfVectorizer()\n",
    "tfidf_matrix = tfidf.fit_transform(items['description'])\n",
    "\n",
    "# Compute similarity matrix\n",
    "cos_sim = cosine_similarity(tfidf_matrix, tfidf_matrix)\n",
    "pd.DataFrame(cos_sim, index=items['item_id'], columns=items['item_id'])"
   ]
  }
 ],
 "metadata": {
  "kernelspec": {
   "display_name": ".venv",
   "language": "python",
   "name": "python3"
  },
  "language_info": {
   "codemirror_mode": {
    "name": "ipython",
    "version": 3
   },
   "file_extension": ".py",
   "mimetype": "text/x-python",
   "name": "python",
   "nbconvert_exporter": "python",
   "pygments_lexer": "ipython3",
   "version": "3.11.12"
  }
 },
 "nbformat": 4,
 "nbformat_minor": 5
}
