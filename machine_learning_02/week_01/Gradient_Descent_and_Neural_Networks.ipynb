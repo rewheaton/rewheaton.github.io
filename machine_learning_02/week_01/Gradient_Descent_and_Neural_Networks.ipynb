{
 "cells": [
  {
   "cell_type": "markdown",
   "id": "80dfc01b",
   "metadata": {},
   "source": [
    "# 🧑‍🎓 Student Activity: Gradient Descent and Neural Networks\n",
    "\n",
    "In this activity, you'll explore how gradient descent works and apply it to train a simple neural network. Your goal is to complete, run, and reflect on the following tasks.\n",
    "\n",
    "**Objectives:**\n",
    "- Understand and visualize gradient descent\n",
    "- Implement a simple linear regression model from scratch\n",
    "- Train a neural network using TensorFlow and PyTorch\n",
    "- Compare performance between the two frameworks"
   ]
  },
  {
   "cell_type": "markdown",
   "id": "911a6e8c",
   "metadata": {},
   "source": [
    "## 📉 Part 1: Gradient Descent\n",
    "Use gradient descent to fit a line to the synthetic data below."
   ]
  },
  {
   "cell_type": "code",
   "execution_count": 4,
   "id": "d594d3db",
   "metadata": {},
   "outputs": [
    {
     "name": "stdout",
     "output_type": "stream",
     "text": [
      "Requirement already satisfied: numpy in /Users/rewheaton/Code/rewheaton.github.io/.venv/lib/python3.11/site-packages (1.23.5)\n",
      "Note: you may need to restart the kernel to use updated packages.\n",
      "Collecting matplotlib\n",
      "  Downloading matplotlib-3.10.3-cp311-cp311-macosx_11_0_arm64.whl.metadata (11 kB)\n",
      "Collecting contourpy>=1.0.1 (from matplotlib)\n",
      "  Downloading contourpy-1.3.2-cp311-cp311-macosx_11_0_arm64.whl.metadata (5.5 kB)\n",
      "Collecting cycler>=0.10 (from matplotlib)\n",
      "  Using cached cycler-0.12.1-py3-none-any.whl.metadata (3.8 kB)\n",
      "Collecting fonttools>=4.22.0 (from matplotlib)\n",
      "  Downloading fonttools-4.58.0-cp311-cp311-macosx_10_9_universal2.whl.metadata (104 kB)\n",
      "Collecting kiwisolver>=1.3.1 (from matplotlib)\n",
      "  Using cached kiwisolver-1.4.8-cp311-cp311-macosx_11_0_arm64.whl.metadata (6.2 kB)\n",
      "Requirement already satisfied: numpy>=1.23 in /Users/rewheaton/Code/rewheaton.github.io/.venv/lib/python3.11/site-packages (from matplotlib) (1.23.5)\n",
      "Requirement already satisfied: packaging>=20.0 in /Users/rewheaton/Code/rewheaton.github.io/.venv/lib/python3.11/site-packages (from matplotlib) (25.0)\n",
      "Collecting pillow>=8 (from matplotlib)\n",
      "  Downloading pillow-11.2.1-cp311-cp311-macosx_11_0_arm64.whl.metadata (8.9 kB)\n",
      "Collecting pyparsing>=2.3.1 (from matplotlib)\n",
      "  Using cached pyparsing-3.2.3-py3-none-any.whl.metadata (5.0 kB)\n",
      "Collecting python-dateutil>=2.7 (from matplotlib)\n",
      "  Using cached python_dateutil-2.9.0.post0-py2.py3-none-any.whl.metadata (8.4 kB)\n",
      "Requirement already satisfied: six>=1.5 in /Users/rewheaton/Code/rewheaton.github.io/.venv/lib/python3.11/site-packages (from python-dateutil>=2.7->matplotlib) (1.17.0)\n",
      "Downloading matplotlib-3.10.3-cp311-cp311-macosx_11_0_arm64.whl (8.1 MB)\n",
      "\u001b[2K   \u001b[90m━━━━━━━━━━━━━━━━━━━━━━━━━━━━━━━━━━━━━━━━\u001b[0m \u001b[32m8.1/8.1 MB\u001b[0m \u001b[31m5.4 MB/s\u001b[0m eta \u001b[36m0:00:00\u001b[0ma \u001b[36m0:00:01\u001b[0m\n",
      "\u001b[?25hDownloading contourpy-1.3.2-cp311-cp311-macosx_11_0_arm64.whl (254 kB)\n",
      "Using cached cycler-0.12.1-py3-none-any.whl (8.3 kB)\n",
      "Downloading fonttools-4.58.0-cp311-cp311-macosx_10_9_universal2.whl (2.8 MB)\n",
      "\u001b[2K   \u001b[90m━━━━━━━━━━━━━━━━━━━━━━━━━━━━━━━━━━━━━━━━\u001b[0m \u001b[32m2.8/2.8 MB\u001b[0m \u001b[31m5.3 MB/s\u001b[0m eta \u001b[36m0:00:00\u001b[0ma \u001b[36m0:00:01\u001b[0m\n",
      "\u001b[?25hUsing cached kiwisolver-1.4.8-cp311-cp311-macosx_11_0_arm64.whl (65 kB)\n",
      "Downloading pillow-11.2.1-cp311-cp311-macosx_11_0_arm64.whl (3.0 MB)\n",
      "\u001b[2K   \u001b[90m━━━━━━━━━━━━━━━━━━━━━━━━━━━━━━━━━━━━━━━━\u001b[0m \u001b[32m3.0/3.0 MB\u001b[0m \u001b[31m5.3 MB/s\u001b[0m eta \u001b[36m0:00:00\u001b[0ma \u001b[36m0:00:01\u001b[0m\n",
      "\u001b[?25hUsing cached pyparsing-3.2.3-py3-none-any.whl (111 kB)\n",
      "Using cached python_dateutil-2.9.0.post0-py2.py3-none-any.whl (229 kB)\n",
      "Installing collected packages: python-dateutil, pyparsing, pillow, kiwisolver, fonttools, cycler, contourpy, matplotlib\n",
      "\u001b[2K   \u001b[90m━━━━━━━━━━━━━━━━━━━━━━━━━━━━━━━━━━━━━━━━\u001b[0m \u001b[32m8/8\u001b[0m [matplotlib]8\u001b[0m [matplotlib]\n",
      "\u001b[1A\u001b[2KSuccessfully installed contourpy-1.3.2 cycler-0.12.1 fonttools-4.58.0 kiwisolver-1.4.8 matplotlib-3.10.3 pillow-11.2.1 pyparsing-3.2.3 python-dateutil-2.9.0.post0\n",
      "Note: you may need to restart the kernel to use updated packages.\n",
      "Collecting pandas\n",
      "  Using cached pandas-2.2.3-cp311-cp311-macosx_11_0_arm64.whl.metadata (89 kB)\n",
      "Requirement already satisfied: numpy>=1.23.2 in /Users/rewheaton/Code/rewheaton.github.io/.venv/lib/python3.11/site-packages (from pandas) (1.23.5)\n",
      "Requirement already satisfied: python-dateutil>=2.8.2 in /Users/rewheaton/Code/rewheaton.github.io/.venv/lib/python3.11/site-packages (from pandas) (2.9.0.post0)\n",
      "Collecting pytz>=2020.1 (from pandas)\n",
      "  Using cached pytz-2025.2-py2.py3-none-any.whl.metadata (22 kB)\n",
      "Collecting tzdata>=2022.7 (from pandas)\n",
      "  Using cached tzdata-2025.2-py2.py3-none-any.whl.metadata (1.4 kB)\n",
      "Requirement already satisfied: six>=1.5 in /Users/rewheaton/Code/rewheaton.github.io/.venv/lib/python3.11/site-packages (from python-dateutil>=2.8.2->pandas) (1.17.0)\n",
      "Using cached pandas-2.2.3-cp311-cp311-macosx_11_0_arm64.whl (11.3 MB)\n",
      "Using cached pytz-2025.2-py2.py3-none-any.whl (509 kB)\n",
      "Using cached tzdata-2025.2-py2.py3-none-any.whl (347 kB)\n",
      "Installing collected packages: pytz, tzdata, pandas\n",
      "\u001b[2K   \u001b[90m━━━━━━━━━━━━━━━━━━━━━━━━━━━━━━━━━━━━━━━━\u001b[0m \u001b[32m3/3\u001b[0m [pandas]2m2/3\u001b[0m [pandas]\n",
      "\u001b[1A\u001b[2KSuccessfully installed pandas-2.2.3 pytz-2025.2 tzdata-2025.2\n",
      "Note: you may need to restart the kernel to use updated packages.\n",
      "Collecting seaborn\n",
      "  Using cached seaborn-0.13.2-py3-none-any.whl.metadata (5.4 kB)\n",
      "Requirement already satisfied: numpy!=1.24.0,>=1.20 in /Users/rewheaton/Code/rewheaton.github.io/.venv/lib/python3.11/site-packages (from seaborn) (1.23.5)\n",
      "Requirement already satisfied: pandas>=1.2 in /Users/rewheaton/Code/rewheaton.github.io/.venv/lib/python3.11/site-packages (from seaborn) (2.2.3)\n",
      "Requirement already satisfied: matplotlib!=3.6.1,>=3.4 in /Users/rewheaton/Code/rewheaton.github.io/.venv/lib/python3.11/site-packages (from seaborn) (3.10.3)\n",
      "Requirement already satisfied: contourpy>=1.0.1 in /Users/rewheaton/Code/rewheaton.github.io/.venv/lib/python3.11/site-packages (from matplotlib!=3.6.1,>=3.4->seaborn) (1.3.2)\n",
      "Requirement already satisfied: cycler>=0.10 in /Users/rewheaton/Code/rewheaton.github.io/.venv/lib/python3.11/site-packages (from matplotlib!=3.6.1,>=3.4->seaborn) (0.12.1)\n",
      "Requirement already satisfied: fonttools>=4.22.0 in /Users/rewheaton/Code/rewheaton.github.io/.venv/lib/python3.11/site-packages (from matplotlib!=3.6.1,>=3.4->seaborn) (4.58.0)\n",
      "Requirement already satisfied: kiwisolver>=1.3.1 in /Users/rewheaton/Code/rewheaton.github.io/.venv/lib/python3.11/site-packages (from matplotlib!=3.6.1,>=3.4->seaborn) (1.4.8)\n",
      "Requirement already satisfied: packaging>=20.0 in /Users/rewheaton/Code/rewheaton.github.io/.venv/lib/python3.11/site-packages (from matplotlib!=3.6.1,>=3.4->seaborn) (25.0)\n",
      "Requirement already satisfied: pillow>=8 in /Users/rewheaton/Code/rewheaton.github.io/.venv/lib/python3.11/site-packages (from matplotlib!=3.6.1,>=3.4->seaborn) (11.2.1)\n",
      "Requirement already satisfied: pyparsing>=2.3.1 in /Users/rewheaton/Code/rewheaton.github.io/.venv/lib/python3.11/site-packages (from matplotlib!=3.6.1,>=3.4->seaborn) (3.2.3)\n",
      "Requirement already satisfied: python-dateutil>=2.7 in /Users/rewheaton/Code/rewheaton.github.io/.venv/lib/python3.11/site-packages (from matplotlib!=3.6.1,>=3.4->seaborn) (2.9.0.post0)\n",
      "Requirement already satisfied: pytz>=2020.1 in /Users/rewheaton/Code/rewheaton.github.io/.venv/lib/python3.11/site-packages (from pandas>=1.2->seaborn) (2025.2)\n",
      "Requirement already satisfied: tzdata>=2022.7 in /Users/rewheaton/Code/rewheaton.github.io/.venv/lib/python3.11/site-packages (from pandas>=1.2->seaborn) (2025.2)\n",
      "Requirement already satisfied: six>=1.5 in /Users/rewheaton/Code/rewheaton.github.io/.venv/lib/python3.11/site-packages (from python-dateutil>=2.7->matplotlib!=3.6.1,>=3.4->seaborn) (1.17.0)\n",
      "Using cached seaborn-0.13.2-py3-none-any.whl (294 kB)\n",
      "Installing collected packages: seaborn\n",
      "Successfully installed seaborn-0.13.2\n",
      "Note: you may need to restart the kernel to use updated packages.\n",
      "Collecting scikit-learn\n",
      "  Using cached scikit_learn-1.6.1-cp311-cp311-macosx_12_0_arm64.whl.metadata (31 kB)\n",
      "Requirement already satisfied: numpy>=1.19.5 in /Users/rewheaton/Code/rewheaton.github.io/.venv/lib/python3.11/site-packages (from scikit-learn) (1.23.5)\n",
      "Collecting scipy>=1.6.0 (from scikit-learn)\n",
      "  Downloading scipy-1.15.3-cp311-cp311-macosx_14_0_arm64.whl.metadata (61 kB)\n",
      "Collecting joblib>=1.2.0 (from scikit-learn)\n",
      "  Using cached joblib-1.5.0-py3-none-any.whl.metadata (5.6 kB)\n",
      "Collecting threadpoolctl>=3.1.0 (from scikit-learn)\n",
      "  Using cached threadpoolctl-3.6.0-py3-none-any.whl.metadata (13 kB)\n",
      "Using cached scikit_learn-1.6.1-cp311-cp311-macosx_12_0_arm64.whl (11.1 MB)\n",
      "Using cached joblib-1.5.0-py3-none-any.whl (307 kB)\n",
      "Downloading scipy-1.15.3-cp311-cp311-macosx_14_0_arm64.whl (22.4 MB)\n",
      "\u001b[2K   \u001b[90m━━━━━━━━━━━━━━━━━━━━━━━━━━━━━━━━━━━━━━━━\u001b[0m \u001b[32m22.4/22.4 MB\u001b[0m \u001b[31m5.7 MB/s\u001b[0m eta \u001b[36m0:00:00\u001b[0ma \u001b[36m0:00:01\u001b[0m\n",
      "\u001b[?25hUsing cached threadpoolctl-3.6.0-py3-none-any.whl (18 kB)\n",
      "Installing collected packages: threadpoolctl, scipy, joblib, scikit-learn\n",
      "\u001b[2K   \u001b[90m━━━━━━━━━━━━━━━━━━━━━━━━━━━━━━━━━━━━━━━━\u001b[0m \u001b[32m4/4\u001b[0m [scikit-learn][0m [scikit-learn]\n",
      "\u001b[1A\u001b[2KSuccessfully installed joblib-1.5.0 scikit-learn-1.6.1 scipy-1.15.3 threadpoolctl-3.6.0\n",
      "Note: you may need to restart the kernel to use updated packages.\n"
     ]
    }
   ],
   "source": [
    "%pip install numpy\n",
    "%pip install matplotlib\n",
    "%pip install pandas\n",
    "%pip install seaborn\n",
    "%pip install scikit-learn"
   ]
  },
  {
   "cell_type": "code",
   "execution_count": 1,
   "id": "515f7ff2",
   "metadata": {},
   "outputs": [
    {
     "data": {
      "image/png": "[encoded data removed]",
      "text/plain": [
       "<Figure size 640x480 with 1 Axes>"
      ]
     },
     "metadata": {},
     "output_type": "display_data"
    }
   ],
   "source": [
    "import numpy as np\n",
    "import matplotlib.pyplot as plt\n",
    "\n",
    "np.random.seed(1)\n",
    "X = np.random.rand(100, 1) * 10\n",
    "y = 2.5 * X + 7 + np.random.randn(*X.shape)\n",
    "\n",
    "plt.scatter(X, y)\n",
    "plt.title(\"Synthetic Data\")\n",
    "plt.xlabel(\"X\")\n",
    "plt.ylabel(\"y\")\n",
    "plt.show()"
   ]
  },
  {
   "cell_type": "code",
   "execution_count": 2,
   "id": "a47b0bc0",
   "metadata": {},
   "outputs": [
    {
     "name": "stdout",
     "output_type": "stream",
     "text": [
      "Epoch 0: Loss = 423.4375\n",
      "Epoch 10: Loss = 11.6771\n",
      "Epoch 20: Loss = 10.5900\n",
      "Epoch 30: Loss = 9.6115\n",
      "Epoch 40: Loss = 8.7309\n"
     ]
    }
   ],
   "source": [
    "# TODO: Complete gradient descent logic\n",
    "w, b = 0.0, 0.0\n",
    "learning_rate = 0.01\n",
    "losses = []\n",
    "\n",
    "for epoch in range(50):\n",
    "    y_pred = w * X + b\n",
    "    error = y_pred - y\n",
    "    loss = (error ** 2).mean()\n",
    "    losses.append(loss)\n",
    "\n",
    "    # Compute gradients\n",
    "    dw = (2 * (error * X).mean())\n",
    "    db = (2 * error.mean())\n",
    "\n",
    "    # Update parameters\n",
    "    w -= learning_rate * dw\n",
    "    b -= learning_rate * db\n",
    "\n",
    "    if epoch % 10 == 0:\n",
    "        print(f\"Epoch {epoch}: Loss = {loss:.4f}\")"
   ]
  },
  {
   "cell_type": "code",
   "execution_count": 3,
   "id": "373bd751",
   "metadata": {},
   "outputs": [
    {
     "data": {
      "image/png": "[encoded data removed]",
      "text/plain": [
       "<Figure size 640x480 with 1 Axes>"
      ]
     },
     "metadata": {},
     "output_type": "display_data"
    }
   ],
   "source": [
    "plt.plot(losses)\n",
    "plt.title(\"Loss Curve\")\n",
    "plt.xlabel(\"Epoch\")\n",
    "plt.ylabel(\"Loss\")\n",
    "plt.grid(True)\n",
    "plt.show()"
   ]
  },
  {
   "cell_type": "code",
   "execution_count": 5,
   "id": "b2f49a43",
   "metadata": {},
   "outputs": [
    {
     "name": "stdout",
     "output_type": "stream",
     "text": [
      "Note: you may need to restart the kernel to use updated packages.\n",
      "Epoch 1/20\n",
      "11/11 [==============================] - 0s 5ms/step - loss: 0.6356 - accuracy: 0.6571 - val_loss: 0.6182 - val_accuracy: 0.7400\n",
      "Epoch 2/20\n",
      "11/11 [==============================] - 0s 1ms/step - loss: 0.6137 - accuracy: 0.7686 - val_loss: 0.5992 - val_accuracy: 0.7733\n",
      "Epoch 3/20\n",
      "11/11 [==============================] - 0s 1ms/step - loss: 0.5944 - accuracy: 0.8029 - val_loss: 0.5807 - val_accuracy: 0.7867\n",
      "Epoch 4/20\n",
      "11/11 [==============================] - 0s 1ms/step - loss: 0.5756 - accuracy: 0.8114 - val_loss: 0.5633 - val_accuracy: 0.8067\n",
      "Epoch 5/20\n",
      "11/11 [==============================] - 0s 1ms/step - loss: 0.5572 - accuracy: 0.8229 - val_loss: 0.5470 - val_accuracy: 0.8000\n",
      "Epoch 6/20\n",
      "11/11 [==============================] - 0s 1ms/step - loss: 0.5397 - accuracy: 0.8343 - val_loss: 0.5311 - val_accuracy: 0.8133\n",
      "Epoch 7/20\n",
      "11/11 [==============================] - 0s 1ms/step - loss: 0.5226 - accuracy: 0.8629 - val_loss: 0.5160 - val_accuracy: 0.8333\n",
      "Epoch 8/20\n",
      "11/11 [==============================] - 0s 1ms/step - loss: 0.5059 - accuracy: 0.8743 - val_loss: 0.5016 - val_accuracy: 0.8467\n",
      "Epoch 9/20\n",
      "11/11 [==============================] - 0s 1ms/step - loss: 0.4902 - accuracy: 0.8857 - val_loss: 0.4881 - val_accuracy: 0.8467\n",
      "Epoch 10/20\n",
      "11/11 [==============================] - 0s 1ms/step - loss: 0.4749 - accuracy: 0.8857 - val_loss: 0.4753 - val_accuracy: 0.8467\n",
      "Epoch 11/20\n",
      "11/11 [==============================] - 0s 1ms/step - loss: 0.4598 - accuracy: 0.8886 - val_loss: 0.4634 - val_accuracy: 0.8467\n",
      "Epoch 12/20\n",
      "11/11 [==============================] - 0s 1ms/step - loss: 0.4453 - accuracy: 0.8886 - val_loss: 0.4521 - val_accuracy: 0.8467\n",
      "Epoch 13/20\n",
      "11/11 [==============================] - 0s 1ms/step - loss: 0.4313 - accuracy: 0.8886 - val_loss: 0.4415 - val_accuracy: 0.8533\n",
      "Epoch 14/20\n",
      "11/11 [==============================] - 0s 1ms/step - loss: 0.4175 - accuracy: 0.8971 - val_loss: 0.4315 - val_accuracy: 0.8533\n",
      "Epoch 15/20\n",
      "11/11 [==============================] - 0s 1ms/step - loss: 0.4039 - accuracy: 0.9000 - val_loss: 0.4220 - val_accuracy: 0.8533\n",
      "Epoch 16/20\n",
      "11/11 [==============================] - 0s 1ms/step - loss: 0.3913 - accuracy: 0.8971 - val_loss: 0.4131 - val_accuracy: 0.8533\n",
      "Epoch 17/20\n",
      "11/11 [==============================] - 0s 1ms/step - loss: 0.3779 - accuracy: 0.8971 - val_loss: 0.4051 - val_accuracy: 0.8533\n",
      "Epoch 18/20\n",
      "11/11 [==============================] - 0s 1ms/step - loss: 0.3659 - accuracy: 0.8971 - val_loss: 0.3973 - val_accuracy: 0.8600\n",
      "Epoch 19/20\n",
      "11/11 [==============================] - 0s 1ms/step - loss: 0.3542 - accuracy: 0.8914 - val_loss: 0.3904 - val_accuracy: 0.8533\n",
      "Epoch 20/20\n",
      "11/11 [==============================] - 0s 1ms/step - loss: 0.3422 - accuracy: 0.8914 - val_loss: 0.3844 - val_accuracy: 0.8467\n"
     ]
    },
    {
     "data": {
      "text/plain": [
       "<keras.src.callbacks.History at 0x34ffc7a90>"
      ]
     },
     "execution_count": 5,
     "metadata": {},
     "output_type": "execute_result"
    }
   ],
   "source": [
    "# TODO: Complete the TensorFlow model\n",
    "%pip install -q \"tensorflow<2.16\" \"numpy<1.24\"\n",
    "import tensorflow as tf\n",
    "from sklearn.datasets import make_moons\n",
    "from sklearn.model_selection import train_test_split\n",
    "from sklearn.preprocessing import StandardScaler\n",
    "\n",
    "# Generate and preprocess data\n",
    "X, y = make_moons(n_samples=500, noise=0.2, random_state=1)\n",
    "X_train, X_test, y_train, y_test = train_test_split(X, y, test_size=0.3, random_state=1)\n",
    "\n",
    "scaler = StandardScaler()\n",
    "X_train = scaler.fit_transform(X_train)\n",
    "X_test = scaler.transform(X_test)\n",
    "\n",
    "# Define the model\n",
    "model_tf = tf.keras.Sequential([\n",
    "    tf.keras.layers.Dense(10, activation='relu', input_shape=(2,)),\n",
    "    tf.keras.layers.Dense(5, activation='relu'),\n",
    "    tf.keras.layers.Dense(1, activation='sigmoid')\n",
    "])\n",
    "\n",
    "# Compile the model\n",
    "model_tf.compile(optimizer='adam', loss='binary_crossentropy', metrics=['accuracy'])\n",
    "\n",
    "# Train the model\n",
    "model_tf.fit(X_train, y_train, epochs=20, verbose=1, validation_data=(X_test, y_test))\n"
   ]
  },
  {
   "cell_type": "code",
   "execution_count": 6,
   "id": "a379cb25",
   "metadata": {},
   "outputs": [
    {
     "name": "stdout",
     "output_type": "stream",
     "text": [
      "Requirement already satisfied: torch in /Users/rewheaton/Code/rewheaton.github.io/.venv/lib/python3.11/site-packages (2.7.0)\n",
      "Requirement already satisfied: torchvision in /Users/rewheaton/Code/rewheaton.github.io/.venv/lib/python3.11/site-packages (0.22.0)\n",
      "Requirement already satisfied: filelock in /Users/rewheaton/Code/rewheaton.github.io/.venv/lib/python3.11/site-packages (from torch) (3.18.0)\n",
      "Requirement already satisfied: typing-extensions>=4.10.0 in /Users/rewheaton/Code/rewheaton.github.io/.venv/lib/python3.11/site-packages (from torch) (4.13.2)\n",
      "Requirement already satisfied: sympy>=1.13.3 in /Users/rewheaton/Code/rewheaton.github.io/.venv/lib/python3.11/site-packages (from torch) (1.14.0)\n",
      "Requirement already satisfied: networkx in /Users/rewheaton/Code/rewheaton.github.io/.venv/lib/python3.11/site-packages (from torch) (3.4.2)\n",
      "Requirement already satisfied: jinja2 in /Users/rewheaton/Code/rewheaton.github.io/.venv/lib/python3.11/site-packages (from torch) (3.1.6)\n",
      "Requirement already satisfied: fsspec in /Users/rewheaton/Code/rewheaton.github.io/.venv/lib/python3.11/site-packages (from torch) (2025.3.2)\n",
      "Requirement already satisfied: numpy in /Users/rewheaton/Code/rewheaton.github.io/.venv/lib/python3.11/site-packages (from torchvision) (1.23.5)\n",
      "Requirement already satisfied: pillow!=8.3.*,>=5.3.0 in /Users/rewheaton/Code/rewheaton.github.io/.venv/lib/python3.11/site-packages (from torchvision) (11.2.1)\n",
      "Requirement already satisfied: mpmath<1.4,>=1.1.0 in /Users/rewheaton/Code/rewheaton.github.io/.venv/lib/python3.11/site-packages (from sympy>=1.13.3->torch) (1.3.0)\n",
      "Requirement already satisfied: MarkupSafe>=2.0 in /Users/rewheaton/Code/rewheaton.github.io/.venv/lib/python3.11/site-packages (from jinja2->torch) (3.0.2)\n",
      "Note: you may need to restart the kernel to use updated packages.\n",
      "Epoch 1, Loss: 0.6436\n",
      "Epoch 2, Loss: 0.5091\n",
      "Epoch 3, Loss: 0.3504\n",
      "Epoch 4, Loss: 0.1942\n",
      "Epoch 5, Loss: 0.3982\n",
      "Epoch 6, Loss: 0.4784\n",
      "Epoch 7, Loss: 0.2510\n",
      "Epoch 8, Loss: 0.3300\n",
      "Epoch 9, Loss: 0.2688\n",
      "Epoch 10, Loss: 0.2501\n",
      "Epoch 11, Loss: 0.1754\n",
      "Epoch 12, Loss: 0.1969\n",
      "Epoch 13, Loss: 0.1153\n",
      "Epoch 14, Loss: 0.1323\n",
      "Epoch 15, Loss: 0.2845\n",
      "Epoch 16, Loss: 0.1502\n",
      "Epoch 17, Loss: 0.1444\n",
      "Epoch 18, Loss: 0.1789\n",
      "Epoch 19, Loss: 0.0666\n",
      "Epoch 20, Loss: 0.1281\n"
     ]
    }
   ],
   "source": [
    "# TODO: Complete the PyTorch model\n",
    "%pip install \"torch\" \"torchvision\"\n",
    "import torch\n",
    "import torch.nn as nn\n",
    "import torch.optim as optim\n",
    "from torch.utils.data import TensorDataset, DataLoader\n",
    "\n",
    "# Convert data to tensors\n",
    "X_train_tensor = torch.tensor(X_train, dtype=torch.float32)\n",
    "y_train_tensor = torch.tensor(y_train, dtype=torch.float32).unsqueeze(1)\n",
    "X_test_tensor = torch.tensor(X_test, dtype=torch.float32)\n",
    "y_test_tensor = torch.tensor(y_test, dtype=torch.float32).unsqueeze(1)\n",
    "\n",
    "# Prepare DataLoader\n",
    "train_ds = TensorDataset(X_train_tensor, y_train_tensor)\n",
    "train_dl = DataLoader(train_ds, batch_size=32, shuffle=True)\n",
    "\n",
    "# Define model\n",
    "class SimpleNN(nn.Module):\n",
    "    def __init__(self):\n",
    "        super(SimpleNN, self).__init__()\n",
    "        self.net = nn.Sequential(\n",
    "            nn.Linear(2, 10),\n",
    "            nn.ReLU(),\n",
    "            nn.Linear(10, 5),\n",
    "            nn.ReLU(),\n",
    "            nn.Linear(5, 1),\n",
    "            nn.Sigmoid()\n",
    "        )\n",
    "    def forward(self, x):\n",
    "        return self.net(x)\n",
    "\n",
    "model = SimpleNN()\n",
    "criterion = nn.BCELoss()\n",
    "optimizer = optim.Adam(model.parameters(), lr=0.01)\n",
    "\n",
    "# Train model\n",
    "for epoch in range(20):\n",
    "    for xb, yb in train_dl:\n",
    "        preds = model(xb)\n",
    "        loss = criterion(preds, yb)\n",
    "        optimizer.zero_grad()\n",
    "        loss.backward()\n",
    "        optimizer.step()\n",
    "    print(f\"Epoch {epoch+1}, Loss: {loss.item():.4f}\")\n"
   ]
  },
  {
   "cell_type": "markdown",
   "id": "901319f4",
   "metadata": {},
   "source": [
    "## 🔍 Reflection Questions\n",
    "1. How does gradient descent help minimize the error in both linear regression and neural networks?\n",
    "    - Gradient descent minimizes errors by iteratively changing weights and biases and then measuring whether those changes improved the results.\n",
    "2. Compare the loss curve for gradient descent to the training logs from TensorFlow and PyTorch.\n",
    "    - The loss curve rapidly improved for the first 10 epochs and then the marginal improvement leveled off quite a bit. TensorFlow had similar results in that it kept improving over each epoch. PyTorch on the other hand was much more sporatic; it improved for a bit, then regressed, but ultimately resulted in a lower loss score.\n",
    "3. Which framework (TensorFlow or PyTorch) did you find easier to work with and why?\n",
    "    - TensorFlow's code seems a little simpler though I like the more Object Oriented method of PyTorch. I believe PyTorch is more popular so may be worth the effort of learning.\n",
    "4. How might increasing the number of epochs or adjusting the learning rate affect results?\n",
    "    - The trade off of adjusting the epochs or the learning rate is increased training time for possibly better results. An alternative to manually adjusting these values is setting a \"patience\" value which tells the model to stop training after a set number of epochs if it stops improving. Another factor in settings epochs and learning rate is business criticality; if your model is classifying images of dogs and cats, a quicker training time is probably fine whereas if your model is finding cancerous growths in x-ray images, you would want to invest the training time by increasing the epochs and decreasing the learning rate or possibly setting a high patience value."
   ]
  }
 ],
 "metadata": {
  "kernelspec": {
   "display_name": ".venv",
   "language": "python",
   "name": "python3"
  },
  "language_info": {
   "codemirror_mode": {
    "name": "ipython",
    "version": 3
   },
   "file_extension": ".py",
   "mimetype": "text/x-python",
   "name": "python",
   "nbconvert_exporter": "python",
   "pygments_lexer": "ipython3",
   "version": "3.11.12"
  }
 },
 "nbformat": 4,
 "nbformat_minor": 5
}
