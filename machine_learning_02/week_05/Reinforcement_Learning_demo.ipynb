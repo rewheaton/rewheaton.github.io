{
 "cells": [
  {
   "cell_type": "markdown",
   "metadata": {
    "id": "VZ4pOGb8cXHL"
   },
   "source": [
    "# Setting up the environment Gymnasium"
   ]
  },
  {
   "cell_type": "code",
   "execution_count": 1,
   "metadata": {
    "collapsed": true,
    "jupyter": {
     "outputs_hidden": true
    },
    "scrolled": true
   },
   "outputs": [
    {
     "name": "stdout",
     "output_type": "stream",
     "text": [
      "Collecting gymnasium\n",
      "  Using cached gymnasium-1.1.1-py3-none-any.whl.metadata (9.4 kB)\n",
      "Requirement already satisfied: numpy>=1.21.0 in c:\\users\\joepa\\anaconda3\\envs\\dev\\lib\\site-packages (from gymnasium) (2.1.3)\n",
      "Collecting cloudpickle>=1.2.0 (from gymnasium)\n",
      "  Using cached cloudpickle-3.1.1-py3-none-any.whl.metadata (7.1 kB)\n",
      "Requirement already satisfied: typing-extensions>=4.3.0 in c:\\users\\joepa\\anaconda3\\envs\\dev\\lib\\site-packages (from gymnasium) (4.12.2)\n",
      "Collecting farama-notifications>=0.0.1 (from gymnasium)\n",
      "  Using cached Farama_Notifications-0.0.4-py3-none-any.whl.metadata (558 bytes)\n",
      "Using cached gymnasium-1.1.1-py3-none-any.whl (965 kB)\n",
      "Using cached cloudpickle-3.1.1-py3-none-any.whl (20 kB)\n",
      "Using cached Farama_Notifications-0.0.4-py3-none-any.whl (2.5 kB)\n",
      "Installing collected packages: farama-notifications, cloudpickle, gymnasium\n",
      "Successfully installed cloudpickle-3.1.1 farama-notifications-0.0.4 gymnasium-1.1.1\n",
      "Requirement already satisfied: gymnasium[classic-control] in c:\\users\\joepa\\anaconda3\\envs\\dev\\lib\\site-packages (1.1.1)\n",
      "Requirement already satisfied: numpy>=1.21.0 in c:\\users\\joepa\\anaconda3\\envs\\dev\\lib\\site-packages (from gymnasium[classic-control]) (2.1.3)\n",
      "Requirement already satisfied: cloudpickle>=1.2.0 in c:\\users\\joepa\\anaconda3\\envs\\dev\\lib\\site-packages (from gymnasium[classic-control]) (3.1.1)\n",
      "Requirement already satisfied: typing-extensions>=4.3.0 in c:\\users\\joepa\\anaconda3\\envs\\dev\\lib\\site-packages (from gymnasium[classic-control]) (4.12.2)\n",
      "Requirement already satisfied: farama-notifications>=0.0.1 in c:\\users\\joepa\\anaconda3\\envs\\dev\\lib\\site-packages (from gymnasium[classic-control]) (0.0.4)\n",
      "Collecting pygame>=2.1.3 (from gymnasium[classic-control])\n",
      "  Using cached pygame-2.6.1-cp310-cp310-win_amd64.whl.metadata (13 kB)\n",
      "Using cached pygame-2.6.1-cp310-cp310-win_amd64.whl (10.6 MB)\n",
      "Installing collected packages: pygame\n",
      "Successfully installed pygame-2.6.1\n"
     ]
    }
   ],
   "source": [
    "! pip install gymnasium\n",
    "! pip install gymnasium[classic-control]"
   ]
  },
  {
   "cell_type": "code",
   "execution_count": 7,
   "metadata": {},
   "outputs": [
    {
     "name": "stdout",
     "output_type": "stream",
     "text": [
      "Collecting imageio\n",
      "  Using cached imageio-2.37.0-py3-none-any.whl.metadata (5.2 kB)\n",
      "Requirement already satisfied: numpy in c:\\users\\joepa\\anaconda3\\envs\\dev\\lib\\site-packages (from imageio) (2.1.3)\n",
      "Requirement already satisfied: pillow>=8.3.2 in c:\\users\\joepa\\anaconda3\\envs\\dev\\lib\\site-packages (from imageio) (11.1.0)\n",
      "Using cached imageio-2.37.0-py3-none-any.whl (315 kB)\n",
      "Installing collected packages: imageio\n",
      "Successfully installed imageio-2.37.0\n"
     ]
    }
   ],
   "source": [
    "! pip install imageio"
   ]
  },
  {
   "cell_type": "code",
   "execution_count": 17,
   "metadata": {},
   "outputs": [
    {
     "name": "stdout",
     "output_type": "stream",
     "text": [
      "Collecting stable_baselines3\n",
      "  Using cached stable_baselines3-2.6.0-py3-none-any.whl.metadata (4.8 kB)\n",
      "Requirement already satisfied: gymnasium<1.2.0,>=0.29.1 in c:\\users\\joepa\\anaconda3\\envs\\dev\\lib\\site-packages (from stable_baselines3) (1.1.1)\n",
      "Requirement already satisfied: numpy<3.0,>=1.20 in c:\\users\\joepa\\anaconda3\\envs\\dev\\lib\\site-packages (from stable_baselines3) (2.1.3)\n",
      "Requirement already satisfied: torch<3.0,>=2.3 in c:\\users\\joepa\\anaconda3\\envs\\dev\\lib\\site-packages (from stable_baselines3) (2.7.0)\n",
      "Requirement already satisfied: cloudpickle in c:\\users\\joepa\\anaconda3\\envs\\dev\\lib\\site-packages (from stable_baselines3) (3.1.1)\n",
      "Requirement already satisfied: pandas in c:\\users\\joepa\\anaconda3\\envs\\dev\\lib\\site-packages (from stable_baselines3) (2.2.3)\n",
      "Requirement already satisfied: matplotlib in c:\\users\\joepa\\anaconda3\\envs\\dev\\lib\\site-packages (from stable_baselines3) (3.10.0)\n",
      "Requirement already satisfied: typing-extensions>=4.3.0 in c:\\users\\joepa\\anaconda3\\envs\\dev\\lib\\site-packages (from gymnasium<1.2.0,>=0.29.1->stable_baselines3) (4.12.2)\n",
      "Requirement already satisfied: farama-notifications>=0.0.1 in c:\\users\\joepa\\anaconda3\\envs\\dev\\lib\\site-packages (from gymnasium<1.2.0,>=0.29.1->stable_baselines3) (0.0.4)\n",
      "Requirement already satisfied: filelock in c:\\users\\joepa\\anaconda3\\envs\\dev\\lib\\site-packages (from torch<3.0,>=2.3->stable_baselines3) (3.18.0)\n",
      "Requirement already satisfied: sympy>=1.13.3 in c:\\users\\joepa\\anaconda3\\envs\\dev\\lib\\site-packages (from torch<3.0,>=2.3->stable_baselines3) (1.14.0)\n",
      "Requirement already satisfied: networkx in c:\\users\\joepa\\anaconda3\\envs\\dev\\lib\\site-packages (from torch<3.0,>=2.3->stable_baselines3) (3.4.2)\n",
      "Requirement already satisfied: jinja2 in c:\\users\\joepa\\anaconda3\\envs\\dev\\lib\\site-packages (from torch<3.0,>=2.3->stable_baselines3) (3.1.6)\n",
      "Requirement already satisfied: fsspec in c:\\users\\joepa\\anaconda3\\envs\\dev\\lib\\site-packages (from torch<3.0,>=2.3->stable_baselines3) (2025.3.2)\n",
      "Requirement already satisfied: contourpy>=1.0.1 in c:\\users\\joepa\\anaconda3\\envs\\dev\\lib\\site-packages (from matplotlib->stable_baselines3) (1.3.1)\n",
      "Requirement already satisfied: cycler>=0.10 in c:\\users\\joepa\\anaconda3\\envs\\dev\\lib\\site-packages (from matplotlib->stable_baselines3) (0.11.0)\n",
      "Requirement already satisfied: fonttools>=4.22.0 in c:\\users\\joepa\\anaconda3\\envs\\dev\\lib\\site-packages (from matplotlib->stable_baselines3) (4.55.3)\n",
      "Requirement already satisfied: kiwisolver>=1.3.1 in c:\\users\\joepa\\anaconda3\\envs\\dev\\lib\\site-packages (from matplotlib->stable_baselines3) (1.4.8)\n",
      "Requirement already satisfied: packaging>=20.0 in c:\\users\\joepa\\anaconda3\\envs\\dev\\lib\\site-packages (from matplotlib->stable_baselines3) (24.2)\n",
      "Requirement already satisfied: pillow>=8 in c:\\users\\joepa\\anaconda3\\envs\\dev\\lib\\site-packages (from matplotlib->stable_baselines3) (11.1.0)\n",
      "Requirement already satisfied: pyparsing>=2.3.1 in c:\\users\\joepa\\anaconda3\\envs\\dev\\lib\\site-packages (from matplotlib->stable_baselines3) (3.2.0)\n",
      "Requirement already satisfied: python-dateutil>=2.7 in c:\\users\\joepa\\anaconda3\\envs\\dev\\lib\\site-packages (from matplotlib->stable_baselines3) (2.9.0.post0)\n",
      "Requirement already satisfied: pytz>=2020.1 in c:\\users\\joepa\\anaconda3\\envs\\dev\\lib\\site-packages (from pandas->stable_baselines3) (2024.1)\n",
      "Requirement already satisfied: tzdata>=2022.7 in c:\\users\\joepa\\anaconda3\\envs\\dev\\lib\\site-packages (from pandas->stable_baselines3) (2023.3)\n",
      "Requirement already satisfied: six>=1.5 in c:\\users\\joepa\\anaconda3\\envs\\dev\\lib\\site-packages (from python-dateutil>=2.7->matplotlib->stable_baselines3) (1.17.0)\n",
      "Requirement already satisfied: mpmath<1.4,>=1.1.0 in c:\\users\\joepa\\anaconda3\\envs\\dev\\lib\\site-packages (from sympy>=1.13.3->torch<3.0,>=2.3->stable_baselines3) (1.3.0)\n",
      "Requirement already satisfied: MarkupSafe>=2.0 in c:\\users\\joepa\\anaconda3\\envs\\dev\\lib\\site-packages (from jinja2->torch<3.0,>=2.3->stable_baselines3) (3.0.2)\n",
      "Using cached stable_baselines3-2.6.0-py3-none-any.whl (184 kB)\n",
      "Installing collected packages: stable_baselines3\n",
      "Successfully installed stable_baselines3-2.6.0\n"
     ]
    }
   ],
   "source": [
    "! pip install stable_baselines3"
   ]
  },
  {
   "cell_type": "code",
   "execution_count": 8,
   "metadata": {
    "colab": {
     "base_uri": "https://localhost:8080/"
    },
    "id": "vV3qgDU3Law9",
    "outputId": "c8508be2-fd41-448d-81b5-b517a3d99fd8"
   },
   "outputs": [
    {
     "name": "stdout",
     "output_type": "stream",
     "text": [
      "['CartPole-v0', 'CartPole-v1', 'MountainCar-v0', 'MountainCarContinuous-v0', 'Pendulum-v1', 'Acrobot-v1', 'phys2d/CartPole-v0', 'phys2d/CartPole-v1', 'phys2d/Pendulum-v0', 'LunarLander-v3', 'LunarLanderContinuous-v3', 'BipedalWalker-v3', 'BipedalWalkerHardcore-v3', 'CarRacing-v3', 'Blackjack-v1', 'FrozenLake-v1', 'FrozenLake8x8-v1', 'CliffWalking-v0', 'Taxi-v3', 'tabular/Blackjack-v0', 'tabular/CliffWalking-v0', 'Reacher-v2', 'Reacher-v4', 'Reacher-v5', 'Pusher-v2', 'Pusher-v4', 'Pusher-v5', 'InvertedPendulum-v2', 'InvertedPendulum-v4', 'InvertedPendulum-v5', 'InvertedDoublePendulum-v2', 'InvertedDoublePendulum-v4', 'InvertedDoublePendulum-v5', 'HalfCheetah-v2', 'HalfCheetah-v3', 'HalfCheetah-v4', 'HalfCheetah-v5', 'Hopper-v2', 'Hopper-v3', 'Hopper-v4', 'Hopper-v5', 'Swimmer-v2', 'Swimmer-v3', 'Swimmer-v4', 'Swimmer-v5', 'Walker2d-v2', 'Walker2d-v3', 'Walker2d-v4', 'Walker2d-v5', 'Ant-v2', 'Ant-v3', 'Ant-v4', 'Ant-v5', 'Humanoid-v2', 'Humanoid-v3', 'Humanoid-v4', 'Humanoid-v5', 'HumanoidStandup-v2', 'HumanoidStandup-v4', 'HumanoidStandup-v5', 'GymV21Environment-v0', 'GymV26Environment-v0']\n"
     ]
    }
   ],
   "source": [
    "import gymnasium as gym\n",
    "\n",
    "# list all available environments\n",
    "envs = gym.envs.registry.keys()\n",
    "print(list(envs))"
   ]
  },
  {
   "cell_type": "markdown",
   "metadata": {
    "id": "x3rfuT0V4fXx"
   },
   "source": [
    "# Learning Objectives\n",
    "* Apply Reinforcement Learning Concepts\n",
    "* Understanding gymnasium environments\n",
    "* Demonstrate Q-Learning and Deep Q-Learning Reinforcement techniques\n",
    "\n",
    "# Real Life Applications\n",
    "* Autonomous Vehicles\n",
    "* Automated Stock Trading\n",
    "\n"
   ]
  },
  {
   "cell_type": "markdown",
   "metadata": {
    "id": "bHArj7FOOeU1"
   },
   "source": [
    "# The Cartpole Environment\n",
    "The environment consists of:\n",
    "* A cart that moves left or right on a track\n",
    "* A pole attached to the cart that tries to stay upright.\n",
    "* The agent's goal is to prevent the pole from falling over by choosing the right actions.\n",
    "\n",
    "\n",
    "# The Agent's Role\n",
    "* Observes the environment (the current state of the cart and pole).\n",
    "* Chooses an action based on the observation\n",
    "* Receives rewards depending on how well it keeps the pole upright.\n",
    "* Learns over time to improve its actions.\n",
    "\n",
    "# Observation Space (State)\n",
    "\n",
    "The agent sees the environment through observations represented as a 4D vector\n",
    "\n",
    "|Feature|Description|\n",
    "|---|---|\n",
    "|Cart Position| How far left/right the cart is on the track.|\n",
    "|Cart Velocity| Speed and direction of the cart|\n",
    "|Pole Angle| How far the pole is tilted from the vertical|\n",
    "|Pole Angular Velocity|How fast the pole is falling over.|\n",
    "\n",
    "# Action Space\n",
    "The agent  can take two discrete actions:\n",
    "* 0: Move the cart left\n",
    "* 1: Move the cart right\n",
    "\n",
    "# Reward System (Learning Signal):\n",
    "* The agent gets a reward of +1 for every time step the pole stays upright.\n",
    "* If the pole falls past a threshold angle or the cart moves too far lef/right, the episode ends.\n",
    "\n",
    "Goal: Maximize total rewards by keeping the pole balanced for as long as possible.\n",
    "\n",
    "# Understanding the API\n",
    "* env.reset(): Resets the environment and returns the initial observation.\n",
    "* env.step(action): Applies an action and returns:\n",
    "* obs: New state\n",
    "* reward: Reward for this action\n",
    "* done: Whether the episode is over\n",
    "* truncated: If the episode ended for another * reason (e.g., max steps reached)\n",
    "* info: Additional debugging info\n",
    "* env.close(): Closes the environment."
   ]
  },
  {
   "cell_type": "code",
   "execution_count": 9,
   "metadata": {
    "colab": {
     "base_uri": "https://localhost:8080/"
    },
    "id": "STD9jhxRLq0W",
    "outputId": "a45da37b-47c5-44d3-9f9f-977af76f27d4"
   },
   "outputs": [
    {
     "name": "stdout",
     "output_type": "stream",
     "text": [
      "New State: [-0.00112936 -0.24573727  0.05035486  0.33876374], Reward: 1.0, Done: False\n"
     ]
    }
   ],
   "source": [
    "# Create the environment\n",
    "env = gym.make(\"CartPole-v1\", render_mode=\"human\")\n",
    "\n",
    "# Reset environment to get the initial observation\n",
    "obs, info = env.reset()\n",
    "\n",
    "# Take action in the environment\n",
    "\n",
    "action=env.action_space.sample() # Choose a random action\n",
    "obs, reward, done, truncated, info = env.step(action)\n",
    "\n",
    "print(f\"New State: {obs}, Reward: {reward}, Done: {done}\")\n",
    "\n",
    "env.close()\n",
    "\n"
   ]
  },
  {
   "cell_type": "code",
   "execution_count": 10,
   "metadata": {
    "colab": {
     "base_uri": "https://localhost:8080/"
    },
    "id": "tWnKlKFqNdAq",
    "outputId": "63d77bf7-8551-4b58-af86-38c4934656fe"
   },
   "outputs": [
    {
     "data": {
      "text/plain": [
       "array([-0.00112936, -0.24573727,  0.05035486,  0.33876374], dtype=float32)"
      ]
     },
     "execution_count": 10,
     "metadata": {},
     "output_type": "execute_result"
    }
   ],
   "source": [
    "obs"
   ]
  },
  {
   "cell_type": "code",
   "execution_count": 11,
   "metadata": {
    "colab": {
     "base_uri": "https://localhost:8080/"
    },
    "id": "KHaNk6AHX7BE",
    "outputId": "b0a1e71e-be3a-4f79-c12e-19178d18c926"
   },
   "outputs": [
    {
     "data": {
      "text/plain": [
       "{}"
      ]
     },
     "execution_count": 11,
     "metadata": {},
     "output_type": "execute_result"
    }
   ],
   "source": [
    "info"
   ]
  },
  {
   "cell_type": "markdown",
   "metadata": {
    "id": "I-Od2aJ55Q9G"
   },
   "source": [
    "# What is an episode?\n",
    "\n",
    "In reinforcement learning, an episode consists of multiple steps, and at each step, the agent takes one action based on the current state.\n",
    "\n",
    "Each episode starts when the environment is reset and ends when:\n",
    "\n",
    "The agent reaches a terminal state (e.g., the pole falls in CartPole).\n",
    "A maximum number of steps is reached (if specified).\n",
    "The episode is truncated due to environment constraints"
   ]
  },
  {
   "cell_type": "markdown",
   "metadata": {
    "id": "qiKxp4G6obdY"
   },
   "source": [
    "# Walking through a Random Selected Action"
   ]
  },
  {
   "cell_type": "code",
   "execution_count": 12,
   "metadata": {
    "colab": {
     "base_uri": "https://localhost:8080/",
     "height": 625
    },
    "id": "46LJEbovYBWk",
    "outputId": "dda68299-400e-4250-c3f8-b6f2ea3744ab"
   },
   "outputs": [
    {
     "name": "stdout",
     "output_type": "stream",
     "text": [
      "Action \n",
      "Action \n",
      "Action \n",
      "Action \n",
      "Action \n",
      "Action \n",
      "Action \n",
      "Action \n",
      "Action \n",
      "Action \n",
      "Action \n"
     ]
    },
    {
     "data": {
      "image/gif": "[encoded data removed]",
      "text/plain": [
       "<IPython.core.display.Image object>"
      ]
     },
     "execution_count": 12,
     "metadata": {},
     "output_type": "execute_result"
    }
   ],
   "source": [
    "import gymnasium as gym\n",
    "import imageio # used to save and create a GIF from the frames of the simulation.\n",
    "\n",
    "\n",
    "# Create environment\n",
    "# Instead of rendering in a window (which may not work in some environments like Colab), it captures frames as images (NumPy arrays)\n",
    "env = gym.make(\"CartPole-v1\", render_mode=\"rgb_array\")\n",
    "\n",
    "frames = []  # A list to store images (frames) of the simulation for making a GIF later.\n",
    "\n",
    "# Resets the environment to the initial state. _ is used because reset() returns two values, but we only need state.\n",
    "state, _ = env.reset()\n",
    "done = False # Tracks whether episode ended\n",
    "\n",
    "while not done: # loop until cart pole falls\n",
    "    print(\"Action \")\n",
    "    # Selects a random action (0 for left, 1 for right).\n",
    "    action = env.action_space.sample()\n",
    "\n",
    "\n",
    "    # Executes the selected action in the environment.\n",
    "    #   Returns:\n",
    "    #     state: The new state after taking the action.\n",
    "    #     reward: The reward received (always +1 for each step in CartPole).\n",
    "    #     done: True if the episode ends (CartPole falls).\n",
    "    #     truncated: Indicates if the episode was forcibly stopped (not relevant here).\n",
    "    #     info: Extra information (not used here).\n",
    "\n",
    "    state, reward, done, truncated, info = env.step(action)\n",
    "\n",
    "    # Capture frame\n",
    "    frames.append(env.render())\n",
    "\n",
    "# Save as a GIF\n",
    "imageio.mimsave(' cartpole.gif', frames, duration=0.1)\n",
    "\n",
    "# Display in Colab\n",
    "from IPython.display import Image\n",
    "Image(filename='cartpole.gif')\n"
   ]
  },
  {
   "cell_type": "markdown",
   "metadata": {
    "id": "7DZS3MZtqVIp"
   },
   "source": [
    "# Tracking the average steps before failure using a Random Model"
   ]
  },
  {
   "cell_type": "code",
   "execution_count": 27,
   "metadata": {
    "colab": {
     "base_uri": "https://localhost:8080/"
    },
    "id": "g66fnXQqqKnf",
    "outputId": "e49d1a1c-2230-48b5-9ffb-a74424d0c9e6"
   },
   "outputs": [
    {
     "name": "stdout",
     "output_type": "stream",
     "text": [
      "🎲 Random Model - Episode 1: 12 steps\n",
      "🎲 Random Model - Episode 2: 32 steps\n",
      "🎲 Random Model - Episode 3: 10 steps\n",
      "🎲 Random Model - Episode 4: 21 steps\n",
      "🎲 Random Model - Episode 5: 38 steps\n",
      "🎲 Random Model - Episode 6: 11 steps\n",
      "🎲 Random Model - Episode 7: 23 steps\n",
      "🎲 Random Model - Episode 8: 39 steps\n",
      "🎲 Random Model - Episode 9: 14 steps\n",
      "🎲 Random Model - Episode 10: 32 steps\n",
      "🎲 Random Model - Episode 11: 18 steps\n",
      "🎲 Random Model - Episode 12: 10 steps\n",
      "🎲 Random Model - Episode 13: 29 steps\n",
      "🎲 Random Model - Episode 14: 42 steps\n",
      "🎲 Random Model - Episode 15: 17 steps\n",
      "🎲 Random Model - Episode 16: 22 steps\n",
      "🎲 Random Model - Episode 17: 11 steps\n",
      "🎲 Random Model - Episode 18: 13 steps\n",
      "🎲 Random Model - Episode 19: 26 steps\n",
      "🎲 Random Model - Episode 20: 17 steps\n",
      "🎲 Random Model - Episode 21: 12 steps\n",
      "🎲 Random Model - Episode 22: 42 steps\n",
      "🎲 Random Model - Episode 23: 27 steps\n",
      "🎲 Random Model - Episode 24: 35 steps\n",
      "🎲 Random Model - Episode 25: 11 steps\n",
      "🎲 Random Model - Episode 26: 28 steps\n",
      "🎲 Random Model - Episode 27: 10 steps\n",
      "🎲 Random Model - Episode 28: 41 steps\n",
      "🎲 Random Model - Episode 29: 63 steps\n",
      "🎲 Random Model - Episode 30: 24 steps\n",
      "🎲 Random Model - Episode 31: 25 steps\n",
      "🎲 Random Model - Episode 32: 11 steps\n",
      "🎲 Random Model - Episode 33: 32 steps\n",
      "🎲 Random Model - Episode 34: 24 steps\n",
      "🎲 Random Model - Episode 35: 20 steps\n",
      "🎲 Random Model - Episode 36: 14 steps\n",
      "🎲 Random Model - Episode 37: 19 steps\n",
      "🎲 Random Model - Episode 38: 47 steps\n",
      "🎲 Random Model - Episode 39: 12 steps\n",
      "🎲 Random Model - Episode 40: 17 steps\n",
      "🎲 Random Model - Episode 41: 15 steps\n",
      "🎲 Random Model - Episode 42: 11 steps\n",
      "🎲 Random Model - Episode 43: 48 steps\n",
      "🎲 Random Model - Episode 44: 34 steps\n",
      "🎲 Random Model - Episode 45: 14 steps\n",
      "🎲 Random Model - Episode 46: 37 steps\n",
      "🎲 Random Model - Episode 47: 20 steps\n",
      "🎲 Random Model - Episode 48: 12 steps\n",
      "🎲 Random Model - Episode 49: 42 steps\n",
      "🎲 Random Model - Episode 50: 46 steps\n",
      "🎲 Random Model - Episode 51: 15 steps\n",
      "🎲 Random Model - Episode 52: 20 steps\n",
      "🎲 Random Model - Episode 53: 13 steps\n",
      "🎲 Random Model - Episode 54: 38 steps\n",
      "🎲 Random Model - Episode 55: 19 steps\n",
      "🎲 Random Model - Episode 56: 20 steps\n",
      "🎲 Random Model - Episode 57: 45 steps\n",
      "🎲 Random Model - Episode 58: 17 steps\n",
      "🎲 Random Model - Episode 59: 13 steps\n",
      "🎲 Random Model - Episode 60: 11 steps\n",
      "🎲 Random Model - Episode 61: 19 steps\n",
      "🎲 Random Model - Episode 62: 13 steps\n",
      "🎲 Random Model - Episode 63: 20 steps\n",
      "🎲 Random Model - Episode 64: 16 steps\n",
      "🎲 Random Model - Episode 65: 17 steps\n",
      "🎲 Random Model - Episode 66: 27 steps\n",
      "🎲 Random Model - Episode 67: 10 steps\n",
      "🎲 Random Model - Episode 68: 31 steps\n",
      "🎲 Random Model - Episode 69: 14 steps\n",
      "🎲 Random Model - Episode 70: 10 steps\n",
      "🎲 Random Model - Episode 71: 22 steps\n",
      "🎲 Random Model - Episode 72: 40 steps\n",
      "🎲 Random Model - Episode 73: 10 steps\n",
      "🎲 Random Model - Episode 74: 14 steps\n",
      "🎲 Random Model - Episode 75: 31 steps\n",
      "🎲 Random Model - Episode 76: 16 steps\n",
      "🎲 Random Model - Episode 77: 50 steps\n",
      "🎲 Random Model - Episode 78: 34 steps\n",
      "🎲 Random Model - Episode 79: 24 steps\n",
      "🎲 Random Model - Episode 80: 20 steps\n",
      "🎲 Random Model - Episode 81: 51 steps\n",
      "🎲 Random Model - Episode 82: 17 steps\n",
      "🎲 Random Model - Episode 83: 23 steps\n",
      "🎲 Random Model - Episode 84: 23 steps\n",
      "🎲 Random Model - Episode 85: 66 steps\n",
      "🎲 Random Model - Episode 86: 17 steps\n",
      "🎲 Random Model - Episode 87: 14 steps\n",
      "🎲 Random Model - Episode 88: 23 steps\n",
      "🎲 Random Model - Episode 89: 21 steps\n",
      "🎲 Random Model - Episode 90: 14 steps\n",
      "🎲 Random Model - Episode 91: 33 steps\n",
      "🎲 Random Model - Episode 92: 15 steps\n",
      "🎲 Random Model - Episode 93: 18 steps\n",
      "🎲 Random Model - Episode 94: 31 steps\n",
      "🎲 Random Model - Episode 95: 64 steps\n",
      "🎲 Random Model - Episode 96: 21 steps\n",
      "🎲 Random Model - Episode 97: 15 steps\n",
      "🎲 Random Model - Episode 98: 24 steps\n",
      "🎲 Random Model - Episode 99: 20 steps\n",
      "🎲 Random Model - Episode 100: 17 steps\n",
      "🎲 Random Model - Episode 101: 17 steps\n",
      "🎲 Random Model - Episode 102: 11 steps\n",
      "🎲 Random Model - Episode 103: 31 steps\n",
      "🎲 Random Model - Episode 104: 12 steps\n",
      "🎲 Random Model - Episode 105: 39 steps\n",
      "🎲 Random Model - Episode 106: 14 steps\n",
      "🎲 Random Model - Episode 107: 14 steps\n",
      "🎲 Random Model - Episode 108: 18 steps\n",
      "🎲 Random Model - Episode 109: 12 steps\n",
      "🎲 Random Model - Episode 110: 9 steps\n",
      "🎲 Random Model - Episode 111: 11 steps\n",
      "🎲 Random Model - Episode 112: 17 steps\n",
      "🎲 Random Model - Episode 113: 16 steps\n",
      "🎲 Random Model - Episode 114: 52 steps\n",
      "🎲 Random Model - Episode 115: 33 steps\n",
      "🎲 Random Model - Episode 116: 16 steps\n",
      "🎲 Random Model - Episode 117: 31 steps\n",
      "🎲 Random Model - Episode 118: 29 steps\n",
      "🎲 Random Model - Episode 119: 10 steps\n",
      "🎲 Random Model - Episode 120: 18 steps\n",
      "🎲 Random Model - Episode 121: 11 steps\n",
      "🎲 Random Model - Episode 122: 13 steps\n",
      "🎲 Random Model - Episode 123: 19 steps\n",
      "🎲 Random Model - Episode 124: 29 steps\n",
      "🎲 Random Model - Episode 125: 15 steps\n",
      "🎲 Random Model - Episode 126: 17 steps\n",
      "🎲 Random Model - Episode 127: 21 steps\n",
      "🎲 Random Model - Episode 128: 26 steps\n",
      "🎲 Random Model - Episode 129: 11 steps\n",
      "🎲 Random Model - Episode 130: 17 steps\n",
      "🎲 Random Model - Episode 131: 16 steps\n",
      "🎲 Random Model - Episode 132: 25 steps\n",
      "🎲 Random Model - Episode 133: 18 steps\n",
      "🎲 Random Model - Episode 134: 39 steps\n",
      "🎲 Random Model - Episode 135: 23 steps\n",
      "🎲 Random Model - Episode 136: 31 steps\n",
      "🎲 Random Model - Episode 137: 14 steps\n",
      "🎲 Random Model - Episode 138: 21 steps\n",
      "🎲 Random Model - Episode 139: 49 steps\n",
      "🎲 Random Model - Episode 140: 66 steps\n",
      "🎲 Random Model - Episode 141: 29 steps\n",
      "🎲 Random Model - Episode 142: 15 steps\n",
      "🎲 Random Model - Episode 143: 17 steps\n",
      "🎲 Random Model - Episode 144: 28 steps\n",
      "🎲 Random Model - Episode 145: 16 steps\n",
      "🎲 Random Model - Episode 146: 11 steps\n",
      "🎲 Random Model - Episode 147: 35 steps\n",
      "🎲 Random Model - Episode 148: 47 steps\n",
      "🎲 Random Model - Episode 149: 13 steps\n",
      "🎲 Random Model - Episode 150: 13 steps\n",
      "🎲 Random Model - Episode 151: 19 steps\n",
      "🎲 Random Model - Episode 152: 15 steps\n",
      "🎲 Random Model - Episode 153: 10 steps\n",
      "🎲 Random Model - Episode 154: 12 steps\n",
      "🎲 Random Model - Episode 155: 15 steps\n",
      "🎲 Random Model - Episode 156: 11 steps\n",
      "🎲 Random Model - Episode 157: 13 steps\n",
      "🎲 Random Model - Episode 158: 17 steps\n",
      "🎲 Random Model - Episode 159: 27 steps\n",
      "🎲 Random Model - Episode 160: 22 steps\n",
      "🎲 Random Model - Episode 161: 20 steps\n",
      "🎲 Random Model - Episode 162: 17 steps\n",
      "🎲 Random Model - Episode 163: 19 steps\n",
      "🎲 Random Model - Episode 164: 11 steps\n",
      "🎲 Random Model - Episode 165: 12 steps\n",
      "🎲 Random Model - Episode 166: 13 steps\n",
      "🎲 Random Model - Episode 167: 52 steps\n",
      "🎲 Random Model - Episode 168: 15 steps\n",
      "🎲 Random Model - Episode 169: 15 steps\n",
      "🎲 Random Model - Episode 170: 16 steps\n",
      "🎲 Random Model - Episode 171: 26 steps\n",
      "🎲 Random Model - Episode 172: 32 steps\n",
      "🎲 Random Model - Episode 173: 16 steps\n",
      "🎲 Random Model - Episode 174: 55 steps\n",
      "🎲 Random Model - Episode 175: 45 steps\n",
      "🎲 Random Model - Episode 176: 9 steps\n",
      "🎲 Random Model - Episode 177: 37 steps\n",
      "🎲 Random Model - Episode 178: 29 steps\n",
      "🎲 Random Model - Episode 179: 17 steps\n",
      "🎲 Random Model - Episode 180: 26 steps\n",
      "🎲 Random Model - Episode 181: 33 steps\n",
      "🎲 Random Model - Episode 182: 35 steps\n",
      "🎲 Random Model - Episode 183: 22 steps\n",
      "🎲 Random Model - Episode 184: 14 steps\n",
      "🎲 Random Model - Episode 185: 24 steps\n",
      "🎲 Random Model - Episode 186: 17 steps\n",
      "🎲 Random Model - Episode 187: 13 steps\n",
      "🎲 Random Model - Episode 188: 36 steps\n",
      "🎲 Random Model - Episode 189: 11 steps\n",
      "🎲 Random Model - Episode 190: 14 steps\n",
      "🎲 Random Model - Episode 191: 12 steps\n",
      "🎲 Random Model - Episode 192: 89 steps\n",
      "🎲 Random Model - Episode 193: 14 steps\n",
      "🎲 Random Model - Episode 194: 32 steps\n",
      "🎲 Random Model - Episode 195: 16 steps\n",
      "🎲 Random Model - Episode 196: 19 steps\n",
      "🎲 Random Model - Episode 197: 14 steps\n",
      "🎲 Random Model - Episode 198: 14 steps\n",
      "🎲 Random Model - Episode 199: 19 steps\n",
      "🎲 Random Model - Episode 200: 26 steps\n",
      "🎲 Random Model - Episode 201: 25 steps\n",
      "🎲 Random Model - Episode 202: 16 steps\n",
      "🎲 Random Model - Episode 203: 11 steps\n",
      "🎲 Random Model - Episode 204: 35 steps\n",
      "🎲 Random Model - Episode 205: 16 steps\n",
      "🎲 Random Model - Episode 206: 14 steps\n",
      "🎲 Random Model - Episode 207: 13 steps\n",
      "🎲 Random Model - Episode 208: 24 steps\n",
      "🎲 Random Model - Episode 209: 22 steps\n",
      "🎲 Random Model - Episode 210: 12 steps\n",
      "🎲 Random Model - Episode 211: 31 steps\n",
      "🎲 Random Model - Episode 212: 62 steps\n",
      "🎲 Random Model - Episode 213: 17 steps\n",
      "🎲 Random Model - Episode 214: 51 steps\n",
      "🎲 Random Model - Episode 215: 39 steps\n",
      "🎲 Random Model - Episode 216: 10 steps\n",
      "🎲 Random Model - Episode 217: 21 steps\n",
      "🎲 Random Model - Episode 218: 22 steps\n",
      "🎲 Random Model - Episode 219: 12 steps\n",
      "🎲 Random Model - Episode 220: 15 steps\n",
      "🎲 Random Model - Episode 221: 24 steps\n",
      "🎲 Random Model - Episode 222: 12 steps\n",
      "🎲 Random Model - Episode 223: 22 steps\n",
      "🎲 Random Model - Episode 224: 11 steps\n",
      "🎲 Random Model - Episode 225: 17 steps\n",
      "🎲 Random Model - Episode 226: 41 steps\n",
      "🎲 Random Model - Episode 227: 24 steps\n",
      "🎲 Random Model - Episode 228: 12 steps\n",
      "🎲 Random Model - Episode 229: 13 steps\n",
      "🎲 Random Model - Episode 230: 24 steps\n",
      "🎲 Random Model - Episode 231: 25 steps\n",
      "🎲 Random Model - Episode 232: 11 steps\n",
      "🎲 Random Model - Episode 233: 14 steps\n",
      "🎲 Random Model - Episode 234: 12 steps\n",
      "🎲 Random Model - Episode 235: 14 steps\n",
      "🎲 Random Model - Episode 236: 17 steps\n",
      "🎲 Random Model - Episode 237: 16 steps\n",
      "🎲 Random Model - Episode 238: 16 steps\n",
      "🎲 Random Model - Episode 239: 21 steps\n",
      "🎲 Random Model - Episode 240: 18 steps\n",
      "🎲 Random Model - Episode 241: 24 steps\n",
      "🎲 Random Model - Episode 242: 9 steps\n",
      "🎲 Random Model - Episode 243: 10 steps\n",
      "🎲 Random Model - Episode 244: 15 steps\n",
      "🎲 Random Model - Episode 245: 20 steps\n",
      "🎲 Random Model - Episode 246: 12 steps\n",
      "🎲 Random Model - Episode 247: 39 steps\n",
      "🎲 Random Model - Episode 248: 62 steps\n",
      "🎲 Random Model - Episode 249: 17 steps\n",
      "🎲 Random Model - Episode 250: 16 steps\n",
      "🎲 Random Model - Episode 251: 25 steps\n",
      "🎲 Random Model - Episode 252: 10 steps\n",
      "🎲 Random Model - Episode 253: 15 steps\n",
      "🎲 Random Model - Episode 254: 42 steps\n",
      "🎲 Random Model - Episode 255: 16 steps\n",
      "🎲 Random Model - Episode 256: 10 steps\n",
      "🎲 Random Model - Episode 257: 16 steps\n",
      "🎲 Random Model - Episode 258: 14 steps\n",
      "🎲 Random Model - Episode 259: 45 steps\n",
      "🎲 Random Model - Episode 260: 30 steps\n",
      "🎲 Random Model - Episode 261: 27 steps\n",
      "🎲 Random Model - Episode 262: 23 steps\n",
      "🎲 Random Model - Episode 263: 20 steps\n",
      "🎲 Random Model - Episode 264: 15 steps\n",
      "🎲 Random Model - Episode 265: 12 steps\n",
      "🎲 Random Model - Episode 266: 33 steps\n",
      "🎲 Random Model - Episode 267: 23 steps\n",
      "🎲 Random Model - Episode 268: 43 steps\n",
      "🎲 Random Model - Episode 269: 46 steps\n",
      "🎲 Random Model - Episode 270: 17 steps\n",
      "🎲 Random Model - Episode 271: 25 steps\n",
      "🎲 Random Model - Episode 272: 31 steps\n",
      "🎲 Random Model - Episode 273: 14 steps\n",
      "🎲 Random Model - Episode 274: 33 steps\n",
      "🎲 Random Model - Episode 275: 16 steps\n",
      "🎲 Random Model - Episode 276: 23 steps\n",
      "🎲 Random Model - Episode 277: 27 steps\n",
      "🎲 Random Model - Episode 278: 9 steps\n",
      "🎲 Random Model - Episode 279: 21 steps\n",
      "🎲 Random Model - Episode 280: 23 steps\n",
      "🎲 Random Model - Episode 281: 27 steps\n",
      "🎲 Random Model - Episode 282: 35 steps\n",
      "🎲 Random Model - Episode 283: 73 steps\n",
      "🎲 Random Model - Episode 284: 25 steps\n",
      "🎲 Random Model - Episode 285: 24 steps\n",
      "🎲 Random Model - Episode 286: 28 steps\n",
      "🎲 Random Model - Episode 287: 10 steps\n",
      "🎲 Random Model - Episode 288: 18 steps\n",
      "🎲 Random Model - Episode 289: 13 steps\n",
      "🎲 Random Model - Episode 290: 16 steps\n",
      "🎲 Random Model - Episode 291: 15 steps\n",
      "🎲 Random Model - Episode 292: 31 steps\n",
      "🎲 Random Model - Episode 293: 12 steps\n",
      "🎲 Random Model - Episode 294: 20 steps\n",
      "🎲 Random Model - Episode 295: 67 steps\n",
      "🎲 Random Model - Episode 296: 15 steps\n",
      "🎲 Random Model - Episode 297: 14 steps\n",
      "🎲 Random Model - Episode 298: 12 steps\n",
      "🎲 Random Model - Episode 299: 11 steps\n",
      "🎲 Random Model - Episode 300: 12 steps\n",
      "🎲 Random Model - Episode 301: 8 steps\n",
      "🎲 Random Model - Episode 302: 11 steps\n",
      "🎲 Random Model - Episode 303: 45 steps\n",
      "🎲 Random Model - Episode 304: 14 steps\n",
      "🎲 Random Model - Episode 305: 13 steps\n",
      "🎲 Random Model - Episode 306: 32 steps\n",
      "🎲 Random Model - Episode 307: 9 steps\n",
      "🎲 Random Model - Episode 308: 30 steps\n",
      "🎲 Random Model - Episode 309: 37 steps\n",
      "🎲 Random Model - Episode 310: 29 steps\n",
      "🎲 Random Model - Episode 311: 18 steps\n",
      "🎲 Random Model - Episode 312: 13 steps\n",
      "🎲 Random Model - Episode 313: 42 steps\n",
      "🎲 Random Model - Episode 314: 14 steps\n",
      "🎲 Random Model - Episode 315: 14 steps\n",
      "🎲 Random Model - Episode 316: 25 steps\n",
      "🎲 Random Model - Episode 317: 17 steps\n",
      "🎲 Random Model - Episode 318: 19 steps\n",
      "🎲 Random Model - Episode 319: 16 steps\n",
      "🎲 Random Model - Episode 320: 30 steps\n",
      "🎲 Random Model - Episode 321: 17 steps\n",
      "🎲 Random Model - Episode 322: 19 steps\n",
      "🎲 Random Model - Episode 323: 20 steps\n",
      "🎲 Random Model - Episode 324: 12 steps\n",
      "🎲 Random Model - Episode 325: 20 steps\n",
      "🎲 Random Model - Episode 326: 13 steps\n",
      "🎲 Random Model - Episode 327: 13 steps\n",
      "🎲 Random Model - Episode 328: 38 steps\n",
      "🎲 Random Model - Episode 329: 22 steps\n",
      "🎲 Random Model - Episode 330: 22 steps\n",
      "🎲 Random Model - Episode 331: 42 steps\n",
      "🎲 Random Model - Episode 332: 21 steps\n",
      "🎲 Random Model - Episode 333: 21 steps\n",
      "🎲 Random Model - Episode 334: 20 steps\n",
      "🎲 Random Model - Episode 335: 17 steps\n",
      "🎲 Random Model - Episode 336: 21 steps\n",
      "🎲 Random Model - Episode 337: 12 steps\n",
      "🎲 Random Model - Episode 338: 14 steps\n",
      "🎲 Random Model - Episode 339: 12 steps\n",
      "🎲 Random Model - Episode 340: 22 steps\n",
      "🎲 Random Model - Episode 341: 9 steps\n",
      "🎲 Random Model - Episode 342: 41 steps\n",
      "🎲 Random Model - Episode 343: 12 steps\n",
      "🎲 Random Model - Episode 344: 18 steps\n",
      "🎲 Random Model - Episode 345: 36 steps\n",
      "🎲 Random Model - Episode 346: 14 steps\n",
      "🎲 Random Model - Episode 347: 10 steps\n",
      "🎲 Random Model - Episode 348: 50 steps\n",
      "🎲 Random Model - Episode 349: 28 steps\n",
      "🎲 Random Model - Episode 350: 14 steps\n",
      "🎲 Random Model - Episode 351: 18 steps\n",
      "🎲 Random Model - Episode 352: 37 steps\n",
      "🎲 Random Model - Episode 353: 20 steps\n",
      "🎲 Random Model - Episode 354: 14 steps\n",
      "🎲 Random Model - Episode 355: 10 steps\n",
      "🎲 Random Model - Episode 356: 26 steps\n",
      "🎲 Random Model - Episode 357: 32 steps\n",
      "🎲 Random Model - Episode 358: 26 steps\n",
      "🎲 Random Model - Episode 359: 16 steps\n",
      "🎲 Random Model - Episode 360: 29 steps\n",
      "🎲 Random Model - Episode 361: 21 steps\n",
      "🎲 Random Model - Episode 362: 37 steps\n",
      "🎲 Random Model - Episode 363: 15 steps\n",
      "🎲 Random Model - Episode 364: 12 steps\n",
      "🎲 Random Model - Episode 365: 37 steps\n",
      "🎲 Random Model - Episode 366: 23 steps\n",
      "🎲 Random Model - Episode 367: 11 steps\n",
      "🎲 Random Model - Episode 368: 48 steps\n",
      "🎲 Random Model - Episode 369: 16 steps\n",
      "🎲 Random Model - Episode 370: 22 steps\n",
      "🎲 Random Model - Episode 371: 12 steps\n",
      "🎲 Random Model - Episode 372: 9 steps\n",
      "🎲 Random Model - Episode 373: 26 steps\n",
      "🎲 Random Model - Episode 374: 13 steps\n",
      "🎲 Random Model - Episode 375: 17 steps\n",
      "🎲 Random Model - Episode 376: 53 steps\n",
      "🎲 Random Model - Episode 377: 14 steps\n",
      "🎲 Random Model - Episode 378: 12 steps\n",
      "🎲 Random Model - Episode 379: 12 steps\n",
      "🎲 Random Model - Episode 380: 9 steps\n",
      "🎲 Random Model - Episode 381: 16 steps\n",
      "🎲 Random Model - Episode 382: 17 steps\n",
      "🎲 Random Model - Episode 383: 11 steps\n",
      "🎲 Random Model - Episode 384: 14 steps\n",
      "🎲 Random Model - Episode 385: 21 steps\n",
      "🎲 Random Model - Episode 386: 30 steps\n",
      "🎲 Random Model - Episode 387: 19 steps\n",
      "🎲 Random Model - Episode 388: 23 steps\n",
      "🎲 Random Model - Episode 389: 108 steps\n",
      "🎲 Random Model - Episode 390: 20 steps\n",
      "🎲 Random Model - Episode 391: 23 steps\n",
      "🎲 Random Model - Episode 392: 18 steps\n",
      "🎲 Random Model - Episode 393: 27 steps\n",
      "🎲 Random Model - Episode 394: 26 steps\n",
      "🎲 Random Model - Episode 395: 49 steps\n",
      "🎲 Random Model - Episode 396: 16 steps\n",
      "🎲 Random Model - Episode 397: 11 steps\n",
      "🎲 Random Model - Episode 398: 12 steps\n",
      "🎲 Random Model - Episode 399: 28 steps\n",
      "🎲 Random Model - Episode 400: 23 steps\n",
      "🎲 Random Model - Episode 401: 27 steps\n",
      "🎲 Random Model - Episode 402: 16 steps\n",
      "🎲 Random Model - Episode 403: 15 steps\n",
      "🎲 Random Model - Episode 404: 13 steps\n",
      "🎲 Random Model - Episode 405: 19 steps\n",
      "🎲 Random Model - Episode 406: 14 steps\n",
      "🎲 Random Model - Episode 407: 16 steps\n",
      "🎲 Random Model - Episode 408: 27 steps\n",
      "🎲 Random Model - Episode 409: 14 steps\n",
      "🎲 Random Model - Episode 410: 21 steps\n",
      "🎲 Random Model - Episode 411: 12 steps\n",
      "🎲 Random Model - Episode 412: 28 steps\n",
      "🎲 Random Model - Episode 413: 15 steps\n",
      "🎲 Random Model - Episode 414: 42 steps\n",
      "🎲 Random Model - Episode 415: 32 steps\n",
      "🎲 Random Model - Episode 416: 15 steps\n",
      "🎲 Random Model - Episode 417: 61 steps\n",
      "🎲 Random Model - Episode 418: 30 steps\n",
      "🎲 Random Model - Episode 419: 27 steps\n",
      "🎲 Random Model - Episode 420: 44 steps\n",
      "🎲 Random Model - Episode 421: 27 steps\n",
      "🎲 Random Model - Episode 422: 37 steps\n",
      "🎲 Random Model - Episode 423: 45 steps\n",
      "🎲 Random Model - Episode 424: 18 steps\n",
      "🎲 Random Model - Episode 425: 14 steps\n",
      "🎲 Random Model - Episode 426: 19 steps\n",
      "🎲 Random Model - Episode 427: 12 steps\n",
      "🎲 Random Model - Episode 428: 13 steps\n",
      "🎲 Random Model - Episode 429: 14 steps\n",
      "🎲 Random Model - Episode 430: 13 steps\n",
      "🎲 Random Model - Episode 431: 27 steps\n",
      "🎲 Random Model - Episode 432: 34 steps\n",
      "🎲 Random Model - Episode 433: 29 steps\n",
      "🎲 Random Model - Episode 434: 16 steps\n",
      "🎲 Random Model - Episode 435: 27 steps\n",
      "🎲 Random Model - Episode 436: 28 steps\n",
      "🎲 Random Model - Episode 437: 11 steps\n",
      "🎲 Random Model - Episode 438: 19 steps\n",
      "🎲 Random Model - Episode 439: 9 steps\n",
      "🎲 Random Model - Episode 440: 12 steps\n",
      "🎲 Random Model - Episode 441: 31 steps\n",
      "🎲 Random Model - Episode 442: 21 steps\n",
      "🎲 Random Model - Episode 443: 12 steps\n",
      "🎲 Random Model - Episode 444: 27 steps\n",
      "🎲 Random Model - Episode 445: 30 steps\n",
      "🎲 Random Model - Episode 446: 12 steps\n",
      "🎲 Random Model - Episode 447: 18 steps\n",
      "🎲 Random Model - Episode 448: 14 steps\n",
      "🎲 Random Model - Episode 449: 26 steps\n",
      "🎲 Random Model - Episode 450: 24 steps\n",
      "🎲 Random Model - Episode 451: 61 steps\n",
      "🎲 Random Model - Episode 452: 31 steps\n",
      "🎲 Random Model - Episode 453: 19 steps\n",
      "🎲 Random Model - Episode 454: 13 steps\n",
      "🎲 Random Model - Episode 455: 18 steps\n",
      "🎲 Random Model - Episode 456: 26 steps\n",
      "🎲 Random Model - Episode 457: 17 steps\n",
      "🎲 Random Model - Episode 458: 15 steps\n",
      "🎲 Random Model - Episode 459: 19 steps\n",
      "🎲 Random Model - Episode 460: 41 steps\n",
      "🎲 Random Model - Episode 461: 11 steps\n",
      "🎲 Random Model - Episode 462: 14 steps\n",
      "🎲 Random Model - Episode 463: 30 steps\n",
      "🎲 Random Model - Episode 464: 19 steps\n",
      "🎲 Random Model - Episode 465: 12 steps\n",
      "🎲 Random Model - Episode 466: 13 steps\n",
      "🎲 Random Model - Episode 467: 13 steps\n",
      "🎲 Random Model - Episode 468: 11 steps\n",
      "🎲 Random Model - Episode 469: 33 steps\n",
      "🎲 Random Model - Episode 470: 15 steps\n",
      "🎲 Random Model - Episode 471: 16 steps\n",
      "🎲 Random Model - Episode 472: 25 steps\n",
      "🎲 Random Model - Episode 473: 18 steps\n",
      "🎲 Random Model - Episode 474: 24 steps\n",
      "🎲 Random Model - Episode 475: 35 steps\n",
      "🎲 Random Model - Episode 476: 12 steps\n",
      "🎲 Random Model - Episode 477: 12 steps\n",
      "🎲 Random Model - Episode 478: 14 steps\n",
      "🎲 Random Model - Episode 479: 17 steps\n",
      "🎲 Random Model - Episode 480: 14 steps\n",
      "🎲 Random Model - Episode 481: 12 steps\n",
      "🎲 Random Model - Episode 482: 14 steps\n",
      "🎲 Random Model - Episode 483: 18 steps\n",
      "🎲 Random Model - Episode 484: 13 steps\n",
      "🎲 Random Model - Episode 485: 28 steps\n",
      "🎲 Random Model - Episode 486: 11 steps\n",
      "🎲 Random Model - Episode 487: 18 steps\n",
      "🎲 Random Model - Episode 488: 22 steps\n",
      "🎲 Random Model - Episode 489: 9 steps\n",
      "🎲 Random Model - Episode 490: 15 steps\n",
      "🎲 Random Model - Episode 491: 13 steps\n",
      "🎲 Random Model - Episode 492: 13 steps\n",
      "🎲 Random Model - Episode 493: 22 steps\n",
      "🎲 Random Model - Episode 494: 27 steps\n",
      "🎲 Random Model - Episode 495: 18 steps\n",
      "🎲 Random Model - Episode 496: 20 steps\n",
      "🎲 Random Model - Episode 497: 18 steps\n",
      "🎲 Random Model - Episode 498: 18 steps\n",
      "🎲 Random Model - Episode 499: 14 steps\n",
      "🎲 Random Model - Episode 500: 30 steps\n",
      "\n",
      "📊 Random Model Performance:\n",
      "Avg Steps: 22.40\n",
      "Min Steps: 8\n",
      "Max Steps: 108\n"
     ]
    }
   ],
   "source": [
    "import gymnasium as gym\n",
    "import numpy as np\n",
    "import time\n",
    "from IPython.display import clear_output\n",
    "\n",
    "# Create environment\n",
    "env = gym.make(\"CartPole-v1\",  render_mode=\"rgb_array\")  # No rendering for faster execution\n",
    "\n",
    "num_episodes = 500  # Number of episodes to test\n",
    "random_steps = []  # List to store steps per episode\n",
    "\n",
    "for episode in range(1, num_episodes + 1):\n",
    "    state, _ = env.reset()\n",
    "    done = False\n",
    "    step_count = 0\n",
    "\n",
    "    while not done:\n",
    "        action = env.action_space.sample()  # Random action\n",
    "        state, reward, done, truncated, info = env.step(action)\n",
    "        step_count += 1  # Track steps\n",
    "\n",
    "    random_steps.append(step_count)\n",
    "    print(f\"🎲 Random Model - Episode {episode}: {step_count} steps\")\n",
    "\n",
    "env.close()\n",
    "\n",
    "# Print statistics\n",
    "print(\"\\n📊 Random Model Performance:\")\n",
    "print(f\"Avg Steps: {np.mean(random_steps):.2f}\")\n",
    "print(f\"Min Steps: {np.min(random_steps)}\")\n",
    "print(f\"Max Steps: {np.max(random_steps)}\")\n"
   ]
  },
  {
   "cell_type": "code",
   "execution_count": null,
   "metadata": {
    "id": "W_oO6jPs9Oww"
   },
   "outputs": [],
   "source": []
  },
  {
   "cell_type": "markdown",
   "metadata": {
    "id": "UE4rNrt4rymP"
   },
   "source": [
    "### **Q-Learning vs. Deep Q-Learning (DQN with MLP Policy)**\n",
    "Both **Q-Learning** and **Deep Q-Learning (DQN)** are reinforcement learning methods that aim to solve problems using a **Q-value function**. However, they differ in how they approximate the Q-function.\n",
    "\n",
    "---\n",
    "\n",
    "## **1️⃣ Q-Learning:**\n",
    "A **tabular method** where the Q-values for each state-action pair are stored in a table and updated iteratively.\n",
    "\n",
    "### ✅ **Key Features:**\n",
    "- **Uses a Q-table**: Stores the Q-values for each state-action pair.\n",
    "- **Works well for small, discrete state spaces**.\n",
    "- **Updates Q-values using the Bellman Equation**:\n",
    "\n",
    "\n",
    "### 🏆 **Best for:**\n",
    "- Small, discrete environments (e.g., GridWorld, FrozenLake, simple Markov Decision Processes).\n",
    "\n",
    "---\n",
    "\n",
    "## **2️⃣ Deep Q-Learning (DQN with MLP Policy):**\n",
    "An **approximation-based method** that replaces the Q-table with a deep neural network (DNN) to estimate Q-values.\n",
    "\n",
    "### ✅ **Key Features:**\n",
    "- **Uses a deep neural network (MLP policy) instead of a Q-table**.\n",
    "- **Handles high-dimensional, continuous state spaces** (e.g., image-based games).\n",
    "- **Uses experience replay** to stabilize training.\n",
    "- **Uses target networks** to avoid instability in learning.\n",
    "\n",
    "### 🔧 **How It Works:**\n",
    "1. **Neural Network (MLP) approximates the Q-function**:  \n",
    "   Instead of storing \\( Q(s, a) \\) in a table, the network **predicts** the Q-value given an input state.\n",
    "   \n",
    "2. **Experience Replay**:  \n",
    "   Stores past experiences **(s, a, r, s')** in a memory buffer and samples random batches to update the Q-network.\n",
    "\n",
    "3. **Target Network**:  \n",
    "   A separate copy of the Q-network is updated slowly to improve stability.\n",
    "\n",
    "4. **Loss function (Mean Squared Error for TD loss):**  \n",
    "  \n",
    "### 🏆 **Best for:**\n",
    "- **Large, continuous, and complex environments** (e.g., Atari games, robotic control).\n",
    "- **Tasks where raw sensory input (images, complex states) is used**.\n",
    "\n",
    "---\n",
    "\n",
    "## **3️⃣ Key Differences**\n",
    "| Feature | Q-Learning | Deep Q-Learning (DQN with MLP) |\n",
    "|---------|-----------|--------------------------------|\n",
    "| **Approach** | Table-based | Neural Network-based |\n",
    "| **Handles Large State Spaces?** | ❌ No | ✅ Yes |\n",
    "| **Memory Usage** | High (needs to store \\( Q(s,a) \\)) | Lower (only stores network weights) |\n",
    "| **Generalization to Unseen States?** | ❌ No | ✅ Yes |\n",
    "| **Works with Continuous Spaces?** | ❌ No | ✅ Yes (with modifications like DDPG) |\n",
    "| **Exploration Strategy** | ε-greedy | ε-greedy + Experience Replay |\n",
    "| **Training Stability** | High | Can be unstable (needs tricks like target networks) |\n",
    "\n",
    "\n"
   ]
  },
  {
   "cell_type": "markdown",
   "metadata": {
    "id": "2KEpFoBX8_ni"
   },
   "source": [
    "# Improve the results DQN (Deep Q Learning )\n"
   ]
  },
  {
   "cell_type": "code",
   "execution_count": null,
   "metadata": {
    "colab": {
     "base_uri": "https://localhost:8080/"
    },
    "collapsed": true,
    "id": "33qjeg637S7-",
    "jupyter": {
     "outputs_hidden": true
    },
    "outputId": "31e4e8bc-8aa4-4376-c1e8-618d14714532"
   },
   "outputs": [],
   "source": [
    "\n"
   ]
  },
  {
   "cell_type": "markdown",
   "metadata": {
    "id": "raO3FegPcSzv"
   },
   "source": [
    "\n",
    "🚀 Stable-Baselines3 (SB3) is a Python library that provides pre-implemented reinforcement learning (RL) algorithms built on top of PyTorch. It makes it easy to train, evaluate, and deploy RL models with minimal effort.\n"
   ]
  },
  {
   "cell_type": "code",
   "execution_count": null,
   "metadata": {
    "id": "FASSGnvos1mW"
   },
   "outputs": [],
   "source": []
  },
  {
   "cell_type": "code",
   "execution_count": 18,
   "metadata": {
    "colab": {
     "base_uri": "https://localhost:8080/"
    },
    "collapsed": true,
    "id": "YRJOVkeL6VmU",
    "jupyter": {
     "outputs_hidden": true
    },
    "outputId": "93273d0b-9b00-4c4f-b6e5-2c8edd8ac885"
   },
   "outputs": [
    {
     "name": "stdout",
     "output_type": "stream",
     "text": [
      "Using cpu device\n",
      "Wrapping the env with a `Monitor` wrapper\n",
      "Wrapping the env in a DummyVecEnv.\n",
      "✅ Training complete! Model saved.\n"
     ]
    }
   ],
   "source": [
    "import gymnasium as gym\n",
    "from stable_baselines3 import DQN\n",
    "\n",
    "# Create environment\n",
    "env = gym.make(\"CartPole-v1\")\n",
    "\n",
    "# Train an agent using DQN\n",
    "model = DQN(\"MlpPolicy\", env, verbose=1)\n",
    "model.learn(total_timesteps=50)  # Train for 50k steps\n",
    "\n",
    "# Save the trained model\n",
    "model.save(\"cartpole_dqn\")\n",
    "print(\"✅ Training complete! Model saved.\")\n"
   ]
  },
  {
   "cell_type": "code",
   "execution_count": 19,
   "metadata": {
    "colab": {
     "base_uri": "https://localhost:8080/",
     "height": 452
    },
    "id": "qo5UzdzK7GW_",
    "outputId": "4a2490d1-7ddf-4fe3-9ca4-69063d5f3d07"
   },
   "outputs": [
    {
     "name": "stdout",
     "output_type": "stream",
     "text": [
      "🧠 Trained Agent | 🔄 Step: 85\n"
     ]
    },
    {
     "data": {
      "image/jpeg": "[encoded data removed]",
      "image/png": "[encoded data removed]",
      "text/plain": [
       "<PIL.Image.Image image mode=RGB size=600x400>"
      ]
     },
     "metadata": {},
     "output_type": "display_data"
    },
    {
     "name": "stdout",
     "output_type": "stream",
     "text": [
      "🎯 Trained Agent Balanced for 85 Steps! 🎉\n"
     ]
    }
   ],
   "source": [
    "import time\n",
    "from IPython.display import display, clear_output\n",
    "import PIL.Image\n",
    "\n",
    "# Load trained model\n",
    "model = DQN.load(\"cartpole_dqn\")\n",
    "\n",
    "# Create environment\n",
    "env = gym.make(\"CartPole-v1\", render_mode=\"rgb_array\")\n",
    "\n",
    "num_episodes = 1  # Number of training episodes\n",
    "delay_per_step = 1  # Faster, since it's well-trained\n",
    "\n",
    "for episode in range(1, num_episodes + 1):\n",
    "    frames = []\n",
    "    state, _ = env.reset()\n",
    "    done = False\n",
    "    step_count = 0\n",
    "\n",
    "    print(f\"🚀 Running Trained Model - Episode {episode}\")\n",
    "\n",
    "    while not done:\n",
    "        action, _ = model.predict(state, deterministic=True)  # Use trained model\n",
    "        state, reward, done, truncated, info = env.step(action)\n",
    "        step_count += 1\n",
    "\n",
    "        frame = env.render()\n",
    "        frames.append(frame)\n",
    "\n",
    "        clear_output(wait=True)\n",
    "        print(f\"🧠 Trained Agent | 🔄 Step: {step_count}\")\n",
    "        display(PIL.Image.fromarray(frame))\n",
    "\n",
    "        time.sleep(delay_per_step)\n",
    "\n",
    "    print(f\"🎯 Trained Agent Balanced for {step_count} Steps! 🎉\")\n"
   ]
  },
  {
   "cell_type": "code",
   "execution_count": null,
   "metadata": {
    "id": "QvjU6tYw8V5d"
   },
   "outputs": [],
   "source": []
  },
  {
   "cell_type": "markdown",
   "metadata": {
    "id": "1qzrd0HuSZlw"
   },
   "source": [
    "# Q-Learning for comparison\n",
    "\n"
   ]
  },
  {
   "cell_type": "code",
   "execution_count": 20,
   "metadata": {
    "colab": {
     "base_uri": "https://localhost:8080/"
    },
    "id": "ToMZzNfbSr9Z",
    "outputId": "548b5ca7-5c79-491a-b3c9-98b3e3863e36"
   },
   "outputs": [
    {
     "name": "stdout",
     "output_type": "stream",
     "text": [
      "Episode 0: Total Reward = 33.0\n",
      "Episode 1000: Total Reward = 112.0\n",
      "Episode 2000: Total Reward = 162.0\n",
      "Episode 3000: Total Reward = 80.0\n",
      "Episode 4000: Total Reward = 153.0\n",
      "Episode 5000: Total Reward = 127.0\n",
      "Episode 6000: Total Reward = 75.0\n",
      "Episode 7000: Total Reward = 136.0\n",
      "Episode 8000: Total Reward = 202.0\n",
      "Episode 9000: Total Reward = 185.0\n",
      "Episode 10000: Total Reward = 244.0\n",
      "Episode 11000: Total Reward = 500.0\n",
      "Episode 12000: Total Reward = 500.0\n",
      "Episode 13000: Total Reward = 500.0\n",
      "Episode 14000: Total Reward = 496.0\n",
      "Episode 15000: Total Reward = 164.0\n",
      "Episode 16000: Total Reward = 263.0\n",
      "Episode 17000: Total Reward = 500.0\n",
      "Episode 18000: Total Reward = 500.0\n",
      "Episode 19000: Total Reward = 500.0\n",
      "Episode 20000: Total Reward = 500.0\n",
      "Episode 21000: Total Reward = 386.0\n",
      "Episode 22000: Total Reward = 500.0\n",
      "Episode 23000: Total Reward = 226.0\n",
      "Episode 24000: Total Reward = 500.0\n",
      "Episode 25000: Total Reward = 409.0\n",
      "Episode 26000: Total Reward = 500.0\n",
      "Episode 27000: Total Reward = 160.0\n",
      "Episode 28000: Total Reward = 500.0\n",
      "Episode 29000: Total Reward = 500.0\n",
      "Episode 30000: Total Reward = 139.0\n",
      "Episode 31000: Total Reward = 500.0\n",
      "Episode 32000: Total Reward = 500.0\n",
      "Episode 33000: Total Reward = 500.0\n",
      "Episode 34000: Total Reward = 184.0\n",
      "Episode 35000: Total Reward = 500.0\n",
      "Episode 36000: Total Reward = 500.0\n",
      "Episode 37000: Total Reward = 327.0\n",
      "Episode 38000: Total Reward = 500.0\n",
      "Episode 39000: Total Reward = 500.0\n",
      "Episode 40000: Total Reward = 294.0\n",
      "Episode 41000: Total Reward = 500.0\n",
      "Episode 42000: Total Reward = 223.0\n",
      "Episode 43000: Total Reward = 469.0\n",
      "Episode 44000: Total Reward = 200.0\n",
      "Episode 45000: Total Reward = 188.0\n",
      "Episode 46000: Total Reward = 493.0\n",
      "Episode 47000: Total Reward = 500.0\n",
      "Episode 48000: Total Reward = 500.0\n",
      "Episode 49000: Total Reward = 227.0\n",
      "✅ Training complete! Q-table updated.\n"
     ]
    }
   ],
   "source": [
    "import gymnasium as gym\n",
    "import numpy as np\n",
    "import time\n",
    "import random\n",
    "from IPython.display import display, clear_output\n",
    "import PIL.Image\n",
    "\n",
    "# Create environment\n",
    "env = gym.make(\"CartPole-v1\", render_mode=\"rgb_array\")\n",
    "\n",
    "# Hyperparameters\n",
    "num_bins = 20  # Number of bins to discretize continuous states\n",
    "alpha = 0.1  # Learning rate\n",
    "gamma = 0.99  # Discount factor\n",
    "epsilon = 1.0  # Initial exploration rate\n",
    "epsilon_min = 0.01  # Minimum exploration rate\n",
    "epsilon_decay = 0.995  # Decay rate for exploration\n",
    "\n",
    "num_episodes = 50_000  # Number of training episodes\n",
    "max_steps_per_episode = 500  # Limit for each episode\n",
    "\n",
    "# Discretization bins\n",
    "state_bins = [\n",
    "    np.linspace(-4.8, 4.8, num_bins),  # Cart Position\n",
    "    np.linspace(-4, 4, num_bins),  # Cart Velocity\n",
    "    np.linspace(-0.418, 0.418, num_bins),  # Pole Angle\n",
    "    np.linspace(-4, 4, num_bins),  # Pole Velocity at Tip\n",
    "]\n",
    "\n",
    "# Q-table (20x20x20x20 states x 2 actions)\n",
    "q_table = np.zeros((num_bins, num_bins, num_bins, num_bins, env.action_space.n))\n",
    "\n",
    "# Function to convert continuous state into discrete bins\n",
    "def discretize_state(state):\n",
    "    indices = tuple(np.digitize(state[i], state_bins[i]) - 1 for i in range(len(state)))\n",
    "    return indices\n",
    "\n",
    "# Training loop\n",
    "for episode in range(num_episodes):\n",
    "    state, _ = env.reset()\n",
    "    state = discretize_state(state)\n",
    "    done = False\n",
    "    total_reward = 0\n",
    "\n",
    "    for step in range(max_steps_per_episode):\n",
    "        # Choose action using epsilon-greedy policy\n",
    "        if random.uniform(0, 1) < epsilon:\n",
    "            action = env.action_space.sample()  # Explore\n",
    "        else:\n",
    "            action = np.argmax(q_table[state])  # Exploit best known action\n",
    "\n",
    "        next_state, reward, done, truncated, _ = env.step(action)\n",
    "        next_state = discretize_state(next_state)\n",
    "\n",
    "        # Update Q-value using the Bellman equation\n",
    "        best_future_q = np.max(q_table[next_state])\n",
    "        q_table[state + (action,)] = (1 - alpha) * q_table[state + (action,)] + alpha * (reward + gamma * best_future_q)\n",
    "\n",
    "        state = next_state\n",
    "        total_reward += reward\n",
    "\n",
    "        if done:\n",
    "            break\n",
    "\n",
    "    # Decay exploration rate\n",
    "    epsilon = max(epsilon_min, epsilon * epsilon_decay)\n",
    "\n",
    "    # Print progress every 1000 episodes\n",
    "    if episode % 1000 == 0:\n",
    "        print(f\"Episode {episode}: Total Reward = {total_reward}\")\n",
    "\n",
    "print(\"✅ Training complete! Q-table updated.\")"
   ]
  },
  {
   "cell_type": "code",
   "execution_count": 21,
   "metadata": {
    "colab": {
     "base_uri": "https://localhost:8080/",
     "height": 628
    },
    "id": "tB0mM3qdSs4S",
    "outputId": "5cd9205c-96cb-4cae-c827-414b0d1142c3"
   },
   "outputs": [
    {
     "name": "stdout",
     "output_type": "stream",
     "text": [
      "🧠 Q-Learning Agent | 🔄 Step: 706\n"
     ]
    },
    {
     "data": {
      "image/jpeg": "[encoded data removed]",
      "image/png": "[encoded data removed]",
      "text/plain": [
       "<PIL.Image.Image image mode=RGB size=600x400>"
      ]
     },
     "metadata": {},
     "output_type": "display_data"
    },
    {
     "name": "stdout",
     "output_type": "stream",
     "text": [
      "🎯 Q-Learning Agent Balanced for 706 Steps! 🎉\n"
     ]
    }
   ],
   "source": [
    "# Test the trained agent\n",
    "num_test_episodes = 1\n",
    "delay_per_step = 0.05  # Slow down visualization\n",
    "\n",
    "for episode in range(1, num_test_episodes + 1):\n",
    "    frames = []\n",
    "    state, _ = env.reset()\n",
    "    state = discretize_state(state)\n",
    "    done = False\n",
    "    step_count = 0\n",
    "\n",
    "    print(f\"🚀 Running Q-Learning Agent - Episode {episode}\")\n",
    "\n",
    "    while not done:\n",
    "        action = np.argmax(q_table[state])  # Choose best action from Q-table\n",
    "        state, reward, done, truncated, _ = env.step(action)\n",
    "        state = discretize_state(state)\n",
    "        step_count += 1\n",
    "\n",
    "        # Capture and display frame\n",
    "        frame = env.render()\n",
    "        frames.append(frame)\n",
    "\n",
    "        clear_output(wait=True)\n",
    "        print(f\"🧠 Q-Learning Agent | 🔄 Step: {step_count}\")\n",
    "        display(PIL.Image.fromarray(frame))\n",
    "\n",
    "        time.sleep(delay_per_step)\n",
    "\n",
    "    print(f\"🎯 Q-Learning Agent Balanced for {step_count} Steps! 🎉\")\n"
   ]
  },
  {
   "cell_type": "markdown",
   "metadata": {},
   "source": []
  },
  {
   "cell_type": "code",
   "execution_count": null,
   "metadata": {},
   "outputs": [],
   "source": []
  }
 ],
 "metadata": {
  "colab": {
   "provenance": []
  },
  "kernelspec": {
   "display_name": "dev",
   "language": "python",
   "name": "python3"
  },
  "language_info": {
   "codemirror_mode": {
    "name": "ipython",
    "version": 3
   },
   "file_extension": ".py",
   "mimetype": "text/x-python",
   "name": "python",
   "nbconvert_exporter": "python",
   "pygments_lexer": "ipython3",
   "version": "3.10.16"
  }
 },
 "nbformat": 4,
 "nbformat_minor": 4
}
